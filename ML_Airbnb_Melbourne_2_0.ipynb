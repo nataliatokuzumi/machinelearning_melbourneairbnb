{
  "nbformat": 4,
  "nbformat_minor": 0,
  "metadata": {
    "colab": {
      "provenance": [],
      "gpuType": "T4"
    },
    "kernelspec": {
      "name": "python3",
      "display_name": "Python 3"
    },
    "language_info": {
      "name": "python"
    },
    "accelerator": "GPU"
  },
  "cells": [
    {
      "cell_type": "markdown",
      "source": [
        "The dataset was downloaded from the 'Inside Airbnb' website, from the city of Melbourne, in Victoria, Australia, and contains information about Airbnb listings.\n"
      ],
      "metadata": {
        "id": "hBGvwNNssjNE"
      }
    },
    {
      "cell_type": "markdown",
      "source": [
        "# Libraries"
      ],
      "metadata": {
        "id": "SaoHth6dGTWE"
      }
    },
    {
      "cell_type": "code",
      "execution_count": 192,
      "metadata": {
        "id": "AU7K7wYf35gH"
      },
      "outputs": [],
      "source": [
        "import pandas as pd\n",
        "import numpy as np\n",
        "import matplotlib.pyplot as plt\n",
        "import seaborn as sns\n",
        "\n",
        "from sklearn.impute import SimpleImputer\n",
        "from sklearn.impute import KNNImputer\n",
        "\n",
        "from sklearn.preprocessing import OneHotEncoder, LabelEncoder\n",
        "from sklearn.model_selection import train_test_split\n",
        "from sklearn.preprocessing import MinMaxScaler\n",
        "\n",
        "from sklearn.linear_model import LinearRegression\n",
        "from sklearn.metrics import r2_score, mean_absolute_error, mean_squared_error\n",
        "\n",
        "from sklearn.ensemble import RandomForestRegressor\n",
        "\n",
        "from sklearn.tree import DecisionTreeRegressor\n",
        "from sklearn.tree import plot_tree\n",
        "\n",
        "from sklearn.metrics import ConfusionMatrixDisplay\n",
        "from sklearn.metrics import classification_report\n",
        "\n",
        "from imblearn.over_sampling import SMOTE\n",
        "from sklearn.tree import DecisionTreeClassifier\n",
        "from sklearn.linear_model import LogisticRegression"
      ]
    },
    {
      "cell_type": "markdown",
      "source": [
        "# Uploading and understanding the dataset"
      ],
      "metadata": {
        "id": "gt8TD0PTBxrg"
      }
    },
    {
      "cell_type": "code",
      "source": [
        "df = pd.read_csv('/content/listings.csv', engine='python', on_bad_lines='skip')"
      ],
      "metadata": {
        "id": "TjtUxJ0xEAGB"
      },
      "execution_count": 193,
      "outputs": []
    },
    {
      "cell_type": "code",
      "source": [
        "df.head()"
      ],
      "metadata": {
        "id": "oDMa6rizEPFy",
        "colab": {
          "base_uri": "https://localhost:8080/",
          "height": 0
        },
        "outputId": "b98b6d58-1028-47c8-8556-867395751296"
      },
      "execution_count": 194,
      "outputs": [
        {
          "output_type": "execute_result",
          "data": {
            "text/plain": [
              "      id                         listing_url       scrape_id last_scraped  \\\n",
              "0  10803  https://www.airbnb.com/rooms/10803  20230606220121   2023-06-07   \n",
              "1  12936  https://www.airbnb.com/rooms/12936  20230606220121   2023-06-07   \n",
              "2  41836  https://www.airbnb.com/rooms/41836  20230606220121   2023-06-07   \n",
              "3  43429  https://www.airbnb.com/rooms/43429  20230606220121   2023-06-07   \n",
              "4  38271  https://www.airbnb.com/rooms/38271  20230606220121   2023-06-07   \n",
              "\n",
              "            source                                               name  \\\n",
              "0      city scrape  Rental unit in Brunswick East · ★4.49 · 1 bedr...   \n",
              "1  previous scrape  Rental unit in St Kilda · ★4.68 · 1 bedroom · ...   \n",
              "2  previous scrape  Home in Reservoir · ★4.71 · 1 bedroom · 1 bed ...   \n",
              "3      city scrape  Rental unit in Oakleigh East · ★4.87 · 1 bedro...   \n",
              "4      city scrape  Rental unit in Berwick · ★4.86 · 3 bedrooms · ...   \n",
              "\n",
              "                                         description  \\\n",
              "0  A large air conditioned room with firm queen s...   \n",
              "1  RIGHT IN THE HEART OF ST KILDA! It doesn't get...   \n",
              "2  Easy to travel from and to the Airport; quiet ...   \n",
              "3  SPECIAL NOTICE - We are excited to announce bu...   \n",
              "4  After hosting many guests from all over the wo...   \n",
              "\n",
              "                               neighborhood_overview  \\\n",
              "0  This hip area is a crossroads between two grea...   \n",
              "1  A stay at our apartment means you can enjoy so...   \n",
              "2  The neighbours are quiet and friendly,  please...   \n",
              "3  Oakleigh is one of the most convenient and div...   \n",
              "4  Our street is quiet & secluded but within walk...   \n",
              "\n",
              "                                         picture_url  host_id  ...  \\\n",
              "0  https://a0.muscache.com/pictures/e5f30dd1-ac57...    38901  ...   \n",
              "1  https://a0.muscache.com/pictures/59701/2e8cdaf...    50121  ...   \n",
              "2  https://a0.muscache.com/pictures/569696dd-1ad0...   182833  ...   \n",
              "3  https://a0.muscache.com/pictures/8c6284de-36de...   189684  ...   \n",
              "4  https://a0.muscache.com/pictures/1182791/3bf4b...   164193  ...   \n",
              "\n",
              "  review_scores_communication review_scores_location review_scores_value  \\\n",
              "0                        4.69                   4.65                4.60   \n",
              "1                        4.83                   4.78                4.66   \n",
              "2                        4.83                   4.39                4.69   \n",
              "3                        4.93                   4.79                4.86   \n",
              "4                        4.93                   4.90                4.87   \n",
              "\n",
              "  license instant_bookable calculated_host_listings_count  \\\n",
              "0     NaN                f                              1   \n",
              "1     NaN                f                             10   \n",
              "2     NaN                f                              2   \n",
              "3     NaN                f                              3   \n",
              "4     NaN                f                              1   \n",
              "\n",
              "  calculated_host_listings_count_entire_homes  \\\n",
              "0                                           0   \n",
              "1                                          10   \n",
              "2                                           0   \n",
              "3                                           3   \n",
              "4                                           1   \n",
              "\n",
              "  calculated_host_listings_count_private_rooms  \\\n",
              "0                                            1   \n",
              "1                                            0   \n",
              "2                                            2   \n",
              "3                                            0   \n",
              "4                                            0   \n",
              "\n",
              "  calculated_host_listings_count_shared_rooms reviews_per_month  \n",
              "0                                           0              1.35  \n",
              "1                                           0              0.27  \n",
              "2                                           0              1.04  \n",
              "3                                           0              1.61  \n",
              "4                                           0              1.44  \n",
              "\n",
              "[5 rows x 75 columns]"
            ],
            "text/html": [
              "\n",
              "  <div id=\"df-73fa8d9e-2a0e-4367-925c-383735aec4ac\" class=\"colab-df-container\">\n",
              "    <div>\n",
              "<style scoped>\n",
              "    .dataframe tbody tr th:only-of-type {\n",
              "        vertical-align: middle;\n",
              "    }\n",
              "\n",
              "    .dataframe tbody tr th {\n",
              "        vertical-align: top;\n",
              "    }\n",
              "\n",
              "    .dataframe thead th {\n",
              "        text-align: right;\n",
              "    }\n",
              "</style>\n",
              "<table border=\"1\" class=\"dataframe\">\n",
              "  <thead>\n",
              "    <tr style=\"text-align: right;\">\n",
              "      <th></th>\n",
              "      <th>id</th>\n",
              "      <th>listing_url</th>\n",
              "      <th>scrape_id</th>\n",
              "      <th>last_scraped</th>\n",
              "      <th>source</th>\n",
              "      <th>name</th>\n",
              "      <th>description</th>\n",
              "      <th>neighborhood_overview</th>\n",
              "      <th>picture_url</th>\n",
              "      <th>host_id</th>\n",
              "      <th>...</th>\n",
              "      <th>review_scores_communication</th>\n",
              "      <th>review_scores_location</th>\n",
              "      <th>review_scores_value</th>\n",
              "      <th>license</th>\n",
              "      <th>instant_bookable</th>\n",
              "      <th>calculated_host_listings_count</th>\n",
              "      <th>calculated_host_listings_count_entire_homes</th>\n",
              "      <th>calculated_host_listings_count_private_rooms</th>\n",
              "      <th>calculated_host_listings_count_shared_rooms</th>\n",
              "      <th>reviews_per_month</th>\n",
              "    </tr>\n",
              "  </thead>\n",
              "  <tbody>\n",
              "    <tr>\n",
              "      <th>0</th>\n",
              "      <td>10803</td>\n",
              "      <td>https://www.airbnb.com/rooms/10803</td>\n",
              "      <td>20230606220121</td>\n",
              "      <td>2023-06-07</td>\n",
              "      <td>city scrape</td>\n",
              "      <td>Rental unit in Brunswick East · ★4.49 · 1 bedr...</td>\n",
              "      <td>A large air conditioned room with firm queen s...</td>\n",
              "      <td>This hip area is a crossroads between two grea...</td>\n",
              "      <td>https://a0.muscache.com/pictures/e5f30dd1-ac57...</td>\n",
              "      <td>38901</td>\n",
              "      <td>...</td>\n",
              "      <td>4.69</td>\n",
              "      <td>4.65</td>\n",
              "      <td>4.60</td>\n",
              "      <td>NaN</td>\n",
              "      <td>f</td>\n",
              "      <td>1</td>\n",
              "      <td>0</td>\n",
              "      <td>1</td>\n",
              "      <td>0</td>\n",
              "      <td>1.35</td>\n",
              "    </tr>\n",
              "    <tr>\n",
              "      <th>1</th>\n",
              "      <td>12936</td>\n",
              "      <td>https://www.airbnb.com/rooms/12936</td>\n",
              "      <td>20230606220121</td>\n",
              "      <td>2023-06-07</td>\n",
              "      <td>previous scrape</td>\n",
              "      <td>Rental unit in St Kilda · ★4.68 · 1 bedroom · ...</td>\n",
              "      <td>RIGHT IN THE HEART OF ST KILDA! It doesn't get...</td>\n",
              "      <td>A stay at our apartment means you can enjoy so...</td>\n",
              "      <td>https://a0.muscache.com/pictures/59701/2e8cdaf...</td>\n",
              "      <td>50121</td>\n",
              "      <td>...</td>\n",
              "      <td>4.83</td>\n",
              "      <td>4.78</td>\n",
              "      <td>4.66</td>\n",
              "      <td>NaN</td>\n",
              "      <td>f</td>\n",
              "      <td>10</td>\n",
              "      <td>10</td>\n",
              "      <td>0</td>\n",
              "      <td>0</td>\n",
              "      <td>0.27</td>\n",
              "    </tr>\n",
              "    <tr>\n",
              "      <th>2</th>\n",
              "      <td>41836</td>\n",
              "      <td>https://www.airbnb.com/rooms/41836</td>\n",
              "      <td>20230606220121</td>\n",
              "      <td>2023-06-07</td>\n",
              "      <td>previous scrape</td>\n",
              "      <td>Home in Reservoir · ★4.71 · 1 bedroom · 1 bed ...</td>\n",
              "      <td>Easy to travel from and to the Airport; quiet ...</td>\n",
              "      <td>The neighbours are quiet and friendly,  please...</td>\n",
              "      <td>https://a0.muscache.com/pictures/569696dd-1ad0...</td>\n",
              "      <td>182833</td>\n",
              "      <td>...</td>\n",
              "      <td>4.83</td>\n",
              "      <td>4.39</td>\n",
              "      <td>4.69</td>\n",
              "      <td>NaN</td>\n",
              "      <td>f</td>\n",
              "      <td>2</td>\n",
              "      <td>0</td>\n",
              "      <td>2</td>\n",
              "      <td>0</td>\n",
              "      <td>1.04</td>\n",
              "    </tr>\n",
              "    <tr>\n",
              "      <th>3</th>\n",
              "      <td>43429</td>\n",
              "      <td>https://www.airbnb.com/rooms/43429</td>\n",
              "      <td>20230606220121</td>\n",
              "      <td>2023-06-07</td>\n",
              "      <td>city scrape</td>\n",
              "      <td>Rental unit in Oakleigh East · ★4.87 · 1 bedro...</td>\n",
              "      <td>SPECIAL NOTICE - We are excited to announce bu...</td>\n",
              "      <td>Oakleigh is one of the most convenient and div...</td>\n",
              "      <td>https://a0.muscache.com/pictures/8c6284de-36de...</td>\n",
              "      <td>189684</td>\n",
              "      <td>...</td>\n",
              "      <td>4.93</td>\n",
              "      <td>4.79</td>\n",
              "      <td>4.86</td>\n",
              "      <td>NaN</td>\n",
              "      <td>f</td>\n",
              "      <td>3</td>\n",
              "      <td>3</td>\n",
              "      <td>0</td>\n",
              "      <td>0</td>\n",
              "      <td>1.61</td>\n",
              "    </tr>\n",
              "    <tr>\n",
              "      <th>4</th>\n",
              "      <td>38271</td>\n",
              "      <td>https://www.airbnb.com/rooms/38271</td>\n",
              "      <td>20230606220121</td>\n",
              "      <td>2023-06-07</td>\n",
              "      <td>city scrape</td>\n",
              "      <td>Rental unit in Berwick · ★4.86 · 3 bedrooms · ...</td>\n",
              "      <td>After hosting many guests from all over the wo...</td>\n",
              "      <td>Our street is quiet &amp; secluded but within walk...</td>\n",
              "      <td>https://a0.muscache.com/pictures/1182791/3bf4b...</td>\n",
              "      <td>164193</td>\n",
              "      <td>...</td>\n",
              "      <td>4.93</td>\n",
              "      <td>4.90</td>\n",
              "      <td>4.87</td>\n",
              "      <td>NaN</td>\n",
              "      <td>f</td>\n",
              "      <td>1</td>\n",
              "      <td>1</td>\n",
              "      <td>0</td>\n",
              "      <td>0</td>\n",
              "      <td>1.44</td>\n",
              "    </tr>\n",
              "  </tbody>\n",
              "</table>\n",
              "<p>5 rows × 75 columns</p>\n",
              "</div>\n",
              "    <div class=\"colab-df-buttons\">\n",
              "\n",
              "  <div class=\"colab-df-container\">\n",
              "    <button class=\"colab-df-convert\" onclick=\"convertToInteractive('df-73fa8d9e-2a0e-4367-925c-383735aec4ac')\"\n",
              "            title=\"Convert this dataframe to an interactive table.\"\n",
              "            style=\"display:none;\">\n",
              "\n",
              "  <svg xmlns=\"http://www.w3.org/2000/svg\" height=\"24px\" viewBox=\"0 -960 960 960\">\n",
              "    <path d=\"M120-120v-720h720v720H120Zm60-500h600v-160H180v160Zm220 220h160v-160H400v160Zm0 220h160v-160H400v160ZM180-400h160v-160H180v160Zm440 0h160v-160H620v160ZM180-180h160v-160H180v160Zm440 0h160v-160H620v160Z\"/>\n",
              "  </svg>\n",
              "    </button>\n",
              "\n",
              "  <style>\n",
              "    .colab-df-container {\n",
              "      display:flex;\n",
              "      gap: 12px;\n",
              "    }\n",
              "\n",
              "    .colab-df-convert {\n",
              "      background-color: #E8F0FE;\n",
              "      border: none;\n",
              "      border-radius: 50%;\n",
              "      cursor: pointer;\n",
              "      display: none;\n",
              "      fill: #1967D2;\n",
              "      height: 32px;\n",
              "      padding: 0 0 0 0;\n",
              "      width: 32px;\n",
              "    }\n",
              "\n",
              "    .colab-df-convert:hover {\n",
              "      background-color: #E2EBFA;\n",
              "      box-shadow: 0px 1px 2px rgba(60, 64, 67, 0.3), 0px 1px 3px 1px rgba(60, 64, 67, 0.15);\n",
              "      fill: #174EA6;\n",
              "    }\n",
              "\n",
              "    .colab-df-buttons div {\n",
              "      margin-bottom: 4px;\n",
              "    }\n",
              "\n",
              "    [theme=dark] .colab-df-convert {\n",
              "      background-color: #3B4455;\n",
              "      fill: #D2E3FC;\n",
              "    }\n",
              "\n",
              "    [theme=dark] .colab-df-convert:hover {\n",
              "      background-color: #434B5C;\n",
              "      box-shadow: 0px 1px 3px 1px rgba(0, 0, 0, 0.15);\n",
              "      filter: drop-shadow(0px 1px 2px rgba(0, 0, 0, 0.3));\n",
              "      fill: #FFFFFF;\n",
              "    }\n",
              "  </style>\n",
              "\n",
              "    <script>\n",
              "      const buttonEl =\n",
              "        document.querySelector('#df-73fa8d9e-2a0e-4367-925c-383735aec4ac button.colab-df-convert');\n",
              "      buttonEl.style.display =\n",
              "        google.colab.kernel.accessAllowed ? 'block' : 'none';\n",
              "\n",
              "      async function convertToInteractive(key) {\n",
              "        const element = document.querySelector('#df-73fa8d9e-2a0e-4367-925c-383735aec4ac');\n",
              "        const dataTable =\n",
              "          await google.colab.kernel.invokeFunction('convertToInteractive',\n",
              "                                                    [key], {});\n",
              "        if (!dataTable) return;\n",
              "\n",
              "        const docLinkHtml = 'Like what you see? Visit the ' +\n",
              "          '<a target=\"_blank\" href=https://colab.research.google.com/notebooks/data_table.ipynb>data table notebook</a>'\n",
              "          + ' to learn more about interactive tables.';\n",
              "        element.innerHTML = '';\n",
              "        dataTable['output_type'] = 'display_data';\n",
              "        await google.colab.output.renderOutput(dataTable, element);\n",
              "        const docLink = document.createElement('div');\n",
              "        docLink.innerHTML = docLinkHtml;\n",
              "        element.appendChild(docLink);\n",
              "      }\n",
              "    </script>\n",
              "  </div>\n",
              "\n",
              "\n",
              "<div id=\"df-4e524132-ef2a-4bae-b355-6c88ef086744\">\n",
              "  <button class=\"colab-df-quickchart\" onclick=\"quickchart('df-4e524132-ef2a-4bae-b355-6c88ef086744')\"\n",
              "            title=\"Suggest charts.\"\n",
              "            style=\"display:none;\">\n",
              "\n",
              "<svg xmlns=\"http://www.w3.org/2000/svg\" height=\"24px\"viewBox=\"0 0 24 24\"\n",
              "     width=\"24px\">\n",
              "    <g>\n",
              "        <path d=\"M19 3H5c-1.1 0-2 .9-2 2v14c0 1.1.9 2 2 2h14c1.1 0 2-.9 2-2V5c0-1.1-.9-2-2-2zM9 17H7v-7h2v7zm4 0h-2V7h2v10zm4 0h-2v-4h2v4z\"/>\n",
              "    </g>\n",
              "</svg>\n",
              "  </button>\n",
              "\n",
              "<style>\n",
              "  .colab-df-quickchart {\n",
              "      --bg-color: #E8F0FE;\n",
              "      --fill-color: #1967D2;\n",
              "      --hover-bg-color: #E2EBFA;\n",
              "      --hover-fill-color: #174EA6;\n",
              "      --disabled-fill-color: #AAA;\n",
              "      --disabled-bg-color: #DDD;\n",
              "  }\n",
              "\n",
              "  [theme=dark] .colab-df-quickchart {\n",
              "      --bg-color: #3B4455;\n",
              "      --fill-color: #D2E3FC;\n",
              "      --hover-bg-color: #434B5C;\n",
              "      --hover-fill-color: #FFFFFF;\n",
              "      --disabled-bg-color: #3B4455;\n",
              "      --disabled-fill-color: #666;\n",
              "  }\n",
              "\n",
              "  .colab-df-quickchart {\n",
              "    background-color: var(--bg-color);\n",
              "    border: none;\n",
              "    border-radius: 50%;\n",
              "    cursor: pointer;\n",
              "    display: none;\n",
              "    fill: var(--fill-color);\n",
              "    height: 32px;\n",
              "    padding: 0;\n",
              "    width: 32px;\n",
              "  }\n",
              "\n",
              "  .colab-df-quickchart:hover {\n",
              "    background-color: var(--hover-bg-color);\n",
              "    box-shadow: 0 1px 2px rgba(60, 64, 67, 0.3), 0 1px 3px 1px rgba(60, 64, 67, 0.15);\n",
              "    fill: var(--button-hover-fill-color);\n",
              "  }\n",
              "\n",
              "  .colab-df-quickchart-complete:disabled,\n",
              "  .colab-df-quickchart-complete:disabled:hover {\n",
              "    background-color: var(--disabled-bg-color);\n",
              "    fill: var(--disabled-fill-color);\n",
              "    box-shadow: none;\n",
              "  }\n",
              "\n",
              "  .colab-df-spinner {\n",
              "    border: 2px solid var(--fill-color);\n",
              "    border-color: transparent;\n",
              "    border-bottom-color: var(--fill-color);\n",
              "    animation:\n",
              "      spin 1s steps(1) infinite;\n",
              "  }\n",
              "\n",
              "  @keyframes spin {\n",
              "    0% {\n",
              "      border-color: transparent;\n",
              "      border-bottom-color: var(--fill-color);\n",
              "      border-left-color: var(--fill-color);\n",
              "    }\n",
              "    20% {\n",
              "      border-color: transparent;\n",
              "      border-left-color: var(--fill-color);\n",
              "      border-top-color: var(--fill-color);\n",
              "    }\n",
              "    30% {\n",
              "      border-color: transparent;\n",
              "      border-left-color: var(--fill-color);\n",
              "      border-top-color: var(--fill-color);\n",
              "      border-right-color: var(--fill-color);\n",
              "    }\n",
              "    40% {\n",
              "      border-color: transparent;\n",
              "      border-right-color: var(--fill-color);\n",
              "      border-top-color: var(--fill-color);\n",
              "    }\n",
              "    60% {\n",
              "      border-color: transparent;\n",
              "      border-right-color: var(--fill-color);\n",
              "    }\n",
              "    80% {\n",
              "      border-color: transparent;\n",
              "      border-right-color: var(--fill-color);\n",
              "      border-bottom-color: var(--fill-color);\n",
              "    }\n",
              "    90% {\n",
              "      border-color: transparent;\n",
              "      border-bottom-color: var(--fill-color);\n",
              "    }\n",
              "  }\n",
              "</style>\n",
              "\n",
              "  <script>\n",
              "    async function quickchart(key) {\n",
              "      const quickchartButtonEl =\n",
              "        document.querySelector('#' + key + ' button');\n",
              "      quickchartButtonEl.disabled = true;  // To prevent multiple clicks.\n",
              "      quickchartButtonEl.classList.add('colab-df-spinner');\n",
              "      try {\n",
              "        const charts = await google.colab.kernel.invokeFunction(\n",
              "            'suggestCharts', [key], {});\n",
              "      } catch (error) {\n",
              "        console.error('Error during call to suggestCharts:', error);\n",
              "      }\n",
              "      quickchartButtonEl.classList.remove('colab-df-spinner');\n",
              "      quickchartButtonEl.classList.add('colab-df-quickchart-complete');\n",
              "    }\n",
              "    (() => {\n",
              "      let quickchartButtonEl =\n",
              "        document.querySelector('#df-4e524132-ef2a-4bae-b355-6c88ef086744 button');\n",
              "      quickchartButtonEl.style.display =\n",
              "        google.colab.kernel.accessAllowed ? 'block' : 'none';\n",
              "    })();\n",
              "  </script>\n",
              "</div>\n",
              "    </div>\n",
              "  </div>\n"
            ]
          },
          "metadata": {},
          "execution_count": 194
        }
      ]
    },
    {
      "cell_type": "code",
      "source": [
        "df.info()"
      ],
      "metadata": {
        "id": "8N6ujNJsHfpU",
        "colab": {
          "base_uri": "https://localhost:8080/"
        },
        "outputId": "6590930e-1201-4f4c-cd8b-486bb1519a7c"
      },
      "execution_count": 195,
      "outputs": [
        {
          "output_type": "stream",
          "name": "stdout",
          "text": [
            "<class 'pandas.core.frame.DataFrame'>\n",
            "RangeIndex: 22253 entries, 0 to 22252\n",
            "Data columns (total 75 columns):\n",
            " #   Column                                        Non-Null Count  Dtype  \n",
            "---  ------                                        --------------  -----  \n",
            " 0   id                                            22253 non-null  int64  \n",
            " 1   listing_url                                   22253 non-null  object \n",
            " 2   scrape_id                                     22253 non-null  int64  \n",
            " 3   last_scraped                                  22253 non-null  object \n",
            " 4   source                                        22253 non-null  object \n",
            " 5   name                                          22253 non-null  object \n",
            " 6   description                                   21893 non-null  object \n",
            " 7   neighborhood_overview                         12810 non-null  object \n",
            " 8   picture_url                                   22253 non-null  object \n",
            " 9   host_id                                       22253 non-null  int64  \n",
            " 10  host_url                                      22253 non-null  object \n",
            " 11  host_name                                     22251 non-null  object \n",
            " 12  host_since                                    22251 non-null  object \n",
            " 13  host_location                                 16692 non-null  object \n",
            " 14  host_about                                    12452 non-null  object \n",
            " 15  host_response_time                            14198 non-null  object \n",
            " 16  host_response_rate                            14198 non-null  object \n",
            " 17  host_acceptance_rate                          15341 non-null  object \n",
            " 18  host_is_superhost                             16925 non-null  object \n",
            " 19  host_thumbnail_url                            22251 non-null  object \n",
            " 20  host_picture_url                              22251 non-null  object \n",
            " 21  host_neighbourhood                            8662 non-null   object \n",
            " 22  host_listings_count                           22251 non-null  float64\n",
            " 23  host_total_listings_count                     22251 non-null  float64\n",
            " 24  host_verifications                            22253 non-null  object \n",
            " 25  host_has_profile_pic                          22251 non-null  object \n",
            " 26  host_identity_verified                        22251 non-null  object \n",
            " 27  neighbourhood                                 12811 non-null  object \n",
            " 28  neighbourhood_cleansed                        22253 non-null  object \n",
            " 29  neighbourhood_group_cleansed                  0 non-null      float64\n",
            " 30  latitude                                      22253 non-null  float64\n",
            " 31  longitude                                     22253 non-null  float64\n",
            " 32  property_type                                 22253 non-null  object \n",
            " 33  room_type                                     22253 non-null  object \n",
            " 34  accommodates                                  22253 non-null  int64  \n",
            " 35  bathrooms                                     0 non-null      float64\n",
            " 36  bathrooms_text                                22240 non-null  object \n",
            " 37  bedrooms                                      16185 non-null  float64\n",
            " 38  beds                                          22054 non-null  float64\n",
            " 39  amenities                                     22253 non-null  object \n",
            " 40  price                                         22253 non-null  object \n",
            " 41  minimum_nights                                22253 non-null  int64  \n",
            " 42  maximum_nights                                22253 non-null  int64  \n",
            " 43  minimum_minimum_nights                        22253 non-null  int64  \n",
            " 44  maximum_minimum_nights                        22253 non-null  int64  \n",
            " 45  minimum_maximum_nights                        22253 non-null  int64  \n",
            " 46  maximum_maximum_nights                        22253 non-null  int64  \n",
            " 47  minimum_nights_avg_ntm                        22253 non-null  float64\n",
            " 48  maximum_nights_avg_ntm                        22253 non-null  float64\n",
            " 49  calendar_updated                              0 non-null      float64\n",
            " 50  has_availability                              22253 non-null  object \n",
            " 51  availability_30                               22253 non-null  int64  \n",
            " 52  availability_60                               22253 non-null  int64  \n",
            " 53  availability_90                               22253 non-null  int64  \n",
            " 54  availability_365                              22253 non-null  int64  \n",
            " 55  calendar_last_scraped                         22253 non-null  object \n",
            " 56  number_of_reviews                             22253 non-null  int64  \n",
            " 57  number_of_reviews_ltm                         22253 non-null  int64  \n",
            " 58  number_of_reviews_l30d                        22253 non-null  int64  \n",
            " 59  first_review                                  17909 non-null  object \n",
            " 60  last_review                                   17909 non-null  object \n",
            " 61  review_scores_rating                          17909 non-null  float64\n",
            " 62  review_scores_accuracy                        17659 non-null  float64\n",
            " 63  review_scores_cleanliness                     17662 non-null  float64\n",
            " 64  review_scores_checkin                         17656 non-null  float64\n",
            " 65  review_scores_communication                   17662 non-null  float64\n",
            " 66  review_scores_location                        17657 non-null  float64\n",
            " 67  review_scores_value                           17657 non-null  float64\n",
            " 68  license                                       0 non-null      float64\n",
            " 69  instant_bookable                              22253 non-null  object \n",
            " 70  calculated_host_listings_count                22253 non-null  int64  \n",
            " 71  calculated_host_listings_count_entire_homes   22253 non-null  int64  \n",
            " 72  calculated_host_listings_count_private_rooms  22253 non-null  int64  \n",
            " 73  calculated_host_listings_count_shared_rooms   22253 non-null  int64  \n",
            " 74  reviews_per_month                             17909 non-null  float64\n",
            "dtypes: float64(20), int64(21), object(34)\n",
            "memory usage: 12.7+ MB\n"
          ]
        }
      ]
    },
    {
      "cell_type": "code",
      "source": [
        "df.last_scraped.value_counts()"
      ],
      "metadata": {
        "id": "Qq7ATOOEkF-K",
        "colab": {
          "base_uri": "https://localhost:8080/"
        },
        "outputId": "d74c2cce-b6cf-46c2-9178-59ce7d0ac03b"
      },
      "execution_count": 196,
      "outputs": [
        {
          "output_type": "execute_result",
          "data": {
            "text/plain": [
              "2023-06-07    22253\n",
              "Name: last_scraped, dtype: int64"
            ]
          },
          "metadata": {},
          "execution_count": 196
        }
      ]
    },
    {
      "cell_type": "code",
      "source": [
        "df.amenities[0]"
      ],
      "metadata": {
        "id": "Zoi17lkTzTZL",
        "colab": {
          "base_uri": "https://localhost:8080/",
          "height": 0
        },
        "outputId": "cde12ffa-5abc-4623-9cb3-abb8605b3edd"
      },
      "execution_count": 197,
      "outputs": [
        {
          "output_type": "execute_result",
          "data": {
            "text/plain": [
              "'[\"Cooking basics\", \"Security cameras on property\", \"Bathtub\", \"Wifi \\\\u2013 24 Mbps\", \"Radiant heating\", \"Luggage dropoff allowed\", \"Dishes and silverware\", \"Kitchen\", \"Freezer\", \"Body soap\", \"Carbon monoxide alarm\", \"Shampoo\", \"Drying rack for clothing\", \"Microwave\", \"Hot water\", \"Chef oven\", \"Outdoor dining area\", \"Clothing storage: wardrobe\", \"Bed linens\", \"Stove\", \"Hangers\", \"Iron\", \"Portable fans\", \"Room-darkening shades\", \"Wine glasses\", \"Books and reading material\", \"Free washer \\\\u2013 In unit\", \"27\\\\\" HDTV with Netflix\", \"Toaster\", \"Hair dryer\", \"Smoke alarm\", \"Blender\", \"Self check-in\", \"Conditioner\", \"Barbecue utensils\", \"First aid kit\", \"Dedicated workspace\", \"Portable air conditioning\", \"Ethernet connection\", \"Dining table\", \"Shower gel\", \"Lock on bedroom door\", \"Bikes\", \"Shared backyard \\\\u2013 Fully fenced\", \"Laundromat nearby\", \"Pets allowed\", \"Extra pillows and blankets\", \"Keypad\", \"Baking sheet\", \"Fire extinguisher\", \"Cleaning products\", \"Refrigerator\", \"Hot water kettle\", \"Outdoor furniture\", \"Essentials\", \"BBQ grill: gas\", \"Rice maker\"]'"
            ],
            "application/vnd.google.colaboratory.intrinsic+json": {
              "type": "string"
            }
          },
          "metadata": {},
          "execution_count": 197
        }
      ]
    },
    {
      "cell_type": "code",
      "source": [
        "unique_columns = ['id', 'listing_url', 'scrape_id', 'name', 'description', 'neighborhood_overview', 'picture_url']\n",
        "\n",
        "for col in unique_columns:\n",
        "  print(df[col].shape, df[col].nunique())"
      ],
      "metadata": {
        "colab": {
          "base_uri": "https://localhost:8080/"
        },
        "id": "A0PAR-VtrUqo",
        "outputId": "e5ef89aa-9111-43c6-b6e3-fd05da1e952a"
      },
      "execution_count": 198,
      "outputs": [
        {
          "output_type": "stream",
          "name": "stdout",
          "text": [
            "(22253,) 22253\n",
            "(22253,) 22253\n",
            "(22253,) 1\n",
            "(22253,) 16204\n",
            "(22253,) 20503\n",
            "(22253,) 10796\n",
            "(22253,) 21726\n"
          ]
        }
      ]
    },
    {
      "cell_type": "markdown",
      "source": [
        "\n",
        "The dataset contains 22.253 entries of Airbnb listings scraped from the Airbnb website in june, 2023. There are 75 features.\n",
        "\n",
        "1.   4 features contain only nulls (neighbourhood_group_cleansed, bathrooms, calendar_updated and license)\n",
        "2.   Some features are supposed to be composed by unique values, so they won't be providing relevant information for this analysis (id, listing_url, scrape_id, name, description, neighborhood_overview, picture_url)\n",
        "3. There are 22 features about the host\n",
        "4. There are 3 features about the neighbourhood and features for latitude and longitude\n",
        "5. There are 15 features with information from the calendar, which shows future bookings (so there is no information from the past)\n",
        "6. There are 13 features about reviews\n",
        "7. The 'amenities' feature has objects that contain a list of all the amenities a listing has.\n",
        "\n"
      ],
      "metadata": {
        "id": "bPpJLcBng9RE"
      }
    },
    {
      "cell_type": "markdown",
      "source": [
        "# Creating a dataframe for a first analysis"
      ],
      "metadata": {
        "id": "n1T3X_zUfqy8"
      }
    },
    {
      "cell_type": "code",
      "source": [
        "df.columns.values"
      ],
      "metadata": {
        "id": "Hyx-M6igx3aY",
        "colab": {
          "base_uri": "https://localhost:8080/"
        },
        "outputId": "bc27602f-0bd0-405c-e1b1-be8a753b1e30"
      },
      "execution_count": 199,
      "outputs": [
        {
          "output_type": "execute_result",
          "data": {
            "text/plain": [
              "array(['id', 'listing_url', 'scrape_id', 'last_scraped', 'source', 'name',\n",
              "       'description', 'neighborhood_overview', 'picture_url', 'host_id',\n",
              "       'host_url', 'host_name', 'host_since', 'host_location',\n",
              "       'host_about', 'host_response_time', 'host_response_rate',\n",
              "       'host_acceptance_rate', 'host_is_superhost', 'host_thumbnail_url',\n",
              "       'host_picture_url', 'host_neighbourhood', 'host_listings_count',\n",
              "       'host_total_listings_count', 'host_verifications',\n",
              "       'host_has_profile_pic', 'host_identity_verified', 'neighbourhood',\n",
              "       'neighbourhood_cleansed', 'neighbourhood_group_cleansed',\n",
              "       'latitude', 'longitude', 'property_type', 'room_type',\n",
              "       'accommodates', 'bathrooms', 'bathrooms_text', 'bedrooms', 'beds',\n",
              "       'amenities', 'price', 'minimum_nights', 'maximum_nights',\n",
              "       'minimum_minimum_nights', 'maximum_minimum_nights',\n",
              "       'minimum_maximum_nights', 'maximum_maximum_nights',\n",
              "       'minimum_nights_avg_ntm', 'maximum_nights_avg_ntm',\n",
              "       'calendar_updated', 'has_availability', 'availability_30',\n",
              "       'availability_60', 'availability_90', 'availability_365',\n",
              "       'calendar_last_scraped', 'number_of_reviews',\n",
              "       'number_of_reviews_ltm', 'number_of_reviews_l30d', 'first_review',\n",
              "       'last_review', 'review_scores_rating', 'review_scores_accuracy',\n",
              "       'review_scores_cleanliness', 'review_scores_checkin',\n",
              "       'review_scores_communication', 'review_scores_location',\n",
              "       'review_scores_value', 'license', 'instant_bookable',\n",
              "       'calculated_host_listings_count',\n",
              "       'calculated_host_listings_count_entire_homes',\n",
              "       'calculated_host_listings_count_private_rooms',\n",
              "       'calculated_host_listings_count_shared_rooms', 'reviews_per_month'],\n",
              "      dtype=object)"
            ]
          },
          "metadata": {},
          "execution_count": 199
        }
      ]
    },
    {
      "cell_type": "code",
      "source": [
        "columns_to_keep = [\n",
        "       'neighbourhood_cleansed', 'property_type', 'room_type',\n",
        "       'accommodates', 'bathrooms_text', 'bedrooms', 'beds',\n",
        "       'price', 'minimum_nights', 'number_of_reviews_ltm', 'review_scores_rating']\n",
        "\n",
        "df_sum = df[columns_to_keep]\n",
        "\n",
        "df_sum.columns = [col.strip() for col in df_sum.columns]\n",
        "df_sum"
      ],
      "metadata": {
        "id": "urFcR3g2isoa",
        "colab": {
          "base_uri": "https://localhost:8080/",
          "height": 597
        },
        "outputId": "ed82b6a3-c959-4f33-822a-96b6ebb022d5"
      },
      "execution_count": 200,
      "outputs": [
        {
          "output_type": "execute_result",
          "data": {
            "text/plain": [
              "      neighbourhood_cleansed                property_type        room_type  \\\n",
              "0                   Moreland  Private room in rental unit     Private room   \n",
              "1               Port Phillip           Entire rental unit  Entire home/apt   \n",
              "2                    Darebin         Private room in home     Private room   \n",
              "3                     Monash           Entire rental unit  Entire home/apt   \n",
              "4                      Casey           Entire rental unit  Entire home/apt   \n",
              "...                      ...                          ...              ...   \n",
              "22248              Glen Eira           Entire rental unit  Entire home/apt   \n",
              "22249          Moonee Valley           Entire rental unit  Entire home/apt   \n",
              "22250              Melbourne             Entire townhouse  Entire home/apt   \n",
              "22251              Melbourne           Entire rental unit  Entire home/apt   \n",
              "22252                   Hume         Private room in home     Private room   \n",
              "\n",
              "       accommodates bathrooms_text  bedrooms  beds    price  minimum_nights  \\\n",
              "0                 2  1 shared bath       NaN   1.0   $44.00               7   \n",
              "1                 2         1 bath       1.0   1.0   $95.00               3   \n",
              "2                 2  1 shared bath       NaN   1.0   $40.00               7   \n",
              "3                 2         1 bath       1.0   1.0  $118.00               2   \n",
              "4                 5         1 bath       3.0   3.0  $117.00               1   \n",
              "...             ...            ...       ...   ...      ...             ...   \n",
              "22248             4         1 bath       2.0   3.0  $182.00               3   \n",
              "22249             2         1 bath       1.0   1.0   $70.00               3   \n",
              "22250             4         1 bath       3.0   3.0  $451.00               4   \n",
              "22251             4        2 baths       2.0   2.0  $174.00               1   \n",
              "22252             1      1.5 baths       1.0   1.0   $35.00               1   \n",
              "\n",
              "       number_of_reviews_ltm  review_scores_rating  \n",
              "0                         25                  4.49  \n",
              "1                          0                  4.68  \n",
              "2                          0                  4.71  \n",
              "3                         20                  4.87  \n",
              "4                         35                  4.86  \n",
              "...                      ...                   ...  \n",
              "22248                      0                   NaN  \n",
              "22249                      0                   NaN  \n",
              "22250                      0                   NaN  \n",
              "22251                      0                   NaN  \n",
              "22252                      0                   NaN  \n",
              "\n",
              "[22253 rows x 11 columns]"
            ],
            "text/html": [
              "\n",
              "  <div id=\"df-5daf7657-db32-4a9d-9472-6e2e475341f9\" class=\"colab-df-container\">\n",
              "    <div>\n",
              "<style scoped>\n",
              "    .dataframe tbody tr th:only-of-type {\n",
              "        vertical-align: middle;\n",
              "    }\n",
              "\n",
              "    .dataframe tbody tr th {\n",
              "        vertical-align: top;\n",
              "    }\n",
              "\n",
              "    .dataframe thead th {\n",
              "        text-align: right;\n",
              "    }\n",
              "</style>\n",
              "<table border=\"1\" class=\"dataframe\">\n",
              "  <thead>\n",
              "    <tr style=\"text-align: right;\">\n",
              "      <th></th>\n",
              "      <th>neighbourhood_cleansed</th>\n",
              "      <th>property_type</th>\n",
              "      <th>room_type</th>\n",
              "      <th>accommodates</th>\n",
              "      <th>bathrooms_text</th>\n",
              "      <th>bedrooms</th>\n",
              "      <th>beds</th>\n",
              "      <th>price</th>\n",
              "      <th>minimum_nights</th>\n",
              "      <th>number_of_reviews_ltm</th>\n",
              "      <th>review_scores_rating</th>\n",
              "    </tr>\n",
              "  </thead>\n",
              "  <tbody>\n",
              "    <tr>\n",
              "      <th>0</th>\n",
              "      <td>Moreland</td>\n",
              "      <td>Private room in rental unit</td>\n",
              "      <td>Private room</td>\n",
              "      <td>2</td>\n",
              "      <td>1 shared bath</td>\n",
              "      <td>NaN</td>\n",
              "      <td>1.0</td>\n",
              "      <td>$44.00</td>\n",
              "      <td>7</td>\n",
              "      <td>25</td>\n",
              "      <td>4.49</td>\n",
              "    </tr>\n",
              "    <tr>\n",
              "      <th>1</th>\n",
              "      <td>Port Phillip</td>\n",
              "      <td>Entire rental unit</td>\n",
              "      <td>Entire home/apt</td>\n",
              "      <td>2</td>\n",
              "      <td>1 bath</td>\n",
              "      <td>1.0</td>\n",
              "      <td>1.0</td>\n",
              "      <td>$95.00</td>\n",
              "      <td>3</td>\n",
              "      <td>0</td>\n",
              "      <td>4.68</td>\n",
              "    </tr>\n",
              "    <tr>\n",
              "      <th>2</th>\n",
              "      <td>Darebin</td>\n",
              "      <td>Private room in home</td>\n",
              "      <td>Private room</td>\n",
              "      <td>2</td>\n",
              "      <td>1 shared bath</td>\n",
              "      <td>NaN</td>\n",
              "      <td>1.0</td>\n",
              "      <td>$40.00</td>\n",
              "      <td>7</td>\n",
              "      <td>0</td>\n",
              "      <td>4.71</td>\n",
              "    </tr>\n",
              "    <tr>\n",
              "      <th>3</th>\n",
              "      <td>Monash</td>\n",
              "      <td>Entire rental unit</td>\n",
              "      <td>Entire home/apt</td>\n",
              "      <td>2</td>\n",
              "      <td>1 bath</td>\n",
              "      <td>1.0</td>\n",
              "      <td>1.0</td>\n",
              "      <td>$118.00</td>\n",
              "      <td>2</td>\n",
              "      <td>20</td>\n",
              "      <td>4.87</td>\n",
              "    </tr>\n",
              "    <tr>\n",
              "      <th>4</th>\n",
              "      <td>Casey</td>\n",
              "      <td>Entire rental unit</td>\n",
              "      <td>Entire home/apt</td>\n",
              "      <td>5</td>\n",
              "      <td>1 bath</td>\n",
              "      <td>3.0</td>\n",
              "      <td>3.0</td>\n",
              "      <td>$117.00</td>\n",
              "      <td>1</td>\n",
              "      <td>35</td>\n",
              "      <td>4.86</td>\n",
              "    </tr>\n",
              "    <tr>\n",
              "      <th>...</th>\n",
              "      <td>...</td>\n",
              "      <td>...</td>\n",
              "      <td>...</td>\n",
              "      <td>...</td>\n",
              "      <td>...</td>\n",
              "      <td>...</td>\n",
              "      <td>...</td>\n",
              "      <td>...</td>\n",
              "      <td>...</td>\n",
              "      <td>...</td>\n",
              "      <td>...</td>\n",
              "    </tr>\n",
              "    <tr>\n",
              "      <th>22248</th>\n",
              "      <td>Glen Eira</td>\n",
              "      <td>Entire rental unit</td>\n",
              "      <td>Entire home/apt</td>\n",
              "      <td>4</td>\n",
              "      <td>1 bath</td>\n",
              "      <td>2.0</td>\n",
              "      <td>3.0</td>\n",
              "      <td>$182.00</td>\n",
              "      <td>3</td>\n",
              "      <td>0</td>\n",
              "      <td>NaN</td>\n",
              "    </tr>\n",
              "    <tr>\n",
              "      <th>22249</th>\n",
              "      <td>Moonee Valley</td>\n",
              "      <td>Entire rental unit</td>\n",
              "      <td>Entire home/apt</td>\n",
              "      <td>2</td>\n",
              "      <td>1 bath</td>\n",
              "      <td>1.0</td>\n",
              "      <td>1.0</td>\n",
              "      <td>$70.00</td>\n",
              "      <td>3</td>\n",
              "      <td>0</td>\n",
              "      <td>NaN</td>\n",
              "    </tr>\n",
              "    <tr>\n",
              "      <th>22250</th>\n",
              "      <td>Melbourne</td>\n",
              "      <td>Entire townhouse</td>\n",
              "      <td>Entire home/apt</td>\n",
              "      <td>4</td>\n",
              "      <td>1 bath</td>\n",
              "      <td>3.0</td>\n",
              "      <td>3.0</td>\n",
              "      <td>$451.00</td>\n",
              "      <td>4</td>\n",
              "      <td>0</td>\n",
              "      <td>NaN</td>\n",
              "    </tr>\n",
              "    <tr>\n",
              "      <th>22251</th>\n",
              "      <td>Melbourne</td>\n",
              "      <td>Entire rental unit</td>\n",
              "      <td>Entire home/apt</td>\n",
              "      <td>4</td>\n",
              "      <td>2 baths</td>\n",
              "      <td>2.0</td>\n",
              "      <td>2.0</td>\n",
              "      <td>$174.00</td>\n",
              "      <td>1</td>\n",
              "      <td>0</td>\n",
              "      <td>NaN</td>\n",
              "    </tr>\n",
              "    <tr>\n",
              "      <th>22252</th>\n",
              "      <td>Hume</td>\n",
              "      <td>Private room in home</td>\n",
              "      <td>Private room</td>\n",
              "      <td>1</td>\n",
              "      <td>1.5 baths</td>\n",
              "      <td>1.0</td>\n",
              "      <td>1.0</td>\n",
              "      <td>$35.00</td>\n",
              "      <td>1</td>\n",
              "      <td>0</td>\n",
              "      <td>NaN</td>\n",
              "    </tr>\n",
              "  </tbody>\n",
              "</table>\n",
              "<p>22253 rows × 11 columns</p>\n",
              "</div>\n",
              "    <div class=\"colab-df-buttons\">\n",
              "\n",
              "  <div class=\"colab-df-container\">\n",
              "    <button class=\"colab-df-convert\" onclick=\"convertToInteractive('df-5daf7657-db32-4a9d-9472-6e2e475341f9')\"\n",
              "            title=\"Convert this dataframe to an interactive table.\"\n",
              "            style=\"display:none;\">\n",
              "\n",
              "  <svg xmlns=\"http://www.w3.org/2000/svg\" height=\"24px\" viewBox=\"0 -960 960 960\">\n",
              "    <path d=\"M120-120v-720h720v720H120Zm60-500h600v-160H180v160Zm220 220h160v-160H400v160Zm0 220h160v-160H400v160ZM180-400h160v-160H180v160Zm440 0h160v-160H620v160ZM180-180h160v-160H180v160Zm440 0h160v-160H620v160Z\"/>\n",
              "  </svg>\n",
              "    </button>\n",
              "\n",
              "  <style>\n",
              "    .colab-df-container {\n",
              "      display:flex;\n",
              "      gap: 12px;\n",
              "    }\n",
              "\n",
              "    .colab-df-convert {\n",
              "      background-color: #E8F0FE;\n",
              "      border: none;\n",
              "      border-radius: 50%;\n",
              "      cursor: pointer;\n",
              "      display: none;\n",
              "      fill: #1967D2;\n",
              "      height: 32px;\n",
              "      padding: 0 0 0 0;\n",
              "      width: 32px;\n",
              "    }\n",
              "\n",
              "    .colab-df-convert:hover {\n",
              "      background-color: #E2EBFA;\n",
              "      box-shadow: 0px 1px 2px rgba(60, 64, 67, 0.3), 0px 1px 3px 1px rgba(60, 64, 67, 0.15);\n",
              "      fill: #174EA6;\n",
              "    }\n",
              "\n",
              "    .colab-df-buttons div {\n",
              "      margin-bottom: 4px;\n",
              "    }\n",
              "\n",
              "    [theme=dark] .colab-df-convert {\n",
              "      background-color: #3B4455;\n",
              "      fill: #D2E3FC;\n",
              "    }\n",
              "\n",
              "    [theme=dark] .colab-df-convert:hover {\n",
              "      background-color: #434B5C;\n",
              "      box-shadow: 0px 1px 3px 1px rgba(0, 0, 0, 0.15);\n",
              "      filter: drop-shadow(0px 1px 2px rgba(0, 0, 0, 0.3));\n",
              "      fill: #FFFFFF;\n",
              "    }\n",
              "  </style>\n",
              "\n",
              "    <script>\n",
              "      const buttonEl =\n",
              "        document.querySelector('#df-5daf7657-db32-4a9d-9472-6e2e475341f9 button.colab-df-convert');\n",
              "      buttonEl.style.display =\n",
              "        google.colab.kernel.accessAllowed ? 'block' : 'none';\n",
              "\n",
              "      async function convertToInteractive(key) {\n",
              "        const element = document.querySelector('#df-5daf7657-db32-4a9d-9472-6e2e475341f9');\n",
              "        const dataTable =\n",
              "          await google.colab.kernel.invokeFunction('convertToInteractive',\n",
              "                                                    [key], {});\n",
              "        if (!dataTable) return;\n",
              "\n",
              "        const docLinkHtml = 'Like what you see? Visit the ' +\n",
              "          '<a target=\"_blank\" href=https://colab.research.google.com/notebooks/data_table.ipynb>data table notebook</a>'\n",
              "          + ' to learn more about interactive tables.';\n",
              "        element.innerHTML = '';\n",
              "        dataTable['output_type'] = 'display_data';\n",
              "        await google.colab.output.renderOutput(dataTable, element);\n",
              "        const docLink = document.createElement('div');\n",
              "        docLink.innerHTML = docLinkHtml;\n",
              "        element.appendChild(docLink);\n",
              "      }\n",
              "    </script>\n",
              "  </div>\n",
              "\n",
              "\n",
              "<div id=\"df-3c75b02e-5df1-4f4a-9b39-1f85fac8089f\">\n",
              "  <button class=\"colab-df-quickchart\" onclick=\"quickchart('df-3c75b02e-5df1-4f4a-9b39-1f85fac8089f')\"\n",
              "            title=\"Suggest charts.\"\n",
              "            style=\"display:none;\">\n",
              "\n",
              "<svg xmlns=\"http://www.w3.org/2000/svg\" height=\"24px\"viewBox=\"0 0 24 24\"\n",
              "     width=\"24px\">\n",
              "    <g>\n",
              "        <path d=\"M19 3H5c-1.1 0-2 .9-2 2v14c0 1.1.9 2 2 2h14c1.1 0 2-.9 2-2V5c0-1.1-.9-2-2-2zM9 17H7v-7h2v7zm4 0h-2V7h2v10zm4 0h-2v-4h2v4z\"/>\n",
              "    </g>\n",
              "</svg>\n",
              "  </button>\n",
              "\n",
              "<style>\n",
              "  .colab-df-quickchart {\n",
              "      --bg-color: #E8F0FE;\n",
              "      --fill-color: #1967D2;\n",
              "      --hover-bg-color: #E2EBFA;\n",
              "      --hover-fill-color: #174EA6;\n",
              "      --disabled-fill-color: #AAA;\n",
              "      --disabled-bg-color: #DDD;\n",
              "  }\n",
              "\n",
              "  [theme=dark] .colab-df-quickchart {\n",
              "      --bg-color: #3B4455;\n",
              "      --fill-color: #D2E3FC;\n",
              "      --hover-bg-color: #434B5C;\n",
              "      --hover-fill-color: #FFFFFF;\n",
              "      --disabled-bg-color: #3B4455;\n",
              "      --disabled-fill-color: #666;\n",
              "  }\n",
              "\n",
              "  .colab-df-quickchart {\n",
              "    background-color: var(--bg-color);\n",
              "    border: none;\n",
              "    border-radius: 50%;\n",
              "    cursor: pointer;\n",
              "    display: none;\n",
              "    fill: var(--fill-color);\n",
              "    height: 32px;\n",
              "    padding: 0;\n",
              "    width: 32px;\n",
              "  }\n",
              "\n",
              "  .colab-df-quickchart:hover {\n",
              "    background-color: var(--hover-bg-color);\n",
              "    box-shadow: 0 1px 2px rgba(60, 64, 67, 0.3), 0 1px 3px 1px rgba(60, 64, 67, 0.15);\n",
              "    fill: var(--button-hover-fill-color);\n",
              "  }\n",
              "\n",
              "  .colab-df-quickchart-complete:disabled,\n",
              "  .colab-df-quickchart-complete:disabled:hover {\n",
              "    background-color: var(--disabled-bg-color);\n",
              "    fill: var(--disabled-fill-color);\n",
              "    box-shadow: none;\n",
              "  }\n",
              "\n",
              "  .colab-df-spinner {\n",
              "    border: 2px solid var(--fill-color);\n",
              "    border-color: transparent;\n",
              "    border-bottom-color: var(--fill-color);\n",
              "    animation:\n",
              "      spin 1s steps(1) infinite;\n",
              "  }\n",
              "\n",
              "  @keyframes spin {\n",
              "    0% {\n",
              "      border-color: transparent;\n",
              "      border-bottom-color: var(--fill-color);\n",
              "      border-left-color: var(--fill-color);\n",
              "    }\n",
              "    20% {\n",
              "      border-color: transparent;\n",
              "      border-left-color: var(--fill-color);\n",
              "      border-top-color: var(--fill-color);\n",
              "    }\n",
              "    30% {\n",
              "      border-color: transparent;\n",
              "      border-left-color: var(--fill-color);\n",
              "      border-top-color: var(--fill-color);\n",
              "      border-right-color: var(--fill-color);\n",
              "    }\n",
              "    40% {\n",
              "      border-color: transparent;\n",
              "      border-right-color: var(--fill-color);\n",
              "      border-top-color: var(--fill-color);\n",
              "    }\n",
              "    60% {\n",
              "      border-color: transparent;\n",
              "      border-right-color: var(--fill-color);\n",
              "    }\n",
              "    80% {\n",
              "      border-color: transparent;\n",
              "      border-right-color: var(--fill-color);\n",
              "      border-bottom-color: var(--fill-color);\n",
              "    }\n",
              "    90% {\n",
              "      border-color: transparent;\n",
              "      border-bottom-color: var(--fill-color);\n",
              "    }\n",
              "  }\n",
              "</style>\n",
              "\n",
              "  <script>\n",
              "    async function quickchart(key) {\n",
              "      const quickchartButtonEl =\n",
              "        document.querySelector('#' + key + ' button');\n",
              "      quickchartButtonEl.disabled = true;  // To prevent multiple clicks.\n",
              "      quickchartButtonEl.classList.add('colab-df-spinner');\n",
              "      try {\n",
              "        const charts = await google.colab.kernel.invokeFunction(\n",
              "            'suggestCharts', [key], {});\n",
              "      } catch (error) {\n",
              "        console.error('Error during call to suggestCharts:', error);\n",
              "      }\n",
              "      quickchartButtonEl.classList.remove('colab-df-spinner');\n",
              "      quickchartButtonEl.classList.add('colab-df-quickchart-complete');\n",
              "    }\n",
              "    (() => {\n",
              "      let quickchartButtonEl =\n",
              "        document.querySelector('#df-3c75b02e-5df1-4f4a-9b39-1f85fac8089f button');\n",
              "      quickchartButtonEl.style.display =\n",
              "        google.colab.kernel.accessAllowed ? 'block' : 'none';\n",
              "    })();\n",
              "  </script>\n",
              "</div>\n",
              "    </div>\n",
              "  </div>\n"
            ]
          },
          "metadata": {},
          "execution_count": 200
        }
      ]
    },
    {
      "cell_type": "code",
      "source": [
        "df_sum = df_sum.assign(price = lambda x: x.price.apply(lambda value: float(value.replace(\"$\", \"\").replace(\",\", \"\"))))"
      ],
      "metadata": {
        "id": "YrVGtG0Q_fp3"
      },
      "execution_count": 201,
      "outputs": []
    },
    {
      "cell_type": "code",
      "source": [
        "df_sum.info()"
      ],
      "metadata": {
        "id": "xmNavzn_zAOs",
        "colab": {
          "base_uri": "https://localhost:8080/"
        },
        "outputId": "53617b52-6250-4f4d-84b6-d7de60d876b0"
      },
      "execution_count": 202,
      "outputs": [
        {
          "output_type": "stream",
          "name": "stdout",
          "text": [
            "<class 'pandas.core.frame.DataFrame'>\n",
            "RangeIndex: 22253 entries, 0 to 22252\n",
            "Data columns (total 11 columns):\n",
            " #   Column                  Non-Null Count  Dtype  \n",
            "---  ------                  --------------  -----  \n",
            " 0   neighbourhood_cleansed  22253 non-null  object \n",
            " 1   property_type           22253 non-null  object \n",
            " 2   room_type               22253 non-null  object \n",
            " 3   accommodates            22253 non-null  int64  \n",
            " 4   bathrooms_text          22240 non-null  object \n",
            " 5   bedrooms                16185 non-null  float64\n",
            " 6   beds                    22054 non-null  float64\n",
            " 7   price                   22253 non-null  float64\n",
            " 8   minimum_nights          22253 non-null  int64  \n",
            " 9   number_of_reviews_ltm   22253 non-null  int64  \n",
            " 10  review_scores_rating    17909 non-null  float64\n",
            "dtypes: float64(4), int64(3), object(4)\n",
            "memory usage: 1.9+ MB\n"
          ]
        }
      ]
    },
    {
      "cell_type": "markdown",
      "source": [
        "# Inspecting and cleaning"
      ],
      "metadata": {
        "id": "tvNcIJZvz_9s"
      }
    },
    {
      "cell_type": "markdown",
      "source": [
        "## Nulls"
      ],
      "metadata": {
        "id": "ANzni1z10LFo"
      }
    },
    {
      "cell_type": "code",
      "source": [
        "# Checking percentage of nulls in each column\n",
        "\n",
        "((df_sum.isnull().sum() / df_sum.shape[0]) * 100).round(2)"
      ],
      "metadata": {
        "id": "NaBf3wgp223S",
        "colab": {
          "base_uri": "https://localhost:8080/"
        },
        "outputId": "9fad8330-ba4f-49dd-ca27-f454766e3c51"
      },
      "execution_count": 203,
      "outputs": [
        {
          "output_type": "execute_result",
          "data": {
            "text/plain": [
              "neighbourhood_cleansed     0.00\n",
              "property_type              0.00\n",
              "room_type                  0.00\n",
              "accommodates               0.00\n",
              "bathrooms_text             0.06\n",
              "bedrooms                  27.27\n",
              "beds                       0.89\n",
              "price                      0.00\n",
              "minimum_nights             0.00\n",
              "number_of_reviews_ltm      0.00\n",
              "review_scores_rating      19.52\n",
              "dtype: float64"
            ]
          },
          "metadata": {},
          "execution_count": 203
        }
      ]
    },
    {
      "cell_type": "code",
      "source": [
        "# Checking null 'zones'\n",
        "\n",
        "sns.heatmap(df_sum.isnull())"
      ],
      "metadata": {
        "id": "oTYIKoFQ710t",
        "colab": {
          "base_uri": "https://localhost:8080/",
          "height": 615
        },
        "outputId": "b9b5e8af-4b1e-43af-c41c-30dbacedc3be"
      },
      "execution_count": 204,
      "outputs": [
        {
          "output_type": "execute_result",
          "data": {
            "text/plain": [
              "<Axes: >"
            ]
          },
          "metadata": {},
          "execution_count": 204
        },
        {
          "output_type": "display_data",
          "data": {
            "text/plain": [
              "<Figure size 640x480 with 2 Axes>"
            ],
            "image/png": "[encoded data removed]"
          },
          "metadata": {}
        }
      ]
    },
    {
      "cell_type": "code",
      "source": [
        "df_bedrooms_check = df_sum[df_sum.bedrooms.isna()]\n",
        "df_bedrooms_check.shape"
      ],
      "metadata": {
        "id": "mmuxu2fa3VxG",
        "colab": {
          "base_uri": "https://localhost:8080/"
        },
        "outputId": "5ccbda21-3a79-4748-d0f6-b63e42cf26e3"
      },
      "execution_count": 205,
      "outputs": [
        {
          "output_type": "execute_result",
          "data": {
            "text/plain": [
              "(6068, 11)"
            ]
          },
          "metadata": {},
          "execution_count": 205
        }
      ]
    },
    {
      "cell_type": "code",
      "source": [
        "df_bedrooms_check.room_type.value_counts()"
      ],
      "metadata": {
        "id": "OoLBkF5T374M",
        "colab": {
          "base_uri": "https://localhost:8080/"
        },
        "outputId": "9feb7b51-c90d-4eca-bd6b-fa5c78586e6a"
      },
      "execution_count": 206,
      "outputs": [
        {
          "output_type": "execute_result",
          "data": {
            "text/plain": [
              "Private room       5238\n",
              "Entire home/apt     556\n",
              "Shared room         266\n",
              "Hotel room            8\n",
              "Name: room_type, dtype: int64"
            ]
          },
          "metadata": {},
          "execution_count": 206
        }
      ]
    },
    {
      "cell_type": "code",
      "source": [
        "(5238 + 266 + 8) / 6068"
      ],
      "metadata": {
        "id": "Bns0e7EU4PdJ",
        "colab": {
          "base_uri": "https://localhost:8080/"
        },
        "outputId": "acaefd6a-7964-4e8f-8965-4bc029fe2f47"
      },
      "execution_count": 207,
      "outputs": [
        {
          "output_type": "execute_result",
          "data": {
            "text/plain": [
              "0.9083717864205669"
            ]
          },
          "metadata": {},
          "execution_count": 207
        }
      ]
    },
    {
      "cell_type": "code",
      "source": [
        "# Checking entries where the room type is 'entire home/apt' for null values in bedrooms\n",
        "\n",
        "df_bedrooms_check.loc[df_bedrooms_check['room_type'] == 'Entire home/apt']"
      ],
      "metadata": {
        "id": "mJd8Wxwg4xzg",
        "colab": {
          "base_uri": "https://localhost:8080/",
          "height": 423
        },
        "outputId": "a5122588-83f7-4aff-9c12-bc2670e844bd"
      },
      "execution_count": 208,
      "outputs": [
        {
          "output_type": "execute_result",
          "data": {
            "text/plain": [
              "      neighbourhood_cleansed       property_type        room_type  \\\n",
              "140             Port Phillip  Entire rental unit  Entire home/apt   \n",
              "210                Melbourne         Entire loft  Entire home/apt   \n",
              "215                Melbourne  Entire rental unit  Entire home/apt   \n",
              "274                Melbourne  Entire rental unit  Entire home/apt   \n",
              "277             Port Phillip  Entire guest suite  Entire home/apt   \n",
              "...                      ...                 ...              ...   \n",
              "21698               Moreland  Entire rental unit  Entire home/apt   \n",
              "21946              Melbourne  Entire rental unit  Entire home/apt   \n",
              "21957           Port Phillip  Entire rental unit  Entire home/apt   \n",
              "22192              Melbourne  Entire rental unit  Entire home/apt   \n",
              "22216            Stonnington  Entire rental unit  Entire home/apt   \n",
              "\n",
              "       accommodates bathrooms_text  bedrooms  beds  price  minimum_nights  \\\n",
              "140               2         1 bath       NaN   1.0   99.0               1   \n",
              "210               2         1 bath       NaN   1.0  173.0               2   \n",
              "215               2         1 bath       NaN   1.0  117.0               1   \n",
              "274               2         1 bath       NaN   1.0  159.0               5   \n",
              "277               4         1 bath       NaN   1.0  145.0               2   \n",
              "...             ...            ...       ...   ...    ...             ...   \n",
              "21698             2         1 bath       NaN   1.0  101.0               2   \n",
              "21946             2         1 bath       NaN   1.0  229.0               6   \n",
              "21957             2         1 bath       NaN   1.0   98.0               3   \n",
              "22192             2         1 bath       NaN   NaN  153.0               2   \n",
              "22216             2         1 bath       NaN   1.0  133.0               2   \n",
              "\n",
              "       number_of_reviews_ltm  review_scores_rating  \n",
              "140                        0                  4.86  \n",
              "210                       42                  4.87  \n",
              "215                       18                  4.61  \n",
              "274                       13                  4.35  \n",
              "277                        0                  5.00  \n",
              "...                      ...                   ...  \n",
              "21698                      0                   NaN  \n",
              "21946                      0                   NaN  \n",
              "21957                      0                   NaN  \n",
              "22192                      0                   NaN  \n",
              "22216                      0                   NaN  \n",
              "\n",
              "[556 rows x 11 columns]"
            ],
            "text/html": [
              "\n",
              "  <div id=\"df-daebb2d8-8e4d-4f73-ac68-a774e8fd4549\" class=\"colab-df-container\">\n",
              "    <div>\n",
              "<style scoped>\n",
              "    .dataframe tbody tr th:only-of-type {\n",
              "        vertical-align: middle;\n",
              "    }\n",
              "\n",
              "    .dataframe tbody tr th {\n",
              "        vertical-align: top;\n",
              "    }\n",
              "\n",
              "    .dataframe thead th {\n",
              "        text-align: right;\n",
              "    }\n",
              "</style>\n",
              "<table border=\"1\" class=\"dataframe\">\n",
              "  <thead>\n",
              "    <tr style=\"text-align: right;\">\n",
              "      <th></th>\n",
              "      <th>neighbourhood_cleansed</th>\n",
              "      <th>property_type</th>\n",
              "      <th>room_type</th>\n",
              "      <th>accommodates</th>\n",
              "      <th>bathrooms_text</th>\n",
              "      <th>bedrooms</th>\n",
              "      <th>beds</th>\n",
              "      <th>price</th>\n",
              "      <th>minimum_nights</th>\n",
              "      <th>number_of_reviews_ltm</th>\n",
              "      <th>review_scores_rating</th>\n",
              "    </tr>\n",
              "  </thead>\n",
              "  <tbody>\n",
              "    <tr>\n",
              "      <th>140</th>\n",
              "      <td>Port Phillip</td>\n",
              "      <td>Entire rental unit</td>\n",
              "      <td>Entire home/apt</td>\n",
              "      <td>2</td>\n",
              "      <td>1 bath</td>\n",
              "      <td>NaN</td>\n",
              "      <td>1.0</td>\n",
              "      <td>99.0</td>\n",
              "      <td>1</td>\n",
              "      <td>0</td>\n",
              "      <td>4.86</td>\n",
              "    </tr>\n",
              "    <tr>\n",
              "      <th>210</th>\n",
              "      <td>Melbourne</td>\n",
              "      <td>Entire loft</td>\n",
              "      <td>Entire home/apt</td>\n",
              "      <td>2</td>\n",
              "      <td>1 bath</td>\n",
              "      <td>NaN</td>\n",
              "      <td>1.0</td>\n",
              "      <td>173.0</td>\n",
              "      <td>2</td>\n",
              "      <td>42</td>\n",
              "      <td>4.87</td>\n",
              "    </tr>\n",
              "    <tr>\n",
              "      <th>215</th>\n",
              "      <td>Melbourne</td>\n",
              "      <td>Entire rental unit</td>\n",
              "      <td>Entire home/apt</td>\n",
              "      <td>2</td>\n",
              "      <td>1 bath</td>\n",
              "      <td>NaN</td>\n",
              "      <td>1.0</td>\n",
              "      <td>117.0</td>\n",
              "      <td>1</td>\n",
              "      <td>18</td>\n",
              "      <td>4.61</td>\n",
              "    </tr>\n",
              "    <tr>\n",
              "      <th>274</th>\n",
              "      <td>Melbourne</td>\n",
              "      <td>Entire rental unit</td>\n",
              "      <td>Entire home/apt</td>\n",
              "      <td>2</td>\n",
              "      <td>1 bath</td>\n",
              "      <td>NaN</td>\n",
              "      <td>1.0</td>\n",
              "      <td>159.0</td>\n",
              "      <td>5</td>\n",
              "      <td>13</td>\n",
              "      <td>4.35</td>\n",
              "    </tr>\n",
              "    <tr>\n",
              "      <th>277</th>\n",
              "      <td>Port Phillip</td>\n",
              "      <td>Entire guest suite</td>\n",
              "      <td>Entire home/apt</td>\n",
              "      <td>4</td>\n",
              "      <td>1 bath</td>\n",
              "      <td>NaN</td>\n",
              "      <td>1.0</td>\n",
              "      <td>145.0</td>\n",
              "      <td>2</td>\n",
              "      <td>0</td>\n",
              "      <td>5.00</td>\n",
              "    </tr>\n",
              "    <tr>\n",
              "      <th>...</th>\n",
              "      <td>...</td>\n",
              "      <td>...</td>\n",
              "      <td>...</td>\n",
              "      <td>...</td>\n",
              "      <td>...</td>\n",
              "      <td>...</td>\n",
              "      <td>...</td>\n",
              "      <td>...</td>\n",
              "      <td>...</td>\n",
              "      <td>...</td>\n",
              "      <td>...</td>\n",
              "    </tr>\n",
              "    <tr>\n",
              "      <th>21698</th>\n",
              "      <td>Moreland</td>\n",
              "      <td>Entire rental unit</td>\n",
              "      <td>Entire home/apt</td>\n",
              "      <td>2</td>\n",
              "      <td>1 bath</td>\n",
              "      <td>NaN</td>\n",
              "      <td>1.0</td>\n",
              "      <td>101.0</td>\n",
              "      <td>2</td>\n",
              "      <td>0</td>\n",
              "      <td>NaN</td>\n",
              "    </tr>\n",
              "    <tr>\n",
              "      <th>21946</th>\n",
              "      <td>Melbourne</td>\n",
              "      <td>Entire rental unit</td>\n",
              "      <td>Entire home/apt</td>\n",
              "      <td>2</td>\n",
              "      <td>1 bath</td>\n",
              "      <td>NaN</td>\n",
              "      <td>1.0</td>\n",
              "      <td>229.0</td>\n",
              "      <td>6</td>\n",
              "      <td>0</td>\n",
              "      <td>NaN</td>\n",
              "    </tr>\n",
              "    <tr>\n",
              "      <th>21957</th>\n",
              "      <td>Port Phillip</td>\n",
              "      <td>Entire rental unit</td>\n",
              "      <td>Entire home/apt</td>\n",
              "      <td>2</td>\n",
              "      <td>1 bath</td>\n",
              "      <td>NaN</td>\n",
              "      <td>1.0</td>\n",
              "      <td>98.0</td>\n",
              "      <td>3</td>\n",
              "      <td>0</td>\n",
              "      <td>NaN</td>\n",
              "    </tr>\n",
              "    <tr>\n",
              "      <th>22192</th>\n",
              "      <td>Melbourne</td>\n",
              "      <td>Entire rental unit</td>\n",
              "      <td>Entire home/apt</td>\n",
              "      <td>2</td>\n",
              "      <td>1 bath</td>\n",
              "      <td>NaN</td>\n",
              "      <td>NaN</td>\n",
              "      <td>153.0</td>\n",
              "      <td>2</td>\n",
              "      <td>0</td>\n",
              "      <td>NaN</td>\n",
              "    </tr>\n",
              "    <tr>\n",
              "      <th>22216</th>\n",
              "      <td>Stonnington</td>\n",
              "      <td>Entire rental unit</td>\n",
              "      <td>Entire home/apt</td>\n",
              "      <td>2</td>\n",
              "      <td>1 bath</td>\n",
              "      <td>NaN</td>\n",
              "      <td>1.0</td>\n",
              "      <td>133.0</td>\n",
              "      <td>2</td>\n",
              "      <td>0</td>\n",
              "      <td>NaN</td>\n",
              "    </tr>\n",
              "  </tbody>\n",
              "</table>\n",
              "<p>556 rows × 11 columns</p>\n",
              "</div>\n",
              "    <div class=\"colab-df-buttons\">\n",
              "\n",
              "  <div class=\"colab-df-container\">\n",
              "    <button class=\"colab-df-convert\" onclick=\"convertToInteractive('df-daebb2d8-8e4d-4f73-ac68-a774e8fd4549')\"\n",
              "            title=\"Convert this dataframe to an interactive table.\"\n",
              "            style=\"display:none;\">\n",
              "\n",
              "  <svg xmlns=\"http://www.w3.org/2000/svg\" height=\"24px\" viewBox=\"0 -960 960 960\">\n",
              "    <path d=\"M120-120v-720h720v720H120Zm60-500h600v-160H180v160Zm220 220h160v-160H400v160Zm0 220h160v-160H400v160ZM180-400h160v-160H180v160Zm440 0h160v-160H620v160ZM180-180h160v-160H180v160Zm440 0h160v-160H620v160Z\"/>\n",
              "  </svg>\n",
              "    </button>\n",
              "\n",
              "  <style>\n",
              "    .colab-df-container {\n",
              "      display:flex;\n",
              "      gap: 12px;\n",
              "    }\n",
              "\n",
              "    .colab-df-convert {\n",
              "      background-color: #E8F0FE;\n",
              "      border: none;\n",
              "      border-radius: 50%;\n",
              "      cursor: pointer;\n",
              "      display: none;\n",
              "      fill: #1967D2;\n",
              "      height: 32px;\n",
              "      padding: 0 0 0 0;\n",
              "      width: 32px;\n",
              "    }\n",
              "\n",
              "    .colab-df-convert:hover {\n",
              "      background-color: #E2EBFA;\n",
              "      box-shadow: 0px 1px 2px rgba(60, 64, 67, 0.3), 0px 1px 3px 1px rgba(60, 64, 67, 0.15);\n",
              "      fill: #174EA6;\n",
              "    }\n",
              "\n",
              "    .colab-df-buttons div {\n",
              "      margin-bottom: 4px;\n",
              "    }\n",
              "\n",
              "    [theme=dark] .colab-df-convert {\n",
              "      background-color: #3B4455;\n",
              "      fill: #D2E3FC;\n",
              "    }\n",
              "\n",
              "    [theme=dark] .colab-df-convert:hover {\n",
              "      background-color: #434B5C;\n",
              "      box-shadow: 0px 1px 3px 1px rgba(0, 0, 0, 0.15);\n",
              "      filter: drop-shadow(0px 1px 2px rgba(0, 0, 0, 0.3));\n",
              "      fill: #FFFFFF;\n",
              "    }\n",
              "  </style>\n",
              "\n",
              "    <script>\n",
              "      const buttonEl =\n",
              "        document.querySelector('#df-daebb2d8-8e4d-4f73-ac68-a774e8fd4549 button.colab-df-convert');\n",
              "      buttonEl.style.display =\n",
              "        google.colab.kernel.accessAllowed ? 'block' : 'none';\n",
              "\n",
              "      async function convertToInteractive(key) {\n",
              "        const element = document.querySelector('#df-daebb2d8-8e4d-4f73-ac68-a774e8fd4549');\n",
              "        const dataTable =\n",
              "          await google.colab.kernel.invokeFunction('convertToInteractive',\n",
              "                                                    [key], {});\n",
              "        if (!dataTable) return;\n",
              "\n",
              "        const docLinkHtml = 'Like what you see? Visit the ' +\n",
              "          '<a target=\"_blank\" href=https://colab.research.google.com/notebooks/data_table.ipynb>data table notebook</a>'\n",
              "          + ' to learn more about interactive tables.';\n",
              "        element.innerHTML = '';\n",
              "        dataTable['output_type'] = 'display_data';\n",
              "        await google.colab.output.renderOutput(dataTable, element);\n",
              "        const docLink = document.createElement('div');\n",
              "        docLink.innerHTML = docLinkHtml;\n",
              "        element.appendChild(docLink);\n",
              "      }\n",
              "    </script>\n",
              "  </div>\n",
              "\n",
              "\n",
              "<div id=\"df-c3db319c-70be-463c-8d90-f8c6e48b13fa\">\n",
              "  <button class=\"colab-df-quickchart\" onclick=\"quickchart('df-c3db319c-70be-463c-8d90-f8c6e48b13fa')\"\n",
              "            title=\"Suggest charts.\"\n",
              "            style=\"display:none;\">\n",
              "\n",
              "<svg xmlns=\"http://www.w3.org/2000/svg\" height=\"24px\"viewBox=\"0 0 24 24\"\n",
              "     width=\"24px\">\n",
              "    <g>\n",
              "        <path d=\"M19 3H5c-1.1 0-2 .9-2 2v14c0 1.1.9 2 2 2h14c1.1 0 2-.9 2-2V5c0-1.1-.9-2-2-2zM9 17H7v-7h2v7zm4 0h-2V7h2v10zm4 0h-2v-4h2v4z\"/>\n",
              "    </g>\n",
              "</svg>\n",
              "  </button>\n",
              "\n",
              "<style>\n",
              "  .colab-df-quickchart {\n",
              "      --bg-color: #E8F0FE;\n",
              "      --fill-color: #1967D2;\n",
              "      --hover-bg-color: #E2EBFA;\n",
              "      --hover-fill-color: #174EA6;\n",
              "      --disabled-fill-color: #AAA;\n",
              "      --disabled-bg-color: #DDD;\n",
              "  }\n",
              "\n",
              "  [theme=dark] .colab-df-quickchart {\n",
              "      --bg-color: #3B4455;\n",
              "      --fill-color: #D2E3FC;\n",
              "      --hover-bg-color: #434B5C;\n",
              "      --hover-fill-color: #FFFFFF;\n",
              "      --disabled-bg-color: #3B4455;\n",
              "      --disabled-fill-color: #666;\n",
              "  }\n",
              "\n",
              "  .colab-df-quickchart {\n",
              "    background-color: var(--bg-color);\n",
              "    border: none;\n",
              "    border-radius: 50%;\n",
              "    cursor: pointer;\n",
              "    display: none;\n",
              "    fill: var(--fill-color);\n",
              "    height: 32px;\n",
              "    padding: 0;\n",
              "    width: 32px;\n",
              "  }\n",
              "\n",
              "  .colab-df-quickchart:hover {\n",
              "    background-color: var(--hover-bg-color);\n",
              "    box-shadow: 0 1px 2px rgba(60, 64, 67, 0.3), 0 1px 3px 1px rgba(60, 64, 67, 0.15);\n",
              "    fill: var(--button-hover-fill-color);\n",
              "  }\n",
              "\n",
              "  .colab-df-quickchart-complete:disabled,\n",
              "  .colab-df-quickchart-complete:disabled:hover {\n",
              "    background-color: var(--disabled-bg-color);\n",
              "    fill: var(--disabled-fill-color);\n",
              "    box-shadow: none;\n",
              "  }\n",
              "\n",
              "  .colab-df-spinner {\n",
              "    border: 2px solid var(--fill-color);\n",
              "    border-color: transparent;\n",
              "    border-bottom-color: var(--fill-color);\n",
              "    animation:\n",
              "      spin 1s steps(1) infinite;\n",
              "  }\n",
              "\n",
              "  @keyframes spin {\n",
              "    0% {\n",
              "      border-color: transparent;\n",
              "      border-bottom-color: var(--fill-color);\n",
              "      border-left-color: var(--fill-color);\n",
              "    }\n",
              "    20% {\n",
              "      border-color: transparent;\n",
              "      border-left-color: var(--fill-color);\n",
              "      border-top-color: var(--fill-color);\n",
              "    }\n",
              "    30% {\n",
              "      border-color: transparent;\n",
              "      border-left-color: var(--fill-color);\n",
              "      border-top-color: var(--fill-color);\n",
              "      border-right-color: var(--fill-color);\n",
              "    }\n",
              "    40% {\n",
              "      border-color: transparent;\n",
              "      border-right-color: var(--fill-color);\n",
              "      border-top-color: var(--fill-color);\n",
              "    }\n",
              "    60% {\n",
              "      border-color: transparent;\n",
              "      border-right-color: var(--fill-color);\n",
              "    }\n",
              "    80% {\n",
              "      border-color: transparent;\n",
              "      border-right-color: var(--fill-color);\n",
              "      border-bottom-color: var(--fill-color);\n",
              "    }\n",
              "    90% {\n",
              "      border-color: transparent;\n",
              "      border-bottom-color: var(--fill-color);\n",
              "    }\n",
              "  }\n",
              "</style>\n",
              "\n",
              "  <script>\n",
              "    async function quickchart(key) {\n",
              "      const quickchartButtonEl =\n",
              "        document.querySelector('#' + key + ' button');\n",
              "      quickchartButtonEl.disabled = true;  // To prevent multiple clicks.\n",
              "      quickchartButtonEl.classList.add('colab-df-spinner');\n",
              "      try {\n",
              "        const charts = await google.colab.kernel.invokeFunction(\n",
              "            'suggestCharts', [key], {});\n",
              "      } catch (error) {\n",
              "        console.error('Error during call to suggestCharts:', error);\n",
              "      }\n",
              "      quickchartButtonEl.classList.remove('colab-df-spinner');\n",
              "      quickchartButtonEl.classList.add('colab-df-quickchart-complete');\n",
              "    }\n",
              "    (() => {\n",
              "      let quickchartButtonEl =\n",
              "        document.querySelector('#df-c3db319c-70be-463c-8d90-f8c6e48b13fa button');\n",
              "      quickchartButtonEl.style.display =\n",
              "        google.colab.kernel.accessAllowed ? 'block' : 'none';\n",
              "    })();\n",
              "  </script>\n",
              "</div>\n",
              "    </div>\n",
              "  </div>\n"
            ]
          },
          "metadata": {},
          "execution_count": 208
        }
      ]
    },
    {
      "cell_type": "markdown",
      "source": [
        "91% of the missing values for\n",
        " 'bedroom' are missing because the 'room type' is either a private room, a shared room or a hotel room. <br>\n",
        "In 9% of the cases it's an entire home/apt and therefore could be considered a real null."
      ],
      "metadata": {
        "id": "XTrkPy404IbL"
      }
    },
    {
      "cell_type": "code",
      "source": [
        "((df_sum.isnull().sum() / df_sum.shape[0]) * 100).round(2)"
      ],
      "metadata": {
        "id": "epAkEIC3Mkiz",
        "colab": {
          "base_uri": "https://localhost:8080/"
        },
        "outputId": "b9b6f918-3918-4642-924b-39b59ae6a550"
      },
      "execution_count": 209,
      "outputs": [
        {
          "output_type": "execute_result",
          "data": {
            "text/plain": [
              "neighbourhood_cleansed     0.00\n",
              "property_type              0.00\n",
              "room_type                  0.00\n",
              "accommodates               0.00\n",
              "bathrooms_text             0.06\n",
              "bedrooms                  27.27\n",
              "beds                       0.89\n",
              "price                      0.00\n",
              "minimum_nights             0.00\n",
              "number_of_reviews_ltm      0.00\n",
              "review_scores_rating      19.52\n",
              "dtype: float64"
            ]
          },
          "metadata": {},
          "execution_count": 209
        }
      ]
    },
    {
      "cell_type": "code",
      "source": [
        "# Replacing null values in 'bedrooms' where room type is 'entire home/apt'\n",
        "\n",
        "df_sum.loc[df_sum['room_type'] == 'Entire home/apt', 'bedrooms'] = df_sum.loc[df_sum['room_type'] == 'Entire home/apt', 'bedrooms'].fillna(0)"
      ],
      "metadata": {
        "id": "m89-70DFOCyI"
      },
      "execution_count": 210,
      "outputs": []
    },
    {
      "cell_type": "code",
      "source": [
        "# Dropping entries with null values for 'bathrooms_text' and 'beds'\n",
        "\n",
        "df_sum = df_sum.dropna(subset=['bathrooms_text', 'beds'], how='any')"
      ],
      "metadata": {
        "id": "wCqdKgpy_DBJ"
      },
      "execution_count": 211,
      "outputs": []
    },
    {
      "cell_type": "code",
      "source": [
        "# Replacing null values in 'bedrooms' and 'review_scores_rating' with KNN Imputer\n",
        "\n",
        "knn = KNNImputer()\n",
        "df_sum['bedrooms'] = knn.fit_transform(df_sum['bedrooms'].values.reshape(-1, 1))\n",
        "df_sum['review_scores_rating'] = knn.fit_transform(df_sum['review_scores_rating'].values.reshape(-1, 1))"
      ],
      "metadata": {
        "id": "V_iuTWrgCGUi"
      },
      "execution_count": 212,
      "outputs": []
    },
    {
      "cell_type": "code",
      "source": [
        "df_sum.info()"
      ],
      "metadata": {
        "id": "g1wHqpneCHsY",
        "colab": {
          "base_uri": "https://localhost:8080/"
        },
        "outputId": "21b3de94-7bfc-40bc-88ef-c0e1d6409424"
      },
      "execution_count": 213,
      "outputs": [
        {
          "output_type": "stream",
          "name": "stdout",
          "text": [
            "<class 'pandas.core.frame.DataFrame'>\n",
            "Int64Index: 22044 entries, 0 to 22252\n",
            "Data columns (total 11 columns):\n",
            " #   Column                  Non-Null Count  Dtype  \n",
            "---  ------                  --------------  -----  \n",
            " 0   neighbourhood_cleansed  22044 non-null  object \n",
            " 1   property_type           22044 non-null  object \n",
            " 2   room_type               22044 non-null  object \n",
            " 3   accommodates            22044 non-null  int64  \n",
            " 4   bathrooms_text          22044 non-null  object \n",
            " 5   bedrooms                22044 non-null  float64\n",
            " 6   beds                    22044 non-null  float64\n",
            " 7   price                   22044 non-null  float64\n",
            " 8   minimum_nights          22044 non-null  int64  \n",
            " 9   number_of_reviews_ltm   22044 non-null  int64  \n",
            " 10  review_scores_rating    22044 non-null  float64\n",
            "dtypes: float64(4), int64(3), object(4)\n",
            "memory usage: 2.0+ MB\n"
          ]
        }
      ]
    },
    {
      "cell_type": "markdown",
      "source": [
        "## Outliers"
      ],
      "metadata": {
        "id": "LJmRUFj9Hi_l"
      }
    },
    {
      "cell_type": "code",
      "source": [
        "# Checking the boxplot for each numerical feature\n",
        "\n",
        "files = [df_sum[c] for c in df_sum._get_numeric_data().columns]\n",
        "_, axarr = plt.subplots(1,4,figsize=(16,6), squeeze=True)\n",
        "_.suptitle('Numerical features boxplots')\n",
        "for data, ax in zip(files, axarr.flat):\n",
        "  pd.DataFrame(data).boxplot(ax=ax, fontsize='small')"
      ],
      "metadata": {
        "id": "hQ8cdVD8gWUq",
        "colab": {
          "base_uri": "https://localhost:8080/",
          "height": 581
        },
        "outputId": "4ccea7dd-6fb5-4113-9c85-2b792957af23"
      },
      "execution_count": 214,
      "outputs": [
        {
          "output_type": "display_data",
          "data": {
            "text/plain": [
              "<Figure size 1600x600 with 4 Axes>"
            ],
            "image/png": "[encoded data removed]"
          },
          "metadata": {}
        }
      ]
    },
    {
      "cell_type": "code",
      "source": [
        "df_sum.describe().round(2)"
      ],
      "metadata": {
        "id": "GCknTp06gzU4",
        "colab": {
          "base_uri": "https://localhost:8080/",
          "height": 300
        },
        "outputId": "d056b130-48d7-41a8-86bf-c8e8fc5181f2"
      },
      "execution_count": 215,
      "outputs": [
        {
          "output_type": "execute_result",
          "data": {
            "text/plain": [
              "       accommodates  bedrooms      beds      price  minimum_nights  \\\n",
              "count      22044.00  22044.00  22044.00   22044.00        22044.00   \n",
              "mean           3.65      1.91      2.11     253.32            5.18   \n",
              "std            2.34      0.99      1.56    1854.60           27.88   \n",
              "min            1.00      0.00      1.00       0.00            1.00   \n",
              "25%            2.00      1.00      1.00      97.00            1.00   \n",
              "50%            3.00      1.91      2.00     150.00            2.00   \n",
              "75%            4.00      2.00      3.00     238.00            3.00   \n",
              "max           16.00     22.00     31.00  122165.00         1125.00   \n",
              "\n",
              "       number_of_reviews_ltm  review_scores_rating  \n",
              "count               22044.00              22044.00  \n",
              "mean                    9.95                  4.64  \n",
              "std                    17.72                  0.63  \n",
              "min                     0.00                  0.00  \n",
              "25%                     0.00                  4.64  \n",
              "50%                     2.00                  4.75  \n",
              "75%                    13.00                  4.95  \n",
              "max                   629.00                  5.00  "
            ],
            "text/html": [
              "\n",
              "  <div id=\"df-8202168e-f108-4675-9b88-b08552048a70\" class=\"colab-df-container\">\n",
              "    <div>\n",
              "<style scoped>\n",
              "    .dataframe tbody tr th:only-of-type {\n",
              "        vertical-align: middle;\n",
              "    }\n",
              "\n",
              "    .dataframe tbody tr th {\n",
              "        vertical-align: top;\n",
              "    }\n",
              "\n",
              "    .dataframe thead th {\n",
              "        text-align: right;\n",
              "    }\n",
              "</style>\n",
              "<table border=\"1\" class=\"dataframe\">\n",
              "  <thead>\n",
              "    <tr style=\"text-align: right;\">\n",
              "      <th></th>\n",
              "      <th>accommodates</th>\n",
              "      <th>bedrooms</th>\n",
              "      <th>beds</th>\n",
              "      <th>price</th>\n",
              "      <th>minimum_nights</th>\n",
              "      <th>number_of_reviews_ltm</th>\n",
              "      <th>review_scores_rating</th>\n",
              "    </tr>\n",
              "  </thead>\n",
              "  <tbody>\n",
              "    <tr>\n",
              "      <th>count</th>\n",
              "      <td>22044.00</td>\n",
              "      <td>22044.00</td>\n",
              "      <td>22044.00</td>\n",
              "      <td>22044.00</td>\n",
              "      <td>22044.00</td>\n",
              "      <td>22044.00</td>\n",
              "      <td>22044.00</td>\n",
              "    </tr>\n",
              "    <tr>\n",
              "      <th>mean</th>\n",
              "      <td>3.65</td>\n",
              "      <td>1.91</td>\n",
              "      <td>2.11</td>\n",
              "      <td>253.32</td>\n",
              "      <td>5.18</td>\n",
              "      <td>9.95</td>\n",
              "      <td>4.64</td>\n",
              "    </tr>\n",
              "    <tr>\n",
              "      <th>std</th>\n",
              "      <td>2.34</td>\n",
              "      <td>0.99</td>\n",
              "      <td>1.56</td>\n",
              "      <td>1854.60</td>\n",
              "      <td>27.88</td>\n",
              "      <td>17.72</td>\n",
              "      <td>0.63</td>\n",
              "    </tr>\n",
              "    <tr>\n",
              "      <th>min</th>\n",
              "      <td>1.00</td>\n",
              "      <td>0.00</td>\n",
              "      <td>1.00</td>\n",
              "      <td>0.00</td>\n",
              "      <td>1.00</td>\n",
              "      <td>0.00</td>\n",
              "      <td>0.00</td>\n",
              "    </tr>\n",
              "    <tr>\n",
              "      <th>25%</th>\n",
              "      <td>2.00</td>\n",
              "      <td>1.00</td>\n",
              "      <td>1.00</td>\n",
              "      <td>97.00</td>\n",
              "      <td>1.00</td>\n",
              "      <td>0.00</td>\n",
              "      <td>4.64</td>\n",
              "    </tr>\n",
              "    <tr>\n",
              "      <th>50%</th>\n",
              "      <td>3.00</td>\n",
              "      <td>1.91</td>\n",
              "      <td>2.00</td>\n",
              "      <td>150.00</td>\n",
              "      <td>2.00</td>\n",
              "      <td>2.00</td>\n",
              "      <td>4.75</td>\n",
              "    </tr>\n",
              "    <tr>\n",
              "      <th>75%</th>\n",
              "      <td>4.00</td>\n",
              "      <td>2.00</td>\n",
              "      <td>3.00</td>\n",
              "      <td>238.00</td>\n",
              "      <td>3.00</td>\n",
              "      <td>13.00</td>\n",
              "      <td>4.95</td>\n",
              "    </tr>\n",
              "    <tr>\n",
              "      <th>max</th>\n",
              "      <td>16.00</td>\n",
              "      <td>22.00</td>\n",
              "      <td>31.00</td>\n",
              "      <td>122165.00</td>\n",
              "      <td>1125.00</td>\n",
              "      <td>629.00</td>\n",
              "      <td>5.00</td>\n",
              "    </tr>\n",
              "  </tbody>\n",
              "</table>\n",
              "</div>\n",
              "    <div class=\"colab-df-buttons\">\n",
              "\n",
              "  <div class=\"colab-df-container\">\n",
              "    <button class=\"colab-df-convert\" onclick=\"convertToInteractive('df-8202168e-f108-4675-9b88-b08552048a70')\"\n",
              "            title=\"Convert this dataframe to an interactive table.\"\n",
              "            style=\"display:none;\">\n",
              "\n",
              "  <svg xmlns=\"http://www.w3.org/2000/svg\" height=\"24px\" viewBox=\"0 -960 960 960\">\n",
              "    <path d=\"M120-120v-720h720v720H120Zm60-500h600v-160H180v160Zm220 220h160v-160H400v160Zm0 220h160v-160H400v160ZM180-400h160v-160H180v160Zm440 0h160v-160H620v160ZM180-180h160v-160H180v160Zm440 0h160v-160H620v160Z\"/>\n",
              "  </svg>\n",
              "    </button>\n",
              "\n",
              "  <style>\n",
              "    .colab-df-container {\n",
              "      display:flex;\n",
              "      gap: 12px;\n",
              "    }\n",
              "\n",
              "    .colab-df-convert {\n",
              "      background-color: #E8F0FE;\n",
              "      border: none;\n",
              "      border-radius: 50%;\n",
              "      cursor: pointer;\n",
              "      display: none;\n",
              "      fill: #1967D2;\n",
              "      height: 32px;\n",
              "      padding: 0 0 0 0;\n",
              "      width: 32px;\n",
              "    }\n",
              "\n",
              "    .colab-df-convert:hover {\n",
              "      background-color: #E2EBFA;\n",
              "      box-shadow: 0px 1px 2px rgba(60, 64, 67, 0.3), 0px 1px 3px 1px rgba(60, 64, 67, 0.15);\n",
              "      fill: #174EA6;\n",
              "    }\n",
              "\n",
              "    .colab-df-buttons div {\n",
              "      margin-bottom: 4px;\n",
              "    }\n",
              "\n",
              "    [theme=dark] .colab-df-convert {\n",
              "      background-color: #3B4455;\n",
              "      fill: #D2E3FC;\n",
              "    }\n",
              "\n",
              "    [theme=dark] .colab-df-convert:hover {\n",
              "      background-color: #434B5C;\n",
              "      box-shadow: 0px 1px 3px 1px rgba(0, 0, 0, 0.15);\n",
              "      filter: drop-shadow(0px 1px 2px rgba(0, 0, 0, 0.3));\n",
              "      fill: #FFFFFF;\n",
              "    }\n",
              "  </style>\n",
              "\n",
              "    <script>\n",
              "      const buttonEl =\n",
              "        document.querySelector('#df-8202168e-f108-4675-9b88-b08552048a70 button.colab-df-convert');\n",
              "      buttonEl.style.display =\n",
              "        google.colab.kernel.accessAllowed ? 'block' : 'none';\n",
              "\n",
              "      async function convertToInteractive(key) {\n",
              "        const element = document.querySelector('#df-8202168e-f108-4675-9b88-b08552048a70');\n",
              "        const dataTable =\n",
              "          await google.colab.kernel.invokeFunction('convertToInteractive',\n",
              "                                                    [key], {});\n",
              "        if (!dataTable) return;\n",
              "\n",
              "        const docLinkHtml = 'Like what you see? Visit the ' +\n",
              "          '<a target=\"_blank\" href=https://colab.research.google.com/notebooks/data_table.ipynb>data table notebook</a>'\n",
              "          + ' to learn more about interactive tables.';\n",
              "        element.innerHTML = '';\n",
              "        dataTable['output_type'] = 'display_data';\n",
              "        await google.colab.output.renderOutput(dataTable, element);\n",
              "        const docLink = document.createElement('div');\n",
              "        docLink.innerHTML = docLinkHtml;\n",
              "        element.appendChild(docLink);\n",
              "      }\n",
              "    </script>\n",
              "  </div>\n",
              "\n",
              "\n",
              "<div id=\"df-471eec3e-3bbb-4a6c-aeff-0d0721bc75dd\">\n",
              "  <button class=\"colab-df-quickchart\" onclick=\"quickchart('df-471eec3e-3bbb-4a6c-aeff-0d0721bc75dd')\"\n",
              "            title=\"Suggest charts.\"\n",
              "            style=\"display:none;\">\n",
              "\n",
              "<svg xmlns=\"http://www.w3.org/2000/svg\" height=\"24px\"viewBox=\"0 0 24 24\"\n",
              "     width=\"24px\">\n",
              "    <g>\n",
              "        <path d=\"M19 3H5c-1.1 0-2 .9-2 2v14c0 1.1.9 2 2 2h14c1.1 0 2-.9 2-2V5c0-1.1-.9-2-2-2zM9 17H7v-7h2v7zm4 0h-2V7h2v10zm4 0h-2v-4h2v4z\"/>\n",
              "    </g>\n",
              "</svg>\n",
              "  </button>\n",
              "\n",
              "<style>\n",
              "  .colab-df-quickchart {\n",
              "      --bg-color: #E8F0FE;\n",
              "      --fill-color: #1967D2;\n",
              "      --hover-bg-color: #E2EBFA;\n",
              "      --hover-fill-color: #174EA6;\n",
              "      --disabled-fill-color: #AAA;\n",
              "      --disabled-bg-color: #DDD;\n",
              "  }\n",
              "\n",
              "  [theme=dark] .colab-df-quickchart {\n",
              "      --bg-color: #3B4455;\n",
              "      --fill-color: #D2E3FC;\n",
              "      --hover-bg-color: #434B5C;\n",
              "      --hover-fill-color: #FFFFFF;\n",
              "      --disabled-bg-color: #3B4455;\n",
              "      --disabled-fill-color: #666;\n",
              "  }\n",
              "\n",
              "  .colab-df-quickchart {\n",
              "    background-color: var(--bg-color);\n",
              "    border: none;\n",
              "    border-radius: 50%;\n",
              "    cursor: pointer;\n",
              "    display: none;\n",
              "    fill: var(--fill-color);\n",
              "    height: 32px;\n",
              "    padding: 0;\n",
              "    width: 32px;\n",
              "  }\n",
              "\n",
              "  .colab-df-quickchart:hover {\n",
              "    background-color: var(--hover-bg-color);\n",
              "    box-shadow: 0 1px 2px rgba(60, 64, 67, 0.3), 0 1px 3px 1px rgba(60, 64, 67, 0.15);\n",
              "    fill: var(--button-hover-fill-color);\n",
              "  }\n",
              "\n",
              "  .colab-df-quickchart-complete:disabled,\n",
              "  .colab-df-quickchart-complete:disabled:hover {\n",
              "    background-color: var(--disabled-bg-color);\n",
              "    fill: var(--disabled-fill-color);\n",
              "    box-shadow: none;\n",
              "  }\n",
              "\n",
              "  .colab-df-spinner {\n",
              "    border: 2px solid var(--fill-color);\n",
              "    border-color: transparent;\n",
              "    border-bottom-color: var(--fill-color);\n",
              "    animation:\n",
              "      spin 1s steps(1) infinite;\n",
              "  }\n",
              "\n",
              "  @keyframes spin {\n",
              "    0% {\n",
              "      border-color: transparent;\n",
              "      border-bottom-color: var(--fill-color);\n",
              "      border-left-color: var(--fill-color);\n",
              "    }\n",
              "    20% {\n",
              "      border-color: transparent;\n",
              "      border-left-color: var(--fill-color);\n",
              "      border-top-color: var(--fill-color);\n",
              "    }\n",
              "    30% {\n",
              "      border-color: transparent;\n",
              "      border-left-color: var(--fill-color);\n",
              "      border-top-color: var(--fill-color);\n",
              "      border-right-color: var(--fill-color);\n",
              "    }\n",
              "    40% {\n",
              "      border-color: transparent;\n",
              "      border-right-color: var(--fill-color);\n",
              "      border-top-color: var(--fill-color);\n",
              "    }\n",
              "    60% {\n",
              "      border-color: transparent;\n",
              "      border-right-color: var(--fill-color);\n",
              "    }\n",
              "    80% {\n",
              "      border-color: transparent;\n",
              "      border-right-color: var(--fill-color);\n",
              "      border-bottom-color: var(--fill-color);\n",
              "    }\n",
              "    90% {\n",
              "      border-color: transparent;\n",
              "      border-bottom-color: var(--fill-color);\n",
              "    }\n",
              "  }\n",
              "</style>\n",
              "\n",
              "  <script>\n",
              "    async function quickchart(key) {\n",
              "      const quickchartButtonEl =\n",
              "        document.querySelector('#' + key + ' button');\n",
              "      quickchartButtonEl.disabled = true;  // To prevent multiple clicks.\n",
              "      quickchartButtonEl.classList.add('colab-df-spinner');\n",
              "      try {\n",
              "        const charts = await google.colab.kernel.invokeFunction(\n",
              "            'suggestCharts', [key], {});\n",
              "      } catch (error) {\n",
              "        console.error('Error during call to suggestCharts:', error);\n",
              "      }\n",
              "      quickchartButtonEl.classList.remove('colab-df-spinner');\n",
              "      quickchartButtonEl.classList.add('colab-df-quickchart-complete');\n",
              "    }\n",
              "    (() => {\n",
              "      let quickchartButtonEl =\n",
              "        document.querySelector('#df-471eec3e-3bbb-4a6c-aeff-0d0721bc75dd button');\n",
              "      quickchartButtonEl.style.display =\n",
              "        google.colab.kernel.accessAllowed ? 'block' : 'none';\n",
              "    })();\n",
              "  </script>\n",
              "</div>\n",
              "    </div>\n",
              "  </div>\n"
            ]
          },
          "metadata": {},
          "execution_count": 215
        }
      ]
    },
    {
      "cell_type": "code",
      "source": [
        "df_sum[df_sum['price'] == 122165]"
      ],
      "metadata": {
        "id": "3Cux-dxdgzbr",
        "colab": {
          "base_uri": "https://localhost:8080/",
          "height": 81
        },
        "outputId": "9918e05a-baf9-4c2d-fcf7-37f87a9612c4"
      },
      "execution_count": 216,
      "outputs": [
        {
          "output_type": "execute_result",
          "data": {
            "text/plain": [
              "      neighbourhood_cleansed       property_type        room_type  \\\n",
              "20140               Moreland  Entire rental unit  Entire home/apt   \n",
              "\n",
              "       accommodates bathrooms_text  bedrooms  beds     price  minimum_nights  \\\n",
              "20140             2         1 bath       1.0   1.0  122165.0               3   \n",
              "\n",
              "       number_of_reviews_ltm  review_scores_rating  \n",
              "20140                      2                   5.0  "
            ],
            "text/html": [
              "\n",
              "  <div id=\"df-744db005-6348-40ea-94fd-476ab59f3870\" class=\"colab-df-container\">\n",
              "    <div>\n",
              "<style scoped>\n",
              "    .dataframe tbody tr th:only-of-type {\n",
              "        vertical-align: middle;\n",
              "    }\n",
              "\n",
              "    .dataframe tbody tr th {\n",
              "        vertical-align: top;\n",
              "    }\n",
              "\n",
              "    .dataframe thead th {\n",
              "        text-align: right;\n",
              "    }\n",
              "</style>\n",
              "<table border=\"1\" class=\"dataframe\">\n",
              "  <thead>\n",
              "    <tr style=\"text-align: right;\">\n",
              "      <th></th>\n",
              "      <th>neighbourhood_cleansed</th>\n",
              "      <th>property_type</th>\n",
              "      <th>room_type</th>\n",
              "      <th>accommodates</th>\n",
              "      <th>bathrooms_text</th>\n",
              "      <th>bedrooms</th>\n",
              "      <th>beds</th>\n",
              "      <th>price</th>\n",
              "      <th>minimum_nights</th>\n",
              "      <th>number_of_reviews_ltm</th>\n",
              "      <th>review_scores_rating</th>\n",
              "    </tr>\n",
              "  </thead>\n",
              "  <tbody>\n",
              "    <tr>\n",
              "      <th>20140</th>\n",
              "      <td>Moreland</td>\n",
              "      <td>Entire rental unit</td>\n",
              "      <td>Entire home/apt</td>\n",
              "      <td>2</td>\n",
              "      <td>1 bath</td>\n",
              "      <td>1.0</td>\n",
              "      <td>1.0</td>\n",
              "      <td>122165.0</td>\n",
              "      <td>3</td>\n",
              "      <td>2</td>\n",
              "      <td>5.0</td>\n",
              "    </tr>\n",
              "  </tbody>\n",
              "</table>\n",
              "</div>\n",
              "    <div class=\"colab-df-buttons\">\n",
              "\n",
              "  <div class=\"colab-df-container\">\n",
              "    <button class=\"colab-df-convert\" onclick=\"convertToInteractive('df-744db005-6348-40ea-94fd-476ab59f3870')\"\n",
              "            title=\"Convert this dataframe to an interactive table.\"\n",
              "            style=\"display:none;\">\n",
              "\n",
              "  <svg xmlns=\"http://www.w3.org/2000/svg\" height=\"24px\" viewBox=\"0 -960 960 960\">\n",
              "    <path d=\"M120-120v-720h720v720H120Zm60-500h600v-160H180v160Zm220 220h160v-160H400v160Zm0 220h160v-160H400v160ZM180-400h160v-160H180v160Zm440 0h160v-160H620v160ZM180-180h160v-160H180v160Zm440 0h160v-160H620v160Z\"/>\n",
              "  </svg>\n",
              "    </button>\n",
              "\n",
              "  <style>\n",
              "    .colab-df-container {\n",
              "      display:flex;\n",
              "      gap: 12px;\n",
              "    }\n",
              "\n",
              "    .colab-df-convert {\n",
              "      background-color: #E8F0FE;\n",
              "      border: none;\n",
              "      border-radius: 50%;\n",
              "      cursor: pointer;\n",
              "      display: none;\n",
              "      fill: #1967D2;\n",
              "      height: 32px;\n",
              "      padding: 0 0 0 0;\n",
              "      width: 32px;\n",
              "    }\n",
              "\n",
              "    .colab-df-convert:hover {\n",
              "      background-color: #E2EBFA;\n",
              "      box-shadow: 0px 1px 2px rgba(60, 64, 67, 0.3), 0px 1px 3px 1px rgba(60, 64, 67, 0.15);\n",
              "      fill: #174EA6;\n",
              "    }\n",
              "\n",
              "    .colab-df-buttons div {\n",
              "      margin-bottom: 4px;\n",
              "    }\n",
              "\n",
              "    [theme=dark] .colab-df-convert {\n",
              "      background-color: #3B4455;\n",
              "      fill: #D2E3FC;\n",
              "    }\n",
              "\n",
              "    [theme=dark] .colab-df-convert:hover {\n",
              "      background-color: #434B5C;\n",
              "      box-shadow: 0px 1px 3px 1px rgba(0, 0, 0, 0.15);\n",
              "      filter: drop-shadow(0px 1px 2px rgba(0, 0, 0, 0.3));\n",
              "      fill: #FFFFFF;\n",
              "    }\n",
              "  </style>\n",
              "\n",
              "    <script>\n",
              "      const buttonEl =\n",
              "        document.querySelector('#df-744db005-6348-40ea-94fd-476ab59f3870 button.colab-df-convert');\n",
              "      buttonEl.style.display =\n",
              "        google.colab.kernel.accessAllowed ? 'block' : 'none';\n",
              "\n",
              "      async function convertToInteractive(key) {\n",
              "        const element = document.querySelector('#df-744db005-6348-40ea-94fd-476ab59f3870');\n",
              "        const dataTable =\n",
              "          await google.colab.kernel.invokeFunction('convertToInteractive',\n",
              "                                                    [key], {});\n",
              "        if (!dataTable) return;\n",
              "\n",
              "        const docLinkHtml = 'Like what you see? Visit the ' +\n",
              "          '<a target=\"_blank\" href=https://colab.research.google.com/notebooks/data_table.ipynb>data table notebook</a>'\n",
              "          + ' to learn more about interactive tables.';\n",
              "        element.innerHTML = '';\n",
              "        dataTable['output_type'] = 'display_data';\n",
              "        await google.colab.output.renderOutput(dataTable, element);\n",
              "        const docLink = document.createElement('div');\n",
              "        docLink.innerHTML = docLinkHtml;\n",
              "        element.appendChild(docLink);\n",
              "      }\n",
              "    </script>\n",
              "  </div>\n",
              "\n",
              "    </div>\n",
              "  </div>\n"
            ]
          },
          "metadata": {},
          "execution_count": 216
        }
      ]
    },
    {
      "cell_type": "code",
      "source": [
        "# Function for detecting outliers\n",
        "\n",
        "def detect_out(column):\n",
        "  iqr = np.percentile(column, 75) - np.percentile(column, 25)\n",
        "  lower_bound = np.percentile(column, 25) - iqr * 1.5\n",
        "  upper_bound = np.percentile(column, 75) + iqr * 1.5\n",
        "\n",
        "  ls_out = []\n",
        "\n",
        "  for value in column:\n",
        "    if value < lower_bound:\n",
        "      ls_out.append(-1)\n",
        "    elif value > upper_bound:\n",
        "      ls_out.append(-1)\n",
        "    else:\n",
        "      ls_out.append(1)\n",
        "\n",
        "  return np.array(ls_out)"
      ],
      "metadata": {
        "id": "RV-j4KIHNQxf"
      },
      "execution_count": 217,
      "outputs": []
    },
    {
      "cell_type": "code",
      "source": [
        "# Creating a new dataframe with no outliers for price\n",
        "\n",
        "df_analysis = (\n",
        "    df_sum\n",
        "    .assign(out_price = lambda x: detect_out(x.price))\n",
        "    .query('out_price != -1')\n",
        "    .drop('out_price', axis=1)\n",
        " )\n",
        "df_analysis"
      ],
      "metadata": {
        "id": "tu-WhwTDNUp7",
        "colab": {
          "base_uri": "https://localhost:8080/",
          "height": 562
        },
        "outputId": "d0757c2d-2fc5-482e-f872-a4e69bbcd78e"
      },
      "execution_count": 218,
      "outputs": [
        {
          "output_type": "execute_result",
          "data": {
            "text/plain": [
              "      neighbourhood_cleansed                property_type        room_type  \\\n",
              "0                   Moreland  Private room in rental unit     Private room   \n",
              "1               Port Phillip           Entire rental unit  Entire home/apt   \n",
              "2                    Darebin         Private room in home     Private room   \n",
              "3                     Monash           Entire rental unit  Entire home/apt   \n",
              "4                      Casey           Entire rental unit  Entire home/apt   \n",
              "...                      ...                          ...              ...   \n",
              "22247           Port Phillip           Entire rental unit  Entire home/apt   \n",
              "22248              Glen Eira           Entire rental unit  Entire home/apt   \n",
              "22249          Moonee Valley           Entire rental unit  Entire home/apt   \n",
              "22251              Melbourne           Entire rental unit  Entire home/apt   \n",
              "22252                   Hume         Private room in home     Private room   \n",
              "\n",
              "       accommodates bathrooms_text  bedrooms  beds  price  minimum_nights  \\\n",
              "0                 2  1 shared bath  1.913448   1.0   44.0               7   \n",
              "1                 2         1 bath  1.000000   1.0   95.0               3   \n",
              "2                 2  1 shared bath  1.913448   1.0   40.0               7   \n",
              "3                 2         1 bath  1.000000   1.0  118.0               2   \n",
              "4                 5         1 bath  3.000000   3.0  117.0               1   \n",
              "...             ...            ...       ...   ...    ...             ...   \n",
              "22247             4         1 bath  2.000000   1.0  174.0               3   \n",
              "22248             4         1 bath  2.000000   3.0  182.0               3   \n",
              "22249             2         1 bath  1.000000   1.0   70.0               3   \n",
              "22251             4        2 baths  2.000000   2.0  174.0               1   \n",
              "22252             1      1.5 baths  1.000000   1.0   35.0               1   \n",
              "\n",
              "       number_of_reviews_ltm  review_scores_rating  \n",
              "0                         25              4.490000  \n",
              "1                          0              4.680000  \n",
              "2                          0              4.710000  \n",
              "3                         20              4.870000  \n",
              "4                         35              4.860000  \n",
              "...                      ...                   ...  \n",
              "22247                      0              4.638003  \n",
              "22248                      0              4.638003  \n",
              "22249                      0              4.638003  \n",
              "22251                      0              4.638003  \n",
              "22252                      0              4.638003  \n",
              "\n",
              "[20291 rows x 11 columns]"
            ],
            "text/html": [
              "\n",
              "  <div id=\"df-6a478e34-c8d4-4179-88d8-86f383677317\" class=\"colab-df-container\">\n",
              "    <div>\n",
              "<style scoped>\n",
              "    .dataframe tbody tr th:only-of-type {\n",
              "        vertical-align: middle;\n",
              "    }\n",
              "\n",
              "    .dataframe tbody tr th {\n",
              "        vertical-align: top;\n",
              "    }\n",
              "\n",
              "    .dataframe thead th {\n",
              "        text-align: right;\n",
              "    }\n",
              "</style>\n",
              "<table border=\"1\" class=\"dataframe\">\n",
              "  <thead>\n",
              "    <tr style=\"text-align: right;\">\n",
              "      <th></th>\n",
              "      <th>neighbourhood_cleansed</th>\n",
              "      <th>property_type</th>\n",
              "      <th>room_type</th>\n",
              "      <th>accommodates</th>\n",
              "      <th>bathrooms_text</th>\n",
              "      <th>bedrooms</th>\n",
              "      <th>beds</th>\n",
              "      <th>price</th>\n",
              "      <th>minimum_nights</th>\n",
              "      <th>number_of_reviews_ltm</th>\n",
              "      <th>review_scores_rating</th>\n",
              "    </tr>\n",
              "  </thead>\n",
              "  <tbody>\n",
              "    <tr>\n",
              "      <th>0</th>\n",
              "      <td>Moreland</td>\n",
              "      <td>Private room in rental unit</td>\n",
              "      <td>Private room</td>\n",
              "      <td>2</td>\n",
              "      <td>1 shared bath</td>\n",
              "      <td>1.913448</td>\n",
              "      <td>1.0</td>\n",
              "      <td>44.0</td>\n",
              "      <td>7</td>\n",
              "      <td>25</td>\n",
              "      <td>4.490000</td>\n",
              "    </tr>\n",
              "    <tr>\n",
              "      <th>1</th>\n",
              "      <td>Port Phillip</td>\n",
              "      <td>Entire rental unit</td>\n",
              "      <td>Entire home/apt</td>\n",
              "      <td>2</td>\n",
              "      <td>1 bath</td>\n",
              "      <td>1.000000</td>\n",
              "      <td>1.0</td>\n",
              "      <td>95.0</td>\n",
              "      <td>3</td>\n",
              "      <td>0</td>\n",
              "      <td>4.680000</td>\n",
              "    </tr>\n",
              "    <tr>\n",
              "      <th>2</th>\n",
              "      <td>Darebin</td>\n",
              "      <td>Private room in home</td>\n",
              "      <td>Private room</td>\n",
              "      <td>2</td>\n",
              "      <td>1 shared bath</td>\n",
              "      <td>1.913448</td>\n",
              "      <td>1.0</td>\n",
              "      <td>40.0</td>\n",
              "      <td>7</td>\n",
              "      <td>0</td>\n",
              "      <td>4.710000</td>\n",
              "    </tr>\n",
              "    <tr>\n",
              "      <th>3</th>\n",
              "      <td>Monash</td>\n",
              "      <td>Entire rental unit</td>\n",
              "      <td>Entire home/apt</td>\n",
              "      <td>2</td>\n",
              "      <td>1 bath</td>\n",
              "      <td>1.000000</td>\n",
              "      <td>1.0</td>\n",
              "      <td>118.0</td>\n",
              "      <td>2</td>\n",
              "      <td>20</td>\n",
              "      <td>4.870000</td>\n",
              "    </tr>\n",
              "    <tr>\n",
              "      <th>4</th>\n",
              "      <td>Casey</td>\n",
              "      <td>Entire rental unit</td>\n",
              "      <td>Entire home/apt</td>\n",
              "      <td>5</td>\n",
              "      <td>1 bath</td>\n",
              "      <td>3.000000</td>\n",
              "      <td>3.0</td>\n",
              "      <td>117.0</td>\n",
              "      <td>1</td>\n",
              "      <td>35</td>\n",
              "      <td>4.860000</td>\n",
              "    </tr>\n",
              "    <tr>\n",
              "      <th>...</th>\n",
              "      <td>...</td>\n",
              "      <td>...</td>\n",
              "      <td>...</td>\n",
              "      <td>...</td>\n",
              "      <td>...</td>\n",
              "      <td>...</td>\n",
              "      <td>...</td>\n",
              "      <td>...</td>\n",
              "      <td>...</td>\n",
              "      <td>...</td>\n",
              "      <td>...</td>\n",
              "    </tr>\n",
              "    <tr>\n",
              "      <th>22247</th>\n",
              "      <td>Port Phillip</td>\n",
              "      <td>Entire rental unit</td>\n",
              "      <td>Entire home/apt</td>\n",
              "      <td>4</td>\n",
              "      <td>1 bath</td>\n",
              "      <td>2.000000</td>\n",
              "      <td>1.0</td>\n",
              "      <td>174.0</td>\n",
              "      <td>3</td>\n",
              "      <td>0</td>\n",
              "      <td>4.638003</td>\n",
              "    </tr>\n",
              "    <tr>\n",
              "      <th>22248</th>\n",
              "      <td>Glen Eira</td>\n",
              "      <td>Entire rental unit</td>\n",
              "      <td>Entire home/apt</td>\n",
              "      <td>4</td>\n",
              "      <td>1 bath</td>\n",
              "      <td>2.000000</td>\n",
              "      <td>3.0</td>\n",
              "      <td>182.0</td>\n",
              "      <td>3</td>\n",
              "      <td>0</td>\n",
              "      <td>4.638003</td>\n",
              "    </tr>\n",
              "    <tr>\n",
              "      <th>22249</th>\n",
              "      <td>Moonee Valley</td>\n",
              "      <td>Entire rental unit</td>\n",
              "      <td>Entire home/apt</td>\n",
              "      <td>2</td>\n",
              "      <td>1 bath</td>\n",
              "      <td>1.000000</td>\n",
              "      <td>1.0</td>\n",
              "      <td>70.0</td>\n",
              "      <td>3</td>\n",
              "      <td>0</td>\n",
              "      <td>4.638003</td>\n",
              "    </tr>\n",
              "    <tr>\n",
              "      <th>22251</th>\n",
              "      <td>Melbourne</td>\n",
              "      <td>Entire rental unit</td>\n",
              "      <td>Entire home/apt</td>\n",
              "      <td>4</td>\n",
              "      <td>2 baths</td>\n",
              "      <td>2.000000</td>\n",
              "      <td>2.0</td>\n",
              "      <td>174.0</td>\n",
              "      <td>1</td>\n",
              "      <td>0</td>\n",
              "      <td>4.638003</td>\n",
              "    </tr>\n",
              "    <tr>\n",
              "      <th>22252</th>\n",
              "      <td>Hume</td>\n",
              "      <td>Private room in home</td>\n",
              "      <td>Private room</td>\n",
              "      <td>1</td>\n",
              "      <td>1.5 baths</td>\n",
              "      <td>1.000000</td>\n",
              "      <td>1.0</td>\n",
              "      <td>35.0</td>\n",
              "      <td>1</td>\n",
              "      <td>0</td>\n",
              "      <td>4.638003</td>\n",
              "    </tr>\n",
              "  </tbody>\n",
              "</table>\n",
              "<p>20291 rows × 11 columns</p>\n",
              "</div>\n",
              "    <div class=\"colab-df-buttons\">\n",
              "\n",
              "  <div class=\"colab-df-container\">\n",
              "    <button class=\"colab-df-convert\" onclick=\"convertToInteractive('df-6a478e34-c8d4-4179-88d8-86f383677317')\"\n",
              "            title=\"Convert this dataframe to an interactive table.\"\n",
              "            style=\"display:none;\">\n",
              "\n",
              "  <svg xmlns=\"http://www.w3.org/2000/svg\" height=\"24px\" viewBox=\"0 -960 960 960\">\n",
              "    <path d=\"M120-120v-720h720v720H120Zm60-500h600v-160H180v160Zm220 220h160v-160H400v160Zm0 220h160v-160H400v160ZM180-400h160v-160H180v160Zm440 0h160v-160H620v160ZM180-180h160v-160H180v160Zm440 0h160v-160H620v160Z\"/>\n",
              "  </svg>\n",
              "    </button>\n",
              "\n",
              "  <style>\n",
              "    .colab-df-container {\n",
              "      display:flex;\n",
              "      gap: 12px;\n",
              "    }\n",
              "\n",
              "    .colab-df-convert {\n",
              "      background-color: #E8F0FE;\n",
              "      border: none;\n",
              "      border-radius: 50%;\n",
              "      cursor: pointer;\n",
              "      display: none;\n",
              "      fill: #1967D2;\n",
              "      height: 32px;\n",
              "      padding: 0 0 0 0;\n",
              "      width: 32px;\n",
              "    }\n",
              "\n",
              "    .colab-df-convert:hover {\n",
              "      background-color: #E2EBFA;\n",
              "      box-shadow: 0px 1px 2px rgba(60, 64, 67, 0.3), 0px 1px 3px 1px rgba(60, 64, 67, 0.15);\n",
              "      fill: #174EA6;\n",
              "    }\n",
              "\n",
              "    .colab-df-buttons div {\n",
              "      margin-bottom: 4px;\n",
              "    }\n",
              "\n",
              "    [theme=dark] .colab-df-convert {\n",
              "      background-color: #3B4455;\n",
              "      fill: #D2E3FC;\n",
              "    }\n",
              "\n",
              "    [theme=dark] .colab-df-convert:hover {\n",
              "      background-color: #434B5C;\n",
              "      box-shadow: 0px 1px 3px 1px rgba(0, 0, 0, 0.15);\n",
              "      filter: drop-shadow(0px 1px 2px rgba(0, 0, 0, 0.3));\n",
              "      fill: #FFFFFF;\n",
              "    }\n",
              "  </style>\n",
              "\n",
              "    <script>\n",
              "      const buttonEl =\n",
              "        document.querySelector('#df-6a478e34-c8d4-4179-88d8-86f383677317 button.colab-df-convert');\n",
              "      buttonEl.style.display =\n",
              "        google.colab.kernel.accessAllowed ? 'block' : 'none';\n",
              "\n",
              "      async function convertToInteractive(key) {\n",
              "        const element = document.querySelector('#df-6a478e34-c8d4-4179-88d8-86f383677317');\n",
              "        const dataTable =\n",
              "          await google.colab.kernel.invokeFunction('convertToInteractive',\n",
              "                                                    [key], {});\n",
              "        if (!dataTable) return;\n",
              "\n",
              "        const docLinkHtml = 'Like what you see? Visit the ' +\n",
              "          '<a target=\"_blank\" href=https://colab.research.google.com/notebooks/data_table.ipynb>data table notebook</a>'\n",
              "          + ' to learn more about interactive tables.';\n",
              "        element.innerHTML = '';\n",
              "        dataTable['output_type'] = 'display_data';\n",
              "        await google.colab.output.renderOutput(dataTable, element);\n",
              "        const docLink = document.createElement('div');\n",
              "        docLink.innerHTML = docLinkHtml;\n",
              "        element.appendChild(docLink);\n",
              "      }\n",
              "    </script>\n",
              "  </div>\n",
              "\n",
              "\n",
              "<div id=\"df-69065e3b-024c-4337-bf5f-5430c5533403\">\n",
              "  <button class=\"colab-df-quickchart\" onclick=\"quickchart('df-69065e3b-024c-4337-bf5f-5430c5533403')\"\n",
              "            title=\"Suggest charts.\"\n",
              "            style=\"display:none;\">\n",
              "\n",
              "<svg xmlns=\"http://www.w3.org/2000/svg\" height=\"24px\"viewBox=\"0 0 24 24\"\n",
              "     width=\"24px\">\n",
              "    <g>\n",
              "        <path d=\"M19 3H5c-1.1 0-2 .9-2 2v14c0 1.1.9 2 2 2h14c1.1 0 2-.9 2-2V5c0-1.1-.9-2-2-2zM9 17H7v-7h2v7zm4 0h-2V7h2v10zm4 0h-2v-4h2v4z\"/>\n",
              "    </g>\n",
              "</svg>\n",
              "  </button>\n",
              "\n",
              "<style>\n",
              "  .colab-df-quickchart {\n",
              "      --bg-color: #E8F0FE;\n",
              "      --fill-color: #1967D2;\n",
              "      --hover-bg-color: #E2EBFA;\n",
              "      --hover-fill-color: #174EA6;\n",
              "      --disabled-fill-color: #AAA;\n",
              "      --disabled-bg-color: #DDD;\n",
              "  }\n",
              "\n",
              "  [theme=dark] .colab-df-quickchart {\n",
              "      --bg-color: #3B4455;\n",
              "      --fill-color: #D2E3FC;\n",
              "      --hover-bg-color: #434B5C;\n",
              "      --hover-fill-color: #FFFFFF;\n",
              "      --disabled-bg-color: #3B4455;\n",
              "      --disabled-fill-color: #666;\n",
              "  }\n",
              "\n",
              "  .colab-df-quickchart {\n",
              "    background-color: var(--bg-color);\n",
              "    border: none;\n",
              "    border-radius: 50%;\n",
              "    cursor: pointer;\n",
              "    display: none;\n",
              "    fill: var(--fill-color);\n",
              "    height: 32px;\n",
              "    padding: 0;\n",
              "    width: 32px;\n",
              "  }\n",
              "\n",
              "  .colab-df-quickchart:hover {\n",
              "    background-color: var(--hover-bg-color);\n",
              "    box-shadow: 0 1px 2px rgba(60, 64, 67, 0.3), 0 1px 3px 1px rgba(60, 64, 67, 0.15);\n",
              "    fill: var(--button-hover-fill-color);\n",
              "  }\n",
              "\n",
              "  .colab-df-quickchart-complete:disabled,\n",
              "  .colab-df-quickchart-complete:disabled:hover {\n",
              "    background-color: var(--disabled-bg-color);\n",
              "    fill: var(--disabled-fill-color);\n",
              "    box-shadow: none;\n",
              "  }\n",
              "\n",
              "  .colab-df-spinner {\n",
              "    border: 2px solid var(--fill-color);\n",
              "    border-color: transparent;\n",
              "    border-bottom-color: var(--fill-color);\n",
              "    animation:\n",
              "      spin 1s steps(1) infinite;\n",
              "  }\n",
              "\n",
              "  @keyframes spin {\n",
              "    0% {\n",
              "      border-color: transparent;\n",
              "      border-bottom-color: var(--fill-color);\n",
              "      border-left-color: var(--fill-color);\n",
              "    }\n",
              "    20% {\n",
              "      border-color: transparent;\n",
              "      border-left-color: var(--fill-color);\n",
              "      border-top-color: var(--fill-color);\n",
              "    }\n",
              "    30% {\n",
              "      border-color: transparent;\n",
              "      border-left-color: var(--fill-color);\n",
              "      border-top-color: var(--fill-color);\n",
              "      border-right-color: var(--fill-color);\n",
              "    }\n",
              "    40% {\n",
              "      border-color: transparent;\n",
              "      border-right-color: var(--fill-color);\n",
              "      border-top-color: var(--fill-color);\n",
              "    }\n",
              "    60% {\n",
              "      border-color: transparent;\n",
              "      border-right-color: var(--fill-color);\n",
              "    }\n",
              "    80% {\n",
              "      border-color: transparent;\n",
              "      border-right-color: var(--fill-color);\n",
              "      border-bottom-color: var(--fill-color);\n",
              "    }\n",
              "    90% {\n",
              "      border-color: transparent;\n",
              "      border-bottom-color: var(--fill-color);\n",
              "    }\n",
              "  }\n",
              "</style>\n",
              "\n",
              "  <script>\n",
              "    async function quickchart(key) {\n",
              "      const quickchartButtonEl =\n",
              "        document.querySelector('#' + key + ' button');\n",
              "      quickchartButtonEl.disabled = true;  // To prevent multiple clicks.\n",
              "      quickchartButtonEl.classList.add('colab-df-spinner');\n",
              "      try {\n",
              "        const charts = await google.colab.kernel.invokeFunction(\n",
              "            'suggestCharts', [key], {});\n",
              "      } catch (error) {\n",
              "        console.error('Error during call to suggestCharts:', error);\n",
              "      }\n",
              "      quickchartButtonEl.classList.remove('colab-df-spinner');\n",
              "      quickchartButtonEl.classList.add('colab-df-quickchart-complete');\n",
              "    }\n",
              "    (() => {\n",
              "      let quickchartButtonEl =\n",
              "        document.querySelector('#df-69065e3b-024c-4337-bf5f-5430c5533403 button');\n",
              "      quickchartButtonEl.style.display =\n",
              "        google.colab.kernel.accessAllowed ? 'block' : 'none';\n",
              "    })();\n",
              "  </script>\n",
              "</div>\n",
              "    </div>\n",
              "  </div>\n"
            ]
          },
          "metadata": {},
          "execution_count": 218
        }
      ]
    },
    {
      "cell_type": "code",
      "source": [
        "df_analysis.info()"
      ],
      "metadata": {
        "colab": {
          "base_uri": "https://localhost:8080/"
        },
        "id": "QrcMM5oQiroA",
        "outputId": "17b00c62-116a-4c23-a27c-d9ddc3dda5ba"
      },
      "execution_count": 219,
      "outputs": [
        {
          "output_type": "stream",
          "name": "stdout",
          "text": [
            "<class 'pandas.core.frame.DataFrame'>\n",
            "Int64Index: 20291 entries, 0 to 22252\n",
            "Data columns (total 11 columns):\n",
            " #   Column                  Non-Null Count  Dtype  \n",
            "---  ------                  --------------  -----  \n",
            " 0   neighbourhood_cleansed  20291 non-null  object \n",
            " 1   property_type           20291 non-null  object \n",
            " 2   room_type               20291 non-null  object \n",
            " 3   accommodates            20291 non-null  int64  \n",
            " 4   bathrooms_text          20291 non-null  object \n",
            " 5   bedrooms                20291 non-null  float64\n",
            " 6   beds                    20291 non-null  float64\n",
            " 7   price                   20291 non-null  float64\n",
            " 8   minimum_nights          20291 non-null  int64  \n",
            " 9   number_of_reviews_ltm   20291 non-null  int64  \n",
            " 10  review_scores_rating    20291 non-null  float64\n",
            "dtypes: float64(4), int64(3), object(4)\n",
            "memory usage: 1.9+ MB\n"
          ]
        }
      ]
    },
    {
      "cell_type": "code",
      "source": [
        "# Checking the correlation between features\n",
        "\n",
        "df_analysis.corr().round(1)"
      ],
      "metadata": {
        "id": "6-sLLgPnNUtd",
        "colab": {
          "base_uri": "https://localhost:8080/",
          "height": 326
        },
        "outputId": "7085a38f-5634-41d1-b1fa-3d6cc41e3df1"
      },
      "execution_count": 220,
      "outputs": [
        {
          "output_type": "stream",
          "name": "stderr",
          "text": [
            "<ipython-input-220-32dbd1b4169a>:3: FutureWarning: The default value of numeric_only in DataFrame.corr is deprecated. In a future version, it will default to False. Select only valid columns or specify the value of numeric_only to silence this warning.\n",
            "  df_analysis.corr().round(1)\n"
          ]
        },
        {
          "output_type": "execute_result",
          "data": {
            "text/plain": [
              "                       accommodates  bedrooms  beds  price  minimum_nights  \\\n",
              "accommodates                    1.0       0.7   0.8    0.6            -0.0   \n",
              "bedrooms                        0.7       1.0   0.7    0.3            -0.0   \n",
              "beds                            0.8       0.7   1.0    0.5             0.0   \n",
              "price                           0.6       0.3   0.5    1.0            -0.0   \n",
              "minimum_nights                 -0.0      -0.0   0.0   -0.0             1.0   \n",
              "number_of_reviews_ltm           0.1      -0.1   0.0    0.1            -0.1   \n",
              "review_scores_rating            0.0       0.0   0.0    0.1            -0.0   \n",
              "\n",
              "                       number_of_reviews_ltm  review_scores_rating  \n",
              "accommodates                             0.1                   0.0  \n",
              "bedrooms                                -0.1                   0.0  \n",
              "beds                                     0.0                   0.0  \n",
              "price                                    0.1                   0.1  \n",
              "minimum_nights                          -0.1                  -0.0  \n",
              "number_of_reviews_ltm                    1.0                   0.1  \n",
              "review_scores_rating                     0.1                   1.0  "
            ],
            "text/html": [
              "\n",
              "  <div id=\"df-e4c8dada-4910-481b-9fb9-ce1e2abe1afd\" class=\"colab-df-container\">\n",
              "    <div>\n",
              "<style scoped>\n",
              "    .dataframe tbody tr th:only-of-type {\n",
              "        vertical-align: middle;\n",
              "    }\n",
              "\n",
              "    .dataframe tbody tr th {\n",
              "        vertical-align: top;\n",
              "    }\n",
              "\n",
              "    .dataframe thead th {\n",
              "        text-align: right;\n",
              "    }\n",
              "</style>\n",
              "<table border=\"1\" class=\"dataframe\">\n",
              "  <thead>\n",
              "    <tr style=\"text-align: right;\">\n",
              "      <th></th>\n",
              "      <th>accommodates</th>\n",
              "      <th>bedrooms</th>\n",
              "      <th>beds</th>\n",
              "      <th>price</th>\n",
              "      <th>minimum_nights</th>\n",
              "      <th>number_of_reviews_ltm</th>\n",
              "      <th>review_scores_rating</th>\n",
              "    </tr>\n",
              "  </thead>\n",
              "  <tbody>\n",
              "    <tr>\n",
              "      <th>accommodates</th>\n",
              "      <td>1.0</td>\n",
              "      <td>0.7</td>\n",
              "      <td>0.8</td>\n",
              "      <td>0.6</td>\n",
              "      <td>-0.0</td>\n",
              "      <td>0.1</td>\n",
              "      <td>0.0</td>\n",
              "    </tr>\n",
              "    <tr>\n",
              "      <th>bedrooms</th>\n",
              "      <td>0.7</td>\n",
              "      <td>1.0</td>\n",
              "      <td>0.7</td>\n",
              "      <td>0.3</td>\n",
              "      <td>-0.0</td>\n",
              "      <td>-0.1</td>\n",
              "      <td>0.0</td>\n",
              "    </tr>\n",
              "    <tr>\n",
              "      <th>beds</th>\n",
              "      <td>0.8</td>\n",
              "      <td>0.7</td>\n",
              "      <td>1.0</td>\n",
              "      <td>0.5</td>\n",
              "      <td>0.0</td>\n",
              "      <td>0.0</td>\n",
              "      <td>0.0</td>\n",
              "    </tr>\n",
              "    <tr>\n",
              "      <th>price</th>\n",
              "      <td>0.6</td>\n",
              "      <td>0.3</td>\n",
              "      <td>0.5</td>\n",
              "      <td>1.0</td>\n",
              "      <td>-0.0</td>\n",
              "      <td>0.1</td>\n",
              "      <td>0.1</td>\n",
              "    </tr>\n",
              "    <tr>\n",
              "      <th>minimum_nights</th>\n",
              "      <td>-0.0</td>\n",
              "      <td>-0.0</td>\n",
              "      <td>0.0</td>\n",
              "      <td>-0.0</td>\n",
              "      <td>1.0</td>\n",
              "      <td>-0.1</td>\n",
              "      <td>-0.0</td>\n",
              "    </tr>\n",
              "    <tr>\n",
              "      <th>number_of_reviews_ltm</th>\n",
              "      <td>0.1</td>\n",
              "      <td>-0.1</td>\n",
              "      <td>0.0</td>\n",
              "      <td>0.1</td>\n",
              "      <td>-0.1</td>\n",
              "      <td>1.0</td>\n",
              "      <td>0.1</td>\n",
              "    </tr>\n",
              "    <tr>\n",
              "      <th>review_scores_rating</th>\n",
              "      <td>0.0</td>\n",
              "      <td>0.0</td>\n",
              "      <td>0.0</td>\n",
              "      <td>0.1</td>\n",
              "      <td>-0.0</td>\n",
              "      <td>0.1</td>\n",
              "      <td>1.0</td>\n",
              "    </tr>\n",
              "  </tbody>\n",
              "</table>\n",
              "</div>\n",
              "    <div class=\"colab-df-buttons\">\n",
              "\n",
              "  <div class=\"colab-df-container\">\n",
              "    <button class=\"colab-df-convert\" onclick=\"convertToInteractive('df-e4c8dada-4910-481b-9fb9-ce1e2abe1afd')\"\n",
              "            title=\"Convert this dataframe to an interactive table.\"\n",
              "            style=\"display:none;\">\n",
              "\n",
              "  <svg xmlns=\"http://www.w3.org/2000/svg\" height=\"24px\" viewBox=\"0 -960 960 960\">\n",
              "    <path d=\"M120-120v-720h720v720H120Zm60-500h600v-160H180v160Zm220 220h160v-160H400v160Zm0 220h160v-160H400v160ZM180-400h160v-160H180v160Zm440 0h160v-160H620v160ZM180-180h160v-160H180v160Zm440 0h160v-160H620v160Z\"/>\n",
              "  </svg>\n",
              "    </button>\n",
              "\n",
              "  <style>\n",
              "    .colab-df-container {\n",
              "      display:flex;\n",
              "      gap: 12px;\n",
              "    }\n",
              "\n",
              "    .colab-df-convert {\n",
              "      background-color: #E8F0FE;\n",
              "      border: none;\n",
              "      border-radius: 50%;\n",
              "      cursor: pointer;\n",
              "      display: none;\n",
              "      fill: #1967D2;\n",
              "      height: 32px;\n",
              "      padding: 0 0 0 0;\n",
              "      width: 32px;\n",
              "    }\n",
              "\n",
              "    .colab-df-convert:hover {\n",
              "      background-color: #E2EBFA;\n",
              "      box-shadow: 0px 1px 2px rgba(60, 64, 67, 0.3), 0px 1px 3px 1px rgba(60, 64, 67, 0.15);\n",
              "      fill: #174EA6;\n",
              "    }\n",
              "\n",
              "    .colab-df-buttons div {\n",
              "      margin-bottom: 4px;\n",
              "    }\n",
              "\n",
              "    [theme=dark] .colab-df-convert {\n",
              "      background-color: #3B4455;\n",
              "      fill: #D2E3FC;\n",
              "    }\n",
              "\n",
              "    [theme=dark] .colab-df-convert:hover {\n",
              "      background-color: #434B5C;\n",
              "      box-shadow: 0px 1px 3px 1px rgba(0, 0, 0, 0.15);\n",
              "      filter: drop-shadow(0px 1px 2px rgba(0, 0, 0, 0.3));\n",
              "      fill: #FFFFFF;\n",
              "    }\n",
              "  </style>\n",
              "\n",
              "    <script>\n",
              "      const buttonEl =\n",
              "        document.querySelector('#df-e4c8dada-4910-481b-9fb9-ce1e2abe1afd button.colab-df-convert');\n",
              "      buttonEl.style.display =\n",
              "        google.colab.kernel.accessAllowed ? 'block' : 'none';\n",
              "\n",
              "      async function convertToInteractive(key) {\n",
              "        const element = document.querySelector('#df-e4c8dada-4910-481b-9fb9-ce1e2abe1afd');\n",
              "        const dataTable =\n",
              "          await google.colab.kernel.invokeFunction('convertToInteractive',\n",
              "                                                    [key], {});\n",
              "        if (!dataTable) return;\n",
              "\n",
              "        const docLinkHtml = 'Like what you see? Visit the ' +\n",
              "          '<a target=\"_blank\" href=https://colab.research.google.com/notebooks/data_table.ipynb>data table notebook</a>'\n",
              "          + ' to learn more about interactive tables.';\n",
              "        element.innerHTML = '';\n",
              "        dataTable['output_type'] = 'display_data';\n",
              "        await google.colab.output.renderOutput(dataTable, element);\n",
              "        const docLink = document.createElement('div');\n",
              "        docLink.innerHTML = docLinkHtml;\n",
              "        element.appendChild(docLink);\n",
              "      }\n",
              "    </script>\n",
              "  </div>\n",
              "\n",
              "\n",
              "<div id=\"df-12aa3718-cdf3-47d0-bf3c-2caab0ddab56\">\n",
              "  <button class=\"colab-df-quickchart\" onclick=\"quickchart('df-12aa3718-cdf3-47d0-bf3c-2caab0ddab56')\"\n",
              "            title=\"Suggest charts.\"\n",
              "            style=\"display:none;\">\n",
              "\n",
              "<svg xmlns=\"http://www.w3.org/2000/svg\" height=\"24px\"viewBox=\"0 0 24 24\"\n",
              "     width=\"24px\">\n",
              "    <g>\n",
              "        <path d=\"M19 3H5c-1.1 0-2 .9-2 2v14c0 1.1.9 2 2 2h14c1.1 0 2-.9 2-2V5c0-1.1-.9-2-2-2zM9 17H7v-7h2v7zm4 0h-2V7h2v10zm4 0h-2v-4h2v4z\"/>\n",
              "    </g>\n",
              "</svg>\n",
              "  </button>\n",
              "\n",
              "<style>\n",
              "  .colab-df-quickchart {\n",
              "      --bg-color: #E8F0FE;\n",
              "      --fill-color: #1967D2;\n",
              "      --hover-bg-color: #E2EBFA;\n",
              "      --hover-fill-color: #174EA6;\n",
              "      --disabled-fill-color: #AAA;\n",
              "      --disabled-bg-color: #DDD;\n",
              "  }\n",
              "\n",
              "  [theme=dark] .colab-df-quickchart {\n",
              "      --bg-color: #3B4455;\n",
              "      --fill-color: #D2E3FC;\n",
              "      --hover-bg-color: #434B5C;\n",
              "      --hover-fill-color: #FFFFFF;\n",
              "      --disabled-bg-color: #3B4455;\n",
              "      --disabled-fill-color: #666;\n",
              "  }\n",
              "\n",
              "  .colab-df-quickchart {\n",
              "    background-color: var(--bg-color);\n",
              "    border: none;\n",
              "    border-radius: 50%;\n",
              "    cursor: pointer;\n",
              "    display: none;\n",
              "    fill: var(--fill-color);\n",
              "    height: 32px;\n",
              "    padding: 0;\n",
              "    width: 32px;\n",
              "  }\n",
              "\n",
              "  .colab-df-quickchart:hover {\n",
              "    background-color: var(--hover-bg-color);\n",
              "    box-shadow: 0 1px 2px rgba(60, 64, 67, 0.3), 0 1px 3px 1px rgba(60, 64, 67, 0.15);\n",
              "    fill: var(--button-hover-fill-color);\n",
              "  }\n",
              "\n",
              "  .colab-df-quickchart-complete:disabled,\n",
              "  .colab-df-quickchart-complete:disabled:hover {\n",
              "    background-color: var(--disabled-bg-color);\n",
              "    fill: var(--disabled-fill-color);\n",
              "    box-shadow: none;\n",
              "  }\n",
              "\n",
              "  .colab-df-spinner {\n",
              "    border: 2px solid var(--fill-color);\n",
              "    border-color: transparent;\n",
              "    border-bottom-color: var(--fill-color);\n",
              "    animation:\n",
              "      spin 1s steps(1) infinite;\n",
              "  }\n",
              "\n",
              "  @keyframes spin {\n",
              "    0% {\n",
              "      border-color: transparent;\n",
              "      border-bottom-color: var(--fill-color);\n",
              "      border-left-color: var(--fill-color);\n",
              "    }\n",
              "    20% {\n",
              "      border-color: transparent;\n",
              "      border-left-color: var(--fill-color);\n",
              "      border-top-color: var(--fill-color);\n",
              "    }\n",
              "    30% {\n",
              "      border-color: transparent;\n",
              "      border-left-color: var(--fill-color);\n",
              "      border-top-color: var(--fill-color);\n",
              "      border-right-color: var(--fill-color);\n",
              "    }\n",
              "    40% {\n",
              "      border-color: transparent;\n",
              "      border-right-color: var(--fill-color);\n",
              "      border-top-color: var(--fill-color);\n",
              "    }\n",
              "    60% {\n",
              "      border-color: transparent;\n",
              "      border-right-color: var(--fill-color);\n",
              "    }\n",
              "    80% {\n",
              "      border-color: transparent;\n",
              "      border-right-color: var(--fill-color);\n",
              "      border-bottom-color: var(--fill-color);\n",
              "    }\n",
              "    90% {\n",
              "      border-color: transparent;\n",
              "      border-bottom-color: var(--fill-color);\n",
              "    }\n",
              "  }\n",
              "</style>\n",
              "\n",
              "  <script>\n",
              "    async function quickchart(key) {\n",
              "      const quickchartButtonEl =\n",
              "        document.querySelector('#' + key + ' button');\n",
              "      quickchartButtonEl.disabled = true;  // To prevent multiple clicks.\n",
              "      quickchartButtonEl.classList.add('colab-df-spinner');\n",
              "      try {\n",
              "        const charts = await google.colab.kernel.invokeFunction(\n",
              "            'suggestCharts', [key], {});\n",
              "      } catch (error) {\n",
              "        console.error('Error during call to suggestCharts:', error);\n",
              "      }\n",
              "      quickchartButtonEl.classList.remove('colab-df-spinner');\n",
              "      quickchartButtonEl.classList.add('colab-df-quickchart-complete');\n",
              "    }\n",
              "    (() => {\n",
              "      let quickchartButtonEl =\n",
              "        document.querySelector('#df-12aa3718-cdf3-47d0-bf3c-2caab0ddab56 button');\n",
              "      quickchartButtonEl.style.display =\n",
              "        google.colab.kernel.accessAllowed ? 'block' : 'none';\n",
              "    })();\n",
              "  </script>\n",
              "</div>\n",
              "    </div>\n",
              "  </div>\n"
            ]
          },
          "metadata": {},
          "execution_count": 220
        }
      ]
    },
    {
      "cell_type": "markdown",
      "source": [
        "# Predicting the price"
      ],
      "metadata": {
        "id": "PgZSVrnAQiLv"
      }
    },
    {
      "cell_type": "markdown",
      "source": [
        "## Testing a Linear Regression"
      ],
      "metadata": {
        "id": "SOv1Pbg8vE8V"
      }
    },
    {
      "cell_type": "code",
      "source": [
        "df_analysis.info()"
      ],
      "metadata": {
        "id": "IlNr5gxqT73u",
        "colab": {
          "base_uri": "https://localhost:8080/"
        },
        "outputId": "d4a15190-3ba5-4de3-965d-b87d46cb549b"
      },
      "execution_count": 221,
      "outputs": [
        {
          "output_type": "stream",
          "name": "stdout",
          "text": [
            "<class 'pandas.core.frame.DataFrame'>\n",
            "Int64Index: 20291 entries, 0 to 22252\n",
            "Data columns (total 11 columns):\n",
            " #   Column                  Non-Null Count  Dtype  \n",
            "---  ------                  --------------  -----  \n",
            " 0   neighbourhood_cleansed  20291 non-null  object \n",
            " 1   property_type           20291 non-null  object \n",
            " 2   room_type               20291 non-null  object \n",
            " 3   accommodates            20291 non-null  int64  \n",
            " 4   bathrooms_text          20291 non-null  object \n",
            " 5   bedrooms                20291 non-null  float64\n",
            " 6   beds                    20291 non-null  float64\n",
            " 7   price                   20291 non-null  float64\n",
            " 8   minimum_nights          20291 non-null  int64  \n",
            " 9   number_of_reviews_ltm   20291 non-null  int64  \n",
            " 10  review_scores_rating    20291 non-null  float64\n",
            "dtypes: float64(4), int64(3), object(4)\n",
            "memory usage: 1.9+ MB\n"
          ]
        }
      ]
    },
    {
      "cell_type": "code",
      "source": [
        "# Pre Processing Categorical Features\n",
        "\n",
        "ohe = OneHotEncoder(sparse_output=False)\n",
        "\n",
        "rt_t = pd.DataFrame(ohe.fit_transform(df_analysis.room_type.values.reshape(-1,1)), columns=ohe.get_feature_names_out())"
      ],
      "metadata": {
        "id": "XeP1g9ycRMS3"
      },
      "execution_count": 222,
      "outputs": []
    },
    {
      "cell_type": "code",
      "source": [
        "df_reg = (\n",
        "    df_analysis\n",
        "    .merge(rt_t, left_index=True, right_index=True)\n",
        "    .drop(['neighbourhood_cleansed', 'property_type', 'room_type',\n",
        "           'bathrooms_text', 'number_of_reviews_ltm'], axis=1))\n",
        "\n",
        "df_reg.info()"
      ],
      "metadata": {
        "id": "DpEp-0yjV6x7",
        "colab": {
          "base_uri": "https://localhost:8080/"
        },
        "outputId": "9dec4958-f509-4891-8115-a6fed67a87d0"
      },
      "execution_count": 223,
      "outputs": [
        {
          "output_type": "stream",
          "name": "stdout",
          "text": [
            "<class 'pandas.core.frame.DataFrame'>\n",
            "Int64Index: 18434 entries, 0 to 20290\n",
            "Data columns (total 10 columns):\n",
            " #   Column                Non-Null Count  Dtype  \n",
            "---  ------                --------------  -----  \n",
            " 0   accommodates          18434 non-null  int64  \n",
            " 1   bedrooms              18434 non-null  float64\n",
            " 2   beds                  18434 non-null  float64\n",
            " 3   price                 18434 non-null  float64\n",
            " 4   minimum_nights        18434 non-null  int64  \n",
            " 5   review_scores_rating  18434 non-null  float64\n",
            " 6   x0_Entire home/apt    18434 non-null  float64\n",
            " 7   x0_Hotel room         18434 non-null  float64\n",
            " 8   x0_Private room       18434 non-null  float64\n",
            " 9   x0_Shared room        18434 non-null  float64\n",
            "dtypes: float64(8), int64(2)\n",
            "memory usage: 1.5 MB\n"
          ]
        }
      ]
    },
    {
      "cell_type": "code",
      "source": [
        "df_reg.corr().round(2)"
      ],
      "metadata": {
        "id": "OvfpVr4NW9Qr",
        "colab": {
          "base_uri": "https://localhost:8080/",
          "height": 363
        },
        "outputId": "1f5a74e5-84f4-4a6a-dcc1-411639c0cdec"
      },
      "execution_count": 224,
      "outputs": [
        {
          "output_type": "execute_result",
          "data": {
            "text/plain": [
              "                      accommodates  bedrooms  beds  price  minimum_nights  \\\n",
              "accommodates                  1.00      0.64  0.85   0.59           -0.00   \n",
              "bedrooms                      0.64      1.00  0.66   0.33           -0.00   \n",
              "beds                          0.85      0.66  1.00   0.50            0.00   \n",
              "price                         0.59      0.33  0.50   1.00           -0.02   \n",
              "minimum_nights               -0.00     -0.00  0.00  -0.02            1.00   \n",
              "review_scores_rating          0.04      0.00  0.02   0.09           -0.01   \n",
              "x0_Entire home/apt            0.02      0.00  0.02   0.04           -0.00   \n",
              "x0_Hotel room                -0.01     -0.00 -0.01  -0.02           -0.01   \n",
              "x0_Private room              -0.02     -0.00 -0.02  -0.04            0.00   \n",
              "x0_Shared room                0.00     -0.00 -0.00  -0.02            0.01   \n",
              "\n",
              "                      review_scores_rating  x0_Entire home/apt  x0_Hotel room  \\\n",
              "accommodates                          0.04                0.02          -0.01   \n",
              "bedrooms                              0.00                0.00          -0.00   \n",
              "beds                                  0.02                0.02          -0.01   \n",
              "price                                 0.09                0.04          -0.02   \n",
              "minimum_nights                       -0.01               -0.00          -0.01   \n",
              "review_scores_rating                  1.00                0.02          -0.00   \n",
              "x0_Entire home/apt                    0.02                1.00          -0.10   \n",
              "x0_Hotel room                        -0.00               -0.10           1.00   \n",
              "x0_Private room                      -0.02               -0.96          -0.04   \n",
              "x0_Shared room                       -0.02               -0.18          -0.01   \n",
              "\n",
              "                      x0_Private room  x0_Shared room  \n",
              "accommodates                    -0.02            0.00  \n",
              "bedrooms                        -0.00           -0.00  \n",
              "beds                            -0.02           -0.00  \n",
              "price                           -0.04           -0.02  \n",
              "minimum_nights                   0.00            0.01  \n",
              "review_scores_rating            -0.02           -0.02  \n",
              "x0_Entire home/apt              -0.96           -0.18  \n",
              "x0_Hotel room                   -0.04           -0.01  \n",
              "x0_Private room                  1.00           -0.07  \n",
              "x0_Shared room                  -0.07            1.00  "
            ],
            "text/html": [
              "\n",
              "  <div id=\"df-1187dbc3-d3c9-4846-9a9c-6b4b94f5c200\" class=\"colab-df-container\">\n",
              "    <div>\n",
              "<style scoped>\n",
              "    .dataframe tbody tr th:only-of-type {\n",
              "        vertical-align: middle;\n",
              "    }\n",
              "\n",
              "    .dataframe tbody tr th {\n",
              "        vertical-align: top;\n",
              "    }\n",
              "\n",
              "    .dataframe thead th {\n",
              "        text-align: right;\n",
              "    }\n",
              "</style>\n",
              "<table border=\"1\" class=\"dataframe\">\n",
              "  <thead>\n",
              "    <tr style=\"text-align: right;\">\n",
              "      <th></th>\n",
              "      <th>accommodates</th>\n",
              "      <th>bedrooms</th>\n",
              "      <th>beds</th>\n",
              "      <th>price</th>\n",
              "      <th>minimum_nights</th>\n",
              "      <th>review_scores_rating</th>\n",
              "      <th>x0_Entire home/apt</th>\n",
              "      <th>x0_Hotel room</th>\n",
              "      <th>x0_Private room</th>\n",
              "      <th>x0_Shared room</th>\n",
              "    </tr>\n",
              "  </thead>\n",
              "  <tbody>\n",
              "    <tr>\n",
              "      <th>accommodates</th>\n",
              "      <td>1.00</td>\n",
              "      <td>0.64</td>\n",
              "      <td>0.85</td>\n",
              "      <td>0.59</td>\n",
              "      <td>-0.00</td>\n",
              "      <td>0.04</td>\n",
              "      <td>0.02</td>\n",
              "      <td>-0.01</td>\n",
              "      <td>-0.02</td>\n",
              "      <td>0.00</td>\n",
              "    </tr>\n",
              "    <tr>\n",
              "      <th>bedrooms</th>\n",
              "      <td>0.64</td>\n",
              "      <td>1.00</td>\n",
              "      <td>0.66</td>\n",
              "      <td>0.33</td>\n",
              "      <td>-0.00</td>\n",
              "      <td>0.00</td>\n",
              "      <td>0.00</td>\n",
              "      <td>-0.00</td>\n",
              "      <td>-0.00</td>\n",
              "      <td>-0.00</td>\n",
              "    </tr>\n",
              "    <tr>\n",
              "      <th>beds</th>\n",
              "      <td>0.85</td>\n",
              "      <td>0.66</td>\n",
              "      <td>1.00</td>\n",
              "      <td>0.50</td>\n",
              "      <td>0.00</td>\n",
              "      <td>0.02</td>\n",
              "      <td>0.02</td>\n",
              "      <td>-0.01</td>\n",
              "      <td>-0.02</td>\n",
              "      <td>-0.00</td>\n",
              "    </tr>\n",
              "    <tr>\n",
              "      <th>price</th>\n",
              "      <td>0.59</td>\n",
              "      <td>0.33</td>\n",
              "      <td>0.50</td>\n",
              "      <td>1.00</td>\n",
              "      <td>-0.02</td>\n",
              "      <td>0.09</td>\n",
              "      <td>0.04</td>\n",
              "      <td>-0.02</td>\n",
              "      <td>-0.04</td>\n",
              "      <td>-0.02</td>\n",
              "    </tr>\n",
              "    <tr>\n",
              "      <th>minimum_nights</th>\n",
              "      <td>-0.00</td>\n",
              "      <td>-0.00</td>\n",
              "      <td>0.00</td>\n",
              "      <td>-0.02</td>\n",
              "      <td>1.00</td>\n",
              "      <td>-0.01</td>\n",
              "      <td>-0.00</td>\n",
              "      <td>-0.01</td>\n",
              "      <td>0.00</td>\n",
              "      <td>0.01</td>\n",
              "    </tr>\n",
              "    <tr>\n",
              "      <th>review_scores_rating</th>\n",
              "      <td>0.04</td>\n",
              "      <td>0.00</td>\n",
              "      <td>0.02</td>\n",
              "      <td>0.09</td>\n",
              "      <td>-0.01</td>\n",
              "      <td>1.00</td>\n",
              "      <td>0.02</td>\n",
              "      <td>-0.00</td>\n",
              "      <td>-0.02</td>\n",
              "      <td>-0.02</td>\n",
              "    </tr>\n",
              "    <tr>\n",
              "      <th>x0_Entire home/apt</th>\n",
              "      <td>0.02</td>\n",
              "      <td>0.00</td>\n",
              "      <td>0.02</td>\n",
              "      <td>0.04</td>\n",
              "      <td>-0.00</td>\n",
              "      <td>0.02</td>\n",
              "      <td>1.00</td>\n",
              "      <td>-0.10</td>\n",
              "      <td>-0.96</td>\n",
              "      <td>-0.18</td>\n",
              "    </tr>\n",
              "    <tr>\n",
              "      <th>x0_Hotel room</th>\n",
              "      <td>-0.01</td>\n",
              "      <td>-0.00</td>\n",
              "      <td>-0.01</td>\n",
              "      <td>-0.02</td>\n",
              "      <td>-0.01</td>\n",
              "      <td>-0.00</td>\n",
              "      <td>-0.10</td>\n",
              "      <td>1.00</td>\n",
              "      <td>-0.04</td>\n",
              "      <td>-0.01</td>\n",
              "    </tr>\n",
              "    <tr>\n",
              "      <th>x0_Private room</th>\n",
              "      <td>-0.02</td>\n",
              "      <td>-0.00</td>\n",
              "      <td>-0.02</td>\n",
              "      <td>-0.04</td>\n",
              "      <td>0.00</td>\n",
              "      <td>-0.02</td>\n",
              "      <td>-0.96</td>\n",
              "      <td>-0.04</td>\n",
              "      <td>1.00</td>\n",
              "      <td>-0.07</td>\n",
              "    </tr>\n",
              "    <tr>\n",
              "      <th>x0_Shared room</th>\n",
              "      <td>0.00</td>\n",
              "      <td>-0.00</td>\n",
              "      <td>-0.00</td>\n",
              "      <td>-0.02</td>\n",
              "      <td>0.01</td>\n",
              "      <td>-0.02</td>\n",
              "      <td>-0.18</td>\n",
              "      <td>-0.01</td>\n",
              "      <td>-0.07</td>\n",
              "      <td>1.00</td>\n",
              "    </tr>\n",
              "  </tbody>\n",
              "</table>\n",
              "</div>\n",
              "    <div class=\"colab-df-buttons\">\n",
              "\n",
              "  <div class=\"colab-df-container\">\n",
              "    <button class=\"colab-df-convert\" onclick=\"convertToInteractive('df-1187dbc3-d3c9-4846-9a9c-6b4b94f5c200')\"\n",
              "            title=\"Convert this dataframe to an interactive table.\"\n",
              "            style=\"display:none;\">\n",
              "\n",
              "  <svg xmlns=\"http://www.w3.org/2000/svg\" height=\"24px\" viewBox=\"0 -960 960 960\">\n",
              "    <path d=\"M120-120v-720h720v720H120Zm60-500h600v-160H180v160Zm220 220h160v-160H400v160Zm0 220h160v-160H400v160ZM180-400h160v-160H180v160Zm440 0h160v-160H620v160ZM180-180h160v-160H180v160Zm440 0h160v-160H620v160Z\"/>\n",
              "  </svg>\n",
              "    </button>\n",
              "\n",
              "  <style>\n",
              "    .colab-df-container {\n",
              "      display:flex;\n",
              "      gap: 12px;\n",
              "    }\n",
              "\n",
              "    .colab-df-convert {\n",
              "      background-color: #E8F0FE;\n",
              "      border: none;\n",
              "      border-radius: 50%;\n",
              "      cursor: pointer;\n",
              "      display: none;\n",
              "      fill: #1967D2;\n",
              "      height: 32px;\n",
              "      padding: 0 0 0 0;\n",
              "      width: 32px;\n",
              "    }\n",
              "\n",
              "    .colab-df-convert:hover {\n",
              "      background-color: #E2EBFA;\n",
              "      box-shadow: 0px 1px 2px rgba(60, 64, 67, 0.3), 0px 1px 3px 1px rgba(60, 64, 67, 0.15);\n",
              "      fill: #174EA6;\n",
              "    }\n",
              "\n",
              "    .colab-df-buttons div {\n",
              "      margin-bottom: 4px;\n",
              "    }\n",
              "\n",
              "    [theme=dark] .colab-df-convert {\n",
              "      background-color: #3B4455;\n",
              "      fill: #D2E3FC;\n",
              "    }\n",
              "\n",
              "    [theme=dark] .colab-df-convert:hover {\n",
              "      background-color: #434B5C;\n",
              "      box-shadow: 0px 1px 3px 1px rgba(0, 0, 0, 0.15);\n",
              "      filter: drop-shadow(0px 1px 2px rgba(0, 0, 0, 0.3));\n",
              "      fill: #FFFFFF;\n",
              "    }\n",
              "  </style>\n",
              "\n",
              "    <script>\n",
              "      const buttonEl =\n",
              "        document.querySelector('#df-1187dbc3-d3c9-4846-9a9c-6b4b94f5c200 button.colab-df-convert');\n",
              "      buttonEl.style.display =\n",
              "        google.colab.kernel.accessAllowed ? 'block' : 'none';\n",
              "\n",
              "      async function convertToInteractive(key) {\n",
              "        const element = document.querySelector('#df-1187dbc3-d3c9-4846-9a9c-6b4b94f5c200');\n",
              "        const dataTable =\n",
              "          await google.colab.kernel.invokeFunction('convertToInteractive',\n",
              "                                                    [key], {});\n",
              "        if (!dataTable) return;\n",
              "\n",
              "        const docLinkHtml = 'Like what you see? Visit the ' +\n",
              "          '<a target=\"_blank\" href=https://colab.research.google.com/notebooks/data_table.ipynb>data table notebook</a>'\n",
              "          + ' to learn more about interactive tables.';\n",
              "        element.innerHTML = '';\n",
              "        dataTable['output_type'] = 'display_data';\n",
              "        await google.colab.output.renderOutput(dataTable, element);\n",
              "        const docLink = document.createElement('div');\n",
              "        docLink.innerHTML = docLinkHtml;\n",
              "        element.appendChild(docLink);\n",
              "      }\n",
              "    </script>\n",
              "  </div>\n",
              "\n",
              "\n",
              "<div id=\"df-ea696552-f28c-4995-ab21-7a5b24bc631b\">\n",
              "  <button class=\"colab-df-quickchart\" onclick=\"quickchart('df-ea696552-f28c-4995-ab21-7a5b24bc631b')\"\n",
              "            title=\"Suggest charts.\"\n",
              "            style=\"display:none;\">\n",
              "\n",
              "<svg xmlns=\"http://www.w3.org/2000/svg\" height=\"24px\"viewBox=\"0 0 24 24\"\n",
              "     width=\"24px\">\n",
              "    <g>\n",
              "        <path d=\"M19 3H5c-1.1 0-2 .9-2 2v14c0 1.1.9 2 2 2h14c1.1 0 2-.9 2-2V5c0-1.1-.9-2-2-2zM9 17H7v-7h2v7zm4 0h-2V7h2v10zm4 0h-2v-4h2v4z\"/>\n",
              "    </g>\n",
              "</svg>\n",
              "  </button>\n",
              "\n",
              "<style>\n",
              "  .colab-df-quickchart {\n",
              "      --bg-color: #E8F0FE;\n",
              "      --fill-color: #1967D2;\n",
              "      --hover-bg-color: #E2EBFA;\n",
              "      --hover-fill-color: #174EA6;\n",
              "      --disabled-fill-color: #AAA;\n",
              "      --disabled-bg-color: #DDD;\n",
              "  }\n",
              "\n",
              "  [theme=dark] .colab-df-quickchart {\n",
              "      --bg-color: #3B4455;\n",
              "      --fill-color: #D2E3FC;\n",
              "      --hover-bg-color: #434B5C;\n",
              "      --hover-fill-color: #FFFFFF;\n",
              "      --disabled-bg-color: #3B4455;\n",
              "      --disabled-fill-color: #666;\n",
              "  }\n",
              "\n",
              "  .colab-df-quickchart {\n",
              "    background-color: var(--bg-color);\n",
              "    border: none;\n",
              "    border-radius: 50%;\n",
              "    cursor: pointer;\n",
              "    display: none;\n",
              "    fill: var(--fill-color);\n",
              "    height: 32px;\n",
              "    padding: 0;\n",
              "    width: 32px;\n",
              "  }\n",
              "\n",
              "  .colab-df-quickchart:hover {\n",
              "    background-color: var(--hover-bg-color);\n",
              "    box-shadow: 0 1px 2px rgba(60, 64, 67, 0.3), 0 1px 3px 1px rgba(60, 64, 67, 0.15);\n",
              "    fill: var(--button-hover-fill-color);\n",
              "  }\n",
              "\n",
              "  .colab-df-quickchart-complete:disabled,\n",
              "  .colab-df-quickchart-complete:disabled:hover {\n",
              "    background-color: var(--disabled-bg-color);\n",
              "    fill: var(--disabled-fill-color);\n",
              "    box-shadow: none;\n",
              "  }\n",
              "\n",
              "  .colab-df-spinner {\n",
              "    border: 2px solid var(--fill-color);\n",
              "    border-color: transparent;\n",
              "    border-bottom-color: var(--fill-color);\n",
              "    animation:\n",
              "      spin 1s steps(1) infinite;\n",
              "  }\n",
              "\n",
              "  @keyframes spin {\n",
              "    0% {\n",
              "      border-color: transparent;\n",
              "      border-bottom-color: var(--fill-color);\n",
              "      border-left-color: var(--fill-color);\n",
              "    }\n",
              "    20% {\n",
              "      border-color: transparent;\n",
              "      border-left-color: var(--fill-color);\n",
              "      border-top-color: var(--fill-color);\n",
              "    }\n",
              "    30% {\n",
              "      border-color: transparent;\n",
              "      border-left-color: var(--fill-color);\n",
              "      border-top-color: var(--fill-color);\n",
              "      border-right-color: var(--fill-color);\n",
              "    }\n",
              "    40% {\n",
              "      border-color: transparent;\n",
              "      border-right-color: var(--fill-color);\n",
              "      border-top-color: var(--fill-color);\n",
              "    }\n",
              "    60% {\n",
              "      border-color: transparent;\n",
              "      border-right-color: var(--fill-color);\n",
              "    }\n",
              "    80% {\n",
              "      border-color: transparent;\n",
              "      border-right-color: var(--fill-color);\n",
              "      border-bottom-color: var(--fill-color);\n",
              "    }\n",
              "    90% {\n",
              "      border-color: transparent;\n",
              "      border-bottom-color: var(--fill-color);\n",
              "    }\n",
              "  }\n",
              "</style>\n",
              "\n",
              "  <script>\n",
              "    async function quickchart(key) {\n",
              "      const quickchartButtonEl =\n",
              "        document.querySelector('#' + key + ' button');\n",
              "      quickchartButtonEl.disabled = true;  // To prevent multiple clicks.\n",
              "      quickchartButtonEl.classList.add('colab-df-spinner');\n",
              "      try {\n",
              "        const charts = await google.colab.kernel.invokeFunction(\n",
              "            'suggestCharts', [key], {});\n",
              "      } catch (error) {\n",
              "        console.error('Error during call to suggestCharts:', error);\n",
              "      }\n",
              "      quickchartButtonEl.classList.remove('colab-df-spinner');\n",
              "      quickchartButtonEl.classList.add('colab-df-quickchart-complete');\n",
              "    }\n",
              "    (() => {\n",
              "      let quickchartButtonEl =\n",
              "        document.querySelector('#df-ea696552-f28c-4995-ab21-7a5b24bc631b button');\n",
              "      quickchartButtonEl.style.display =\n",
              "        google.colab.kernel.accessAllowed ? 'block' : 'none';\n",
              "    })();\n",
              "  </script>\n",
              "</div>\n",
              "    </div>\n",
              "  </div>\n"
            ]
          },
          "metadata": {},
          "execution_count": 224
        }
      ]
    },
    {
      "cell_type": "code",
      "source": [
        "# Defining the target\n",
        "\n",
        "x = df_reg.drop(['price', 'review_scores_rating'], axis=1)\n",
        "y = df_reg.price"
      ],
      "metadata": {
        "id": "ovAKYhfYYbcR"
      },
      "execution_count": 225,
      "outputs": []
    },
    {
      "cell_type": "code",
      "source": [
        "# Splitting the data for hold out validation\n",
        "\n",
        "x_train, x_test, y_train, y_test = train_test_split(x, y, test_size=0.2, random_state=42)"
      ],
      "metadata": {
        "id": "mFiu2wQoYbfb"
      },
      "execution_count": 226,
      "outputs": []
    },
    {
      "cell_type": "code",
      "source": [
        "x_train.info()"
      ],
      "metadata": {
        "colab": {
          "base_uri": "https://localhost:8080/"
        },
        "id": "Oh0G-PU6j83S",
        "outputId": "667e6872-3289-4298-920a-d231b9b0e1b5"
      },
      "execution_count": 227,
      "outputs": [
        {
          "output_type": "stream",
          "name": "stdout",
          "text": [
            "<class 'pandas.core.frame.DataFrame'>\n",
            "Int64Index: 14747 entries, 6442 to 17372\n",
            "Data columns (total 8 columns):\n",
            " #   Column              Non-Null Count  Dtype  \n",
            "---  ------              --------------  -----  \n",
            " 0   accommodates        14747 non-null  int64  \n",
            " 1   bedrooms            14747 non-null  float64\n",
            " 2   beds                14747 non-null  float64\n",
            " 3   minimum_nights      14747 non-null  int64  \n",
            " 4   x0_Entire home/apt  14747 non-null  float64\n",
            " 5   x0_Hotel room       14747 non-null  float64\n",
            " 6   x0_Private room     14747 non-null  float64\n",
            " 7   x0_Shared room      14747 non-null  float64\n",
            "dtypes: float64(6), int64(2)\n",
            "memory usage: 1.0 MB\n"
          ]
        }
      ]
    },
    {
      "cell_type": "code",
      "source": [
        "# Pre Processing Numerical Features\n",
        "\n",
        "num_f = ['accommodates', 'beds', 'bedrooms', 'minimum_nights']\n",
        "mms = MinMaxScaler()\n",
        "\n",
        "for fea in num_f:\n",
        "  mms.fit(x_train[fea].values.reshape(-1,1))\n",
        "  x_train[f'{fea}_scaled'] = mms.transform(x_train[fea].values.reshape(-1,1))\n",
        "  x_test[f'{fea}_scaled'] = mms.transform(x_test[fea].values.reshape(-1,1))"
      ],
      "metadata": {
        "id": "oRVCu7n1E9XZ"
      },
      "execution_count": 228,
      "outputs": []
    },
    {
      "cell_type": "code",
      "source": [
        "x_train = x_train.drop(num_f, axis=1)"
      ],
      "metadata": {
        "id": "n2GC4YKjcfer"
      },
      "execution_count": 229,
      "outputs": []
    },
    {
      "cell_type": "code",
      "source": [
        "x_train.info()"
      ],
      "metadata": {
        "id": "kb4gt8TW1tWc",
        "colab": {
          "base_uri": "https://localhost:8080/"
        },
        "outputId": "f80d3867-c558-4c86-ea0a-10f027910173"
      },
      "execution_count": 230,
      "outputs": [
        {
          "output_type": "stream",
          "name": "stdout",
          "text": [
            "<class 'pandas.core.frame.DataFrame'>\n",
            "Int64Index: 14747 entries, 6442 to 17372\n",
            "Data columns (total 8 columns):\n",
            " #   Column                 Non-Null Count  Dtype  \n",
            "---  ------                 --------------  -----  \n",
            " 0   x0_Entire home/apt     14747 non-null  float64\n",
            " 1   x0_Hotel room          14747 non-null  float64\n",
            " 2   x0_Private room        14747 non-null  float64\n",
            " 3   x0_Shared room         14747 non-null  float64\n",
            " 4   accommodates_scaled    14747 non-null  float64\n",
            " 5   beds_scaled            14747 non-null  float64\n",
            " 6   bedrooms_scaled        14747 non-null  float64\n",
            " 7   minimum_nights_scaled  14747 non-null  float64\n",
            "dtypes: float64(8)\n",
            "memory usage: 1.0 MB\n"
          ]
        }
      ]
    },
    {
      "cell_type": "code",
      "source": [
        "x_test = x_test.drop(num_f, axis=1)"
      ],
      "metadata": {
        "id": "5AuRECtddKYu"
      },
      "execution_count": 231,
      "outputs": []
    },
    {
      "cell_type": "code",
      "source": [
        "# Pre processing the target\n",
        "\n",
        "mms.fit(y_train.values.reshape(-1, 1))\n",
        "\n",
        "y_train = mms.transform(y_train.values.reshape(-1, 1))\n",
        "y_test = mms.transform(y_test.values.reshape(-1, 1))"
      ],
      "metadata": {
        "id": "moDLMpn_03XA"
      },
      "execution_count": 232,
      "outputs": []
    },
    {
      "cell_type": "code",
      "source": [
        "# Training the model and predicting the results\n",
        "\n",
        "lr = LinearRegression()\n",
        "lr.fit(x_train, y_train)\n",
        "y_pred = lr.predict(x_test)"
      ],
      "metadata": {
        "id": "8k35jULk8vjz"
      },
      "execution_count": 233,
      "outputs": []
    },
    {
      "cell_type": "code",
      "source": [
        "# Checking the metrics\n",
        "\n",
        "r2 = r2_score(y_test, y_pred)\n",
        "round(r2, 2)"
      ],
      "metadata": {
        "id": "i_hPQ_Q_-J65",
        "colab": {
          "base_uri": "https://localhost:8080/"
        },
        "outputId": "f9718b9b-8459-41a8-9eeb-36436c3e9bfc"
      },
      "execution_count": 234,
      "outputs": [
        {
          "output_type": "execute_result",
          "data": {
            "text/plain": [
              "0.35"
            ]
          },
          "metadata": {},
          "execution_count": 234
        }
      ]
    },
    {
      "cell_type": "code",
      "source": [
        "mae = mean_absolute_error(y_test, y_pred)\n",
        "round(mae, 2)"
      ],
      "metadata": {
        "id": "567DfL4e_T2L",
        "colab": {
          "base_uri": "https://localhost:8080/"
        },
        "outputId": "d98fa957-8601-4fca-9ecf-82a0b47d9946"
      },
      "execution_count": 235,
      "outputs": [
        {
          "output_type": "execute_result",
          "data": {
            "text/plain": [
              "0.12"
            ]
          },
          "metadata": {},
          "execution_count": 235
        }
      ]
    },
    {
      "cell_type": "code",
      "source": [
        "mse = mean_squared_error(y_test, y_pred)\n",
        "round(mse, 2)"
      ],
      "metadata": {
        "id": "j-EF2VwJ_cP-",
        "colab": {
          "base_uri": "https://localhost:8080/"
        },
        "outputId": "09c56375-2f2b-4903-c4f9-da1a20196fe0"
      },
      "execution_count": 236,
      "outputs": [
        {
          "output_type": "execute_result",
          "data": {
            "text/plain": [
              "0.03"
            ]
          },
          "metadata": {},
          "execution_count": 236
        }
      ]
    },
    {
      "cell_type": "markdown",
      "source": [
        "## Testing a Decision Tree Regression"
      ],
      "metadata": {
        "id": "Z9pwwlr39POV"
      }
    },
    {
      "cell_type": "code",
      "source": [
        "# Choosing a different dataset than the one used for Linear Regression\n",
        "\n",
        "df_analysis.info()"
      ],
      "metadata": {
        "colab": {
          "base_uri": "https://localhost:8080/"
        },
        "id": "_maw8VgV7Wdi",
        "outputId": "1b51057c-9933-49c0-cbb7-1b960f6da003"
      },
      "execution_count": 237,
      "outputs": [
        {
          "output_type": "stream",
          "name": "stdout",
          "text": [
            "<class 'pandas.core.frame.DataFrame'>\n",
            "Int64Index: 20291 entries, 0 to 22252\n",
            "Data columns (total 11 columns):\n",
            " #   Column                  Non-Null Count  Dtype  \n",
            "---  ------                  --------------  -----  \n",
            " 0   neighbourhood_cleansed  20291 non-null  object \n",
            " 1   property_type           20291 non-null  object \n",
            " 2   room_type               20291 non-null  object \n",
            " 3   accommodates            20291 non-null  int64  \n",
            " 4   bathrooms_text          20291 non-null  object \n",
            " 5   bedrooms                20291 non-null  float64\n",
            " 6   beds                    20291 non-null  float64\n",
            " 7   price                   20291 non-null  float64\n",
            " 8   minimum_nights          20291 non-null  int64  \n",
            " 9   number_of_reviews_ltm   20291 non-null  int64  \n",
            " 10  review_scores_rating    20291 non-null  float64\n",
            "dtypes: float64(4), int64(3), object(4)\n",
            "memory usage: 2.4+ MB\n"
          ]
        }
      ]
    },
    {
      "cell_type": "code",
      "source": [
        "# Pre Processing Categorical Features\n",
        "\n",
        "le = LabelEncoder()"
      ],
      "metadata": {
        "id": "_ne45iev7mLk"
      },
      "execution_count": 238,
      "outputs": []
    },
    {
      "cell_type": "code",
      "source": [
        "le_fea = ['neighbourhood_cleansed', 'property_type', 'room_type', 'bathrooms_text']"
      ],
      "metadata": {
        "id": "40Upowo6MT02"
      },
      "execution_count": 239,
      "outputs": []
    },
    {
      "cell_type": "code",
      "source": [
        "for fea in le_fea:\n",
        "  df_analysis[fea] = le.fit_transform(df_analysis[fea])"
      ],
      "metadata": {
        "id": "61QsPRhTMdsN"
      },
      "execution_count": 240,
      "outputs": []
    },
    {
      "cell_type": "code",
      "source": [
        "df_analysis.info()"
      ],
      "metadata": {
        "colab": {
          "base_uri": "https://localhost:8080/"
        },
        "id": "7PFLsGjm8C4S",
        "outputId": "7b591797-52ed-4506-d3ae-3216ae15b102"
      },
      "execution_count": 241,
      "outputs": [
        {
          "output_type": "stream",
          "name": "stdout",
          "text": [
            "<class 'pandas.core.frame.DataFrame'>\n",
            "Int64Index: 20291 entries, 0 to 22252\n",
            "Data columns (total 11 columns):\n",
            " #   Column                  Non-Null Count  Dtype  \n",
            "---  ------                  --------------  -----  \n",
            " 0   neighbourhood_cleansed  20291 non-null  int64  \n",
            " 1   property_type           20291 non-null  int64  \n",
            " 2   room_type               20291 non-null  int64  \n",
            " 3   accommodates            20291 non-null  int64  \n",
            " 4   bathrooms_text          20291 non-null  int64  \n",
            " 5   bedrooms                20291 non-null  float64\n",
            " 6   beds                    20291 non-null  float64\n",
            " 7   price                   20291 non-null  float64\n",
            " 8   minimum_nights          20291 non-null  int64  \n",
            " 9   number_of_reviews_ltm   20291 non-null  int64  \n",
            " 10  review_scores_rating    20291 non-null  float64\n",
            "dtypes: float64(4), int64(7)\n",
            "memory usage: 2.4 MB\n"
          ]
        }
      ]
    },
    {
      "cell_type": "code",
      "source": [
        "# Defining the target\n",
        "\n",
        "x_tree = df_analysis.drop(['price', 'review_scores_rating', 'number_of_reviews_ltm'], axis=1)\n",
        "y_tree = df_analysis.price"
      ],
      "metadata": {
        "id": "_2qIn9ZJj_Ge"
      },
      "execution_count": 242,
      "outputs": []
    },
    {
      "cell_type": "code",
      "source": [
        "# Splitting for hold out validation\n",
        "\n",
        "x_train, x_test, y_train, y_test = train_test_split(x_tree, y_tree, test_size=0.2, random_state=42)"
      ],
      "metadata": {
        "id": "haWm0nckkDuA"
      },
      "execution_count": 243,
      "outputs": []
    },
    {
      "cell_type": "code",
      "source": [
        "# Training the model and predicting the results\n",
        "\n",
        "dtr = DecisionTreeRegressor(max_depth=6)\n",
        "dtr.fit(x_train, y_train)\n",
        "y_pred = dtr.predict(x_test)"
      ],
      "metadata": {
        "id": "Yc2x_u28ruAt"
      },
      "execution_count": 244,
      "outputs": []
    },
    {
      "cell_type": "code",
      "source": [
        "# Checking the metrics\n",
        "\n",
        "r2 = r2_score(y_test, y_pred)\n",
        "round(r2, 2)"
      ],
      "metadata": {
        "colab": {
          "base_uri": "https://localhost:8080/"
        },
        "id": "W5S2Bgj2Crm0",
        "outputId": "74c38f06-a13e-481e-d3ae-80b4b26e58dc"
      },
      "execution_count": 245,
      "outputs": [
        {
          "output_type": "execute_result",
          "data": {
            "text/plain": [
              "0.49"
            ]
          },
          "metadata": {},
          "execution_count": 245
        }
      ]
    },
    {
      "cell_type": "code",
      "source": [
        "mae = mean_absolute_error(y_test, y_pred)\n",
        "round(mae, 2)"
      ],
      "metadata": {
        "colab": {
          "base_uri": "https://localhost:8080/"
        },
        "id": "csuwZXyvC0Et",
        "outputId": "5a013ba8-54b1-4f51-a42d-7042a27512f2"
      },
      "execution_count": 246,
      "outputs": [
        {
          "output_type": "execute_result",
          "data": {
            "text/plain": [
              "47.23"
            ]
          },
          "metadata": {},
          "execution_count": 246
        }
      ]
    },
    {
      "cell_type": "code",
      "source": [
        "mse = mean_squared_error(y_test, y_pred)\n",
        "round(mse, 2)"
      ],
      "metadata": {
        "colab": {
          "base_uri": "https://localhost:8080/"
        },
        "id": "aJwtRC-CC15S",
        "outputId": "63b318a7-b0c3-4dfc-9522-098f73eb8f11"
      },
      "execution_count": 247,
      "outputs": [
        {
          "output_type": "execute_result",
          "data": {
            "text/plain": [
              "4094.32"
            ]
          },
          "metadata": {},
          "execution_count": 247
        }
      ]
    },
    {
      "cell_type": "markdown",
      "source": [
        "## Testing a Random Forest Regression"
      ],
      "metadata": {
        "id": "5jQ0eKzBAo5T"
      }
    },
    {
      "cell_type": "code",
      "source": [
        "# Training the model and predicting the results\n",
        "\n",
        "rfr = RandomForestRegressor()\n",
        "rfr.fit(x_train, y_train)\n",
        "y_pred = rfr.predict(x_test)"
      ],
      "metadata": {
        "id": "sf3hddtg_h-D"
      },
      "execution_count": 248,
      "outputs": []
    },
    {
      "cell_type": "code",
      "source": [
        "# Checking the metrics\n",
        "\n",
        "round(r2_score(y_test, y_pred), 2)"
      ],
      "metadata": {
        "id": "7oNYJEeIAbvL",
        "colab": {
          "base_uri": "https://localhost:8080/"
        },
        "outputId": "009ff988-5c7f-4b7b-9e4d-47bdc49ddc36"
      },
      "execution_count": 249,
      "outputs": [
        {
          "output_type": "execute_result",
          "data": {
            "text/plain": [
              "0.49"
            ]
          },
          "metadata": {},
          "execution_count": 249
        }
      ]
    },
    {
      "cell_type": "code",
      "source": [
        "round(mean_absolute_error(y_test, y_pred), 2)"
      ],
      "metadata": {
        "colab": {
          "base_uri": "https://localhost:8080/"
        },
        "id": "VdOx94OjBj31",
        "outputId": "bc751067-3770-4b63-c998-fcfa0bae087f"
      },
      "execution_count": 250,
      "outputs": [
        {
          "output_type": "execute_result",
          "data": {
            "text/plain": [
              "46.0"
            ]
          },
          "metadata": {},
          "execution_count": 250
        }
      ]
    },
    {
      "cell_type": "code",
      "source": [
        "round(mean_squared_error(y_test, y_pred), 2)"
      ],
      "metadata": {
        "colab": {
          "base_uri": "https://localhost:8080/"
        },
        "id": "LSqukJQ1BkQP",
        "outputId": "89070e3f-ea69-4294-f4ed-ce4e69e7cbdf"
      },
      "execution_count": 251,
      "outputs": [
        {
          "output_type": "execute_result",
          "data": {
            "text/plain": [
              "4062.4"
            ]
          },
          "metadata": {},
          "execution_count": 251
        }
      ]
    },
    {
      "cell_type": "code",
      "source": [
        "y_train.describe()"
      ],
      "metadata": {
        "colab": {
          "base_uri": "https://localhost:8080/"
        },
        "id": "uZvZqLpNn_sM",
        "outputId": "72857b6a-d6b8-455e-a23b-4309f2dbe8a7"
      },
      "execution_count": 252,
      "outputs": [
        {
          "output_type": "execute_result",
          "data": {
            "text/plain": [
              "count    16232.000000\n",
              "mean       160.402353\n",
              "std         91.741271\n",
              "min          0.000000\n",
              "25%         90.000000\n",
              "50%        144.000000\n",
              "75%        207.000000\n",
              "max        449.000000\n",
              "Name: price, dtype: float64"
            ]
          },
          "metadata": {},
          "execution_count": 252
        }
      ]
    },
    {
      "cell_type": "code",
      "source": [
        "# Plotting feature importances\n",
        "\n",
        "plt.barh(list(x_train.columns), rfr.feature_importances_)"
      ],
      "metadata": {
        "colab": {
          "base_uri": "https://localhost:8080/",
          "height": 448
        },
        "id": "Zef181sGy1Ny",
        "outputId": "f87ec284-9e5c-4e79-8307-6101595ae5b0"
      },
      "execution_count": 253,
      "outputs": [
        {
          "output_type": "execute_result",
          "data": {
            "text/plain": [
              "<BarContainer object of 8 artists>"
            ]
          },
          "metadata": {},
          "execution_count": 253
        },
        {
          "output_type": "display_data",
          "data": {
            "text/plain": [
              "<Figure size 640x480 with 1 Axes>"
            ],
            "image/png": "[encoded data removed]"
          },
          "metadata": {}
        }
      ]
    },
    {
      "cell_type": "markdown",
      "source": [
        "## Conclusion for price prediction"
      ],
      "metadata": {
        "id": "0QzVF9JIvsEo"
      }
    },
    {
      "cell_type": "markdown",
      "source": [
        "*   In an effort to predict the price of a listing, the Random Forest Regressor provided the best result - 52% of the price can be explained by the model\n",
        "*   The number of bedrooms is the most important feature to the model\n",
        "*   Further studies might include feature engineering (including treating 'amenities' and adding more categorical features), using feature selection models and using PCA for dimension reduction\n",
        "\n"
      ],
      "metadata": {
        "id": "bpqjACd8vtyB"
      }
    },
    {
      "cell_type": "markdown",
      "source": [
        "# Predicting occupancy rate above 50%\n"
      ],
      "metadata": {
        "id": "BAR20picrSen"
      }
    },
    {
      "cell_type": "code",
      "source": [
        "# Selecting a Dataframe for classification models\n",
        "\n",
        "df_analysis.info()"
      ],
      "metadata": {
        "colab": {
          "base_uri": "https://localhost:8080/"
        },
        "outputId": "95fd5817-6d43-4d08-f064-fda341ff2578",
        "id": "Qd0PU7OerSen"
      },
      "execution_count": 254,
      "outputs": [
        {
          "output_type": "stream",
          "name": "stdout",
          "text": [
            "<class 'pandas.core.frame.DataFrame'>\n",
            "Int64Index: 20291 entries, 0 to 22252\n",
            "Data columns (total 11 columns):\n",
            " #   Column                  Non-Null Count  Dtype  \n",
            "---  ------                  --------------  -----  \n",
            " 0   neighbourhood_cleansed  20291 non-null  int64  \n",
            " 1   property_type           20291 non-null  int64  \n",
            " 2   room_type               20291 non-null  int64  \n",
            " 3   accommodates            20291 non-null  int64  \n",
            " 4   bathrooms_text          20291 non-null  int64  \n",
            " 5   bedrooms                20291 non-null  float64\n",
            " 6   beds                    20291 non-null  float64\n",
            " 7   price                   20291 non-null  float64\n",
            " 8   minimum_nights          20291 non-null  int64  \n",
            " 9   number_of_reviews_ltm   20291 non-null  int64  \n",
            " 10  review_scores_rating    20291 non-null  float64\n",
            "dtypes: float64(4), int64(7)\n",
            "memory usage: 2.4 MB\n"
          ]
        }
      ]
    },
    {
      "cell_type": "code",
      "source": [
        "# Calculating the occupancy rate\n",
        "\n",
        "df_analysis['occ_rate'] = round((df_analysis.minimum_nights * df_analysis.number_of_reviews_ltm) / 365, 2)"
      ],
      "metadata": {
        "id": "f8X8d2jsQzX6"
      },
      "execution_count": 255,
      "outputs": []
    },
    {
      "cell_type": "code",
      "source": [
        "# Creating a binary feature to define occupancy above 50%\n",
        "\n",
        "df_analysis['occ_rate_bin'] = df_analysis['occ_rate'].apply(lambda x: 1 if x > 0.50 else 0)"
      ],
      "metadata": {
        "id": "WAndGwx0Wgb1"
      },
      "execution_count": 256,
      "outputs": []
    },
    {
      "cell_type": "code",
      "source": [
        "# Checking the balance\n",
        "\n",
        "df_analysis.occ_rate_bin.value_counts()"
      ],
      "metadata": {
        "colab": {
          "base_uri": "https://localhost:8080/"
        },
        "id": "dXwPSFQCQzje",
        "outputId": "bb0f8fb2-b200-4eb1-8fcc-927e4d2f9db7"
      },
      "execution_count": 257,
      "outputs": [
        {
          "output_type": "execute_result",
          "data": {
            "text/plain": [
              "0    20161\n",
              "1      130\n",
              "Name: occ_rate_bin, dtype: int64"
            ]
          },
          "metadata": {},
          "execution_count": 257
        }
      ]
    },
    {
      "cell_type": "markdown",
      "source": [
        "The dataset is imbalanced"
      ],
      "metadata": {
        "id": "umc07H49wwaW"
      }
    },
    {
      "cell_type": "code",
      "source": [
        "df_analysis = df_analysis.drop('occ_rate', axis=1)"
      ],
      "metadata": {
        "id": "lXIlniZ0vKEE"
      },
      "execution_count": 258,
      "outputs": []
    },
    {
      "cell_type": "code",
      "source": [
        "# Defining the target\n",
        "\n",
        "x = df_analysis.drop(['occ_rate_bin', 'minimum_nights', 'number_of_reviews_ltm', 'review_scores_rating'], axis=1)\n",
        "y = df_analysis.occ_rate_bin"
      ],
      "metadata": {
        "id": "L353NZx0pwtZ"
      },
      "execution_count": 259,
      "outputs": []
    },
    {
      "cell_type": "code",
      "source": [
        "# Balancing the dataset with SMOTE\n",
        "\n",
        "x_res, y_res = SMOTE(sampling_strategy='minority').fit_resample(x, y)"
      ],
      "metadata": {
        "id": "snDjzvEHYmif"
      },
      "execution_count": 260,
      "outputs": []
    },
    {
      "cell_type": "code",
      "source": [
        "# Checking balance\n",
        "\n",
        "pd.Series(y_res).value_counts(normalize=True)"
      ],
      "metadata": {
        "colab": {
          "base_uri": "https://localhost:8080/"
        },
        "id": "An12BNyTnHEB",
        "outputId": "ae9a2d51-7525-48f2-b243-005a0f030274"
      },
      "execution_count": 261,
      "outputs": [
        {
          "output_type": "execute_result",
          "data": {
            "text/plain": [
              "0    0.5\n",
              "1    0.5\n",
              "Name: occ_rate_bin, dtype: float64"
            ]
          },
          "metadata": {},
          "execution_count": 261
        }
      ]
    },
    {
      "cell_type": "markdown",
      "source": [
        "## Predicting occupancy rate (above = 1 or below 50% = 0) with a Decision Tree Classifier"
      ],
      "metadata": {
        "id": "S9MDu_ct0NSQ"
      }
    },
    {
      "cell_type": "code",
      "source": [
        "# Splitting for hold out validation\n",
        "\n",
        "x_train, x_test, y_train, y_test = train_test_split(x_res, y_res, test_size=0.2, random_state=42)"
      ],
      "metadata": {
        "id": "5qAHX1RwsCs1"
      },
      "execution_count": 262,
      "outputs": []
    },
    {
      "cell_type": "code",
      "source": [
        "# Training the model and predicting the price\n",
        "\n",
        "dt = DecisionTreeClassifier()\n",
        "dt.fit(x_train, y_train)\n",
        "y_pred = dt.predict(x_test)"
      ],
      "metadata": {
        "id": "NCgeszGbqyle"
      },
      "execution_count": 263,
      "outputs": []
    },
    {
      "cell_type": "code",
      "source": [
        "# Confusion Matrix\n",
        "\n",
        "ConfusionMatrixDisplay.from_predictions(y_test, y_pred)"
      ],
      "metadata": {
        "colab": {
          "base_uri": "https://localhost:8080/",
          "height": 467
        },
        "id": "w6kYNp0mqztk",
        "outputId": "558096c0-f29d-43ff-f68a-e9c9f130b864"
      },
      "execution_count": 264,
      "outputs": [
        {
          "output_type": "execute_result",
          "data": {
            "text/plain": [
              "<sklearn.metrics._plot.confusion_matrix.ConfusionMatrixDisplay at 0x7ed37569d000>"
            ]
          },
          "metadata": {},
          "execution_count": 264
        },
        {
          "output_type": "display_data",
          "data": {
            "text/plain": [
              "<Figure size 640x480 with 2 Axes>"
            ],
            "image/png": "[encoded data removed]"
          },
          "metadata": {}
        }
      ]
    },
    {
      "cell_type": "code",
      "source": [
        "# Classification Report\n",
        "\n",
        "print(classification_report(y_test, y_pred))"
      ],
      "metadata": {
        "colab": {
          "base_uri": "https://localhost:8080/"
        },
        "id": "D0JuRVM4qzws",
        "outputId": "fbb2f2f4-d4df-4415-90fe-0f42fd555665"
      },
      "execution_count": 265,
      "outputs": [
        {
          "output_type": "stream",
          "name": "stdout",
          "text": [
            "              precision    recall  f1-score   support\n",
            "\n",
            "           0       0.98      0.99      0.98      4020\n",
            "           1       0.99      0.98      0.98      4045\n",
            "\n",
            "    accuracy                           0.98      8065\n",
            "   macro avg       0.98      0.98      0.98      8065\n",
            "weighted avg       0.98      0.98      0.98      8065\n",
            "\n"
          ]
        }
      ]
    },
    {
      "cell_type": "code",
      "source": [
        "# Feature importances\n",
        "\n",
        "plt.bar(x_train.columns, dt.feature_importances_)\n",
        "plt.xticks(rotation='vertical')"
      ],
      "metadata": {
        "colab": {
          "base_uri": "https://localhost:8080/",
          "height": 756
        },
        "id": "jT3sxAa9qzzO",
        "outputId": "3602f38d-5b7a-4c47-8b69-83abb37d4c63"
      },
      "execution_count": 266,
      "outputs": [
        {
          "output_type": "execute_result",
          "data": {
            "text/plain": [
              "([0, 1, 2, 3, 4, 5, 6, 7],\n",
              " [Text(0, 0, 'neighbourhood_cleansed'),\n",
              "  Text(1, 0, 'property_type'),\n",
              "  Text(2, 0, 'room_type'),\n",
              "  Text(3, 0, 'accommodates'),\n",
              "  Text(4, 0, 'bathrooms_text'),\n",
              "  Text(5, 0, 'bedrooms'),\n",
              "  Text(6, 0, 'beds'),\n",
              "  Text(7, 0, 'price')])"
            ]
          },
          "metadata": {},
          "execution_count": 266
        },
        {
          "output_type": "display_data",
          "data": {
            "text/plain": [
              "<Figure size 640x480 with 1 Axes>"
            ],
            "image/png": "[encoded data removed]"
          },
          "metadata": {}
        }
      ]
    },
    {
      "cell_type": "markdown",
      "source": [
        "## Conclusion for occupancy rate prediction"
      ],
      "metadata": {
        "id": "vSMTlLfAxyYM"
      }
    },
    {
      "cell_type": "markdown",
      "source": [
        "\n",
        "\n",
        "*   After balancing the dataset, the Decision Tree Classifier was able to predict with 98% accuracy wheter a listing will be occupied more than 50% of the year\n",
        "*  Bedrooms and price are the most important features for the model\n",
        "\n"
      ],
      "metadata": {
        "id": "RxqWCzcex20q"
      }
    },
    {
      "cell_type": "markdown",
      "source": [
        "# Predicting a high rating (above 4)"
      ],
      "metadata": {
        "id": "wdzBcBvT75Vq"
      }
    },
    {
      "cell_type": "code",
      "source": [
        "# Choosing the dataset\n",
        "\n",
        "df_reg.info()"
      ],
      "metadata": {
        "colab": {
          "base_uri": "https://localhost:8080/"
        },
        "id": "HuGeLPeY81cM",
        "outputId": "6cfc357f-56fd-4191-a722-4a1fb931684f"
      },
      "execution_count": 267,
      "outputs": [
        {
          "output_type": "stream",
          "name": "stdout",
          "text": [
            "<class 'pandas.core.frame.DataFrame'>\n",
            "Int64Index: 18434 entries, 0 to 20290\n",
            "Data columns (total 10 columns):\n",
            " #   Column                Non-Null Count  Dtype  \n",
            "---  ------                --------------  -----  \n",
            " 0   accommodates          18434 non-null  int64  \n",
            " 1   bedrooms              18434 non-null  float64\n",
            " 2   beds                  18434 non-null  float64\n",
            " 3   price                 18434 non-null  float64\n",
            " 4   minimum_nights        18434 non-null  int64  \n",
            " 5   review_scores_rating  18434 non-null  float64\n",
            " 6   x0_Entire home/apt    18434 non-null  float64\n",
            " 7   x0_Hotel room         18434 non-null  float64\n",
            " 8   x0_Private room       18434 non-null  float64\n",
            " 9   x0_Shared room        18434 non-null  float64\n",
            "dtypes: float64(8), int64(2)\n",
            "memory usage: 1.5 MB\n"
          ]
        }
      ]
    },
    {
      "cell_type": "code",
      "source": [
        "# Creating the High Rating feature according to Review Scores Rating (above or below 4)\n",
        "\n",
        "df_reg['high_rating'] = df_reg['review_scores_rating'].apply(lambda x: 1 if x > 4 else 0)"
      ],
      "metadata": {
        "id": "RN2oOmreYClg"
      },
      "execution_count": 298,
      "outputs": []
    },
    {
      "cell_type": "code",
      "source": [
        "# Checking the balance\n",
        "\n",
        "df_reg.high_rating.value_counts()"
      ],
      "metadata": {
        "colab": {
          "base_uri": "https://localhost:8080/"
        },
        "id": "154Or4FaYeIf",
        "outputId": "c8523e01-e609-4c34-bb36-52db9d9e003e"
      },
      "execution_count": 299,
      "outputs": [
        {
          "output_type": "execute_result",
          "data": {
            "text/plain": [
              "1    17081\n",
              "0     1353\n",
              "Name: high_rating, dtype: int64"
            ]
          },
          "metadata": {},
          "execution_count": 299
        }
      ]
    },
    {
      "cell_type": "markdown",
      "source": [
        "The dataset is imbalanced"
      ],
      "metadata": {
        "id": "Yn8iIT1h0xLO"
      }
    },
    {
      "cell_type": "code",
      "source": [
        "# Defining the target\n",
        "\n",
        "x = df_reg.drop(['review_scores_rating', 'high_rating', 'minimum_nights'], axis=1)\n",
        "y = df_reg.high_rating"
      ],
      "metadata": {
        "id": "_O19Y5XyxA5E"
      },
      "execution_count": 300,
      "outputs": []
    },
    {
      "cell_type": "code",
      "source": [
        "# Balancing the dataset\n",
        "\n",
        "x_res, y_res = SMOTE(sampling_strategy='minority').fit_resample(x, y)"
      ],
      "metadata": {
        "id": "mjRjXo0uxA7u"
      },
      "execution_count": 301,
      "outputs": []
    },
    {
      "cell_type": "code",
      "source": [
        "# Checking balance\n",
        "\n",
        "pd.Series(y_res).value_counts(normalize=True)"
      ],
      "metadata": {
        "colab": {
          "base_uri": "https://localhost:8080/"
        },
        "id": "ycWGsDwxxA-S",
        "outputId": "3187bb79-8ac2-49da-e69b-06615dabd93e"
      },
      "execution_count": 302,
      "outputs": [
        {
          "output_type": "execute_result",
          "data": {
            "text/plain": [
              "1    0.5\n",
              "0    0.5\n",
              "Name: high_rating, dtype: float64"
            ]
          },
          "metadata": {},
          "execution_count": 302
        }
      ]
    },
    {
      "cell_type": "code",
      "source": [
        "num_fea = x_res.columns[:-4]\n",
        "num_fea"
      ],
      "metadata": {
        "id": "EyIPLE1B-4Pr",
        "colab": {
          "base_uri": "https://localhost:8080/"
        },
        "outputId": "eeda3164-8ff4-4775-afbe-f13fc1fcfdae"
      },
      "execution_count": 303,
      "outputs": [
        {
          "output_type": "execute_result",
          "data": {
            "text/plain": [
              "Index(['accommodates', 'bedrooms', 'beds', 'price'], dtype='object')"
            ]
          },
          "metadata": {},
          "execution_count": 303
        }
      ]
    },
    {
      "cell_type": "code",
      "source": [
        "# Splitting the data for hold out validation\n",
        "\n",
        "x_train, x_test, y_train, y_test = train_test_split(x_res, y_res, test_size=0.2, random_state=42)"
      ],
      "metadata": {
        "id": "BkESAULM_SN3"
      },
      "execution_count": 304,
      "outputs": []
    },
    {
      "cell_type": "code",
      "source": [
        "# Pre Processing Numerical Features\n",
        "\n",
        "for fea in num_fea:\n",
        "\n",
        "  mms.fit(x_train[fea].values.reshape(-1,1))\n",
        "  x_train[f'{fea}_scaled'] = mms.transform(x_train[fea].values.reshape(-1,1))\n",
        "  x_test[f'{fea}_scaled'] = mms.transform(x_test[fea].values.reshape(-1,1))"
      ],
      "metadata": {
        "id": "w_rxXh_F92RF"
      },
      "execution_count": 305,
      "outputs": []
    },
    {
      "cell_type": "code",
      "source": [
        "x_train = x_train.drop(num_fea, axis=1)"
      ],
      "metadata": {
        "id": "TzTitJrMXMie"
      },
      "execution_count": 306,
      "outputs": []
    },
    {
      "cell_type": "code",
      "source": [
        "x_test = x_test.drop(num_fea, axis=1)"
      ],
      "metadata": {
        "id": "5ItPbFLzXYNV"
      },
      "execution_count": 307,
      "outputs": []
    },
    {
      "cell_type": "markdown",
      "source": [
        "# Predicting high rating review score with Logistic Regression"
      ],
      "metadata": {
        "id": "LnAjgAj15OmW"
      }
    },
    {
      "cell_type": "code",
      "source": [
        "# Training the model and predicting the result\n",
        "\n",
        "lr = LogisticRegression()\n",
        "lr.fit(x_train, y_train)\n",
        "y_pred = lr.predict(x_test)"
      ],
      "metadata": {
        "id": "zezxnj-AxMB-"
      },
      "execution_count": 308,
      "outputs": []
    },
    {
      "cell_type": "code",
      "source": [
        "ConfusionMatrixDisplay.from_predictions(y_test, y_pred)"
      ],
      "metadata": {
        "colab": {
          "base_uri": "https://localhost:8080/",
          "height": 467
        },
        "id": "IPk2X4QRxwKF",
        "outputId": "09ddc8c5-891a-4dd0-fd0b-f4214cd8c35f"
      },
      "execution_count": 309,
      "outputs": [
        {
          "output_type": "execute_result",
          "data": {
            "text/plain": [
              "<sklearn.metrics._plot.confusion_matrix.ConfusionMatrixDisplay at 0x7ed36511d3f0>"
            ]
          },
          "metadata": {},
          "execution_count": 309
        },
        {
          "output_type": "display_data",
          "data": {
            "text/plain": [
              "<Figure size 640x480 with 2 Axes>"
            ],
            "image/png": "[encoded data removed]"
          },
          "metadata": {}
        }
      ]
    },
    {
      "cell_type": "code",
      "source": [
        "print(classification_report(y_test, y_pred))"
      ],
      "metadata": {
        "id": "KudFAl_sx8Rv",
        "colab": {
          "base_uri": "https://localhost:8080/"
        },
        "outputId": "ed256118-0bfb-41df-a57a-8d995d85e6a1"
      },
      "execution_count": 310,
      "outputs": [
        {
          "output_type": "stream",
          "name": "stdout",
          "text": [
            "              precision    recall  f1-score   support\n",
            "\n",
            "           0       0.55      0.57      0.56      3398\n",
            "           1       0.56      0.55      0.56      3435\n",
            "\n",
            "    accuracy                           0.56      6833\n",
            "   macro avg       0.56      0.56      0.56      6833\n",
            "weighted avg       0.56      0.56      0.56      6833\n",
            "\n"
          ]
        }
      ]
    },
    {
      "cell_type": "markdown",
      "source": [
        "## Conclusion for high rating prediction"
      ],
      "metadata": {
        "id": "EGCpUAR65qum"
      }
    },
    {
      "cell_type": "markdown",
      "source": [
        "\n",
        "*   A rating is considered high if it is above 4 (in a range of 0 - 5)\n",
        "*   In order to predict whether or not the rating would be high, I used the Logistic Regression Model\n",
        "*   After balancing the dataset, the model was able to predict high rating with 56% accuracy\n",
        "\n"
      ],
      "metadata": {
        "id": "Jnr-iv6I5ur_"
      }
    }
  ]
}